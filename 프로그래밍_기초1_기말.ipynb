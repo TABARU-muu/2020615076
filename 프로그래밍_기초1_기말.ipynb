{
  "nbformat": 4,
  "nbformat_minor": 0,
  "metadata": {
    "colab": {
      "provenance": []
    },
    "kernelspec": {
      "name": "python3",
      "display_name": "Python 3"
    },
    "language_info": {
      "name": "python"
    }
  },
  "cells": [
    {
      "cell_type": "code",
      "source": [
        "# 예제 6-1\n",
        "member = input('회원이십니까(y/n)')\n",
        "if member == 'y':\n",
        "  print('어서 오십시오.')"
      ],
      "metadata": {
        "colab": {
          "base_uri": "https://localhost:8080/"
        },
        "id": "k4AONDmEtZ_u",
        "outputId": "f3a8479a-5b55-44af-9676-54d38e293ac2"
      },
      "execution_count": null,
      "outputs": [
        {
          "name": "stdout",
          "output_type": "stream",
          "text": [
            "회원이십니까(y/n)n\n"
          ]
        }
      ]
    },
    {
      "cell_type": "code",
      "source": [
        "# 예제 6-2\n",
        "member = input('회원이십니까?(y/n)')\n",
        "if member == 'y':\n",
        "  print('어서 오십시오.')\n",
        "else:\n",
        "  print('회원가입을 해주세요.')"
      ],
      "metadata": {
        "colab": {
          "base_uri": "https://localhost:8080/"
        },
        "id": "4jvVpi92ta_z",
        "outputId": "e71180d0-808e-487a-bbc8-6df9b3bd5e00"
      },
      "execution_count": null,
      "outputs": [
        {
          "output_type": "stream",
          "name": "stdout",
          "text": [
            "회원이십니까?(y/n)0\n",
            "회원가입을 해주세요.\n"
          ]
        }
      ]
    },
    {
      "cell_type": "code",
      "source": [
        "# 예제 6-3\n",
        "age =  int(input('나이 입력: '))\n",
        "price = 2000\n",
        "if 1 <= age < 6:\n",
        "  print('입장료는 무료')\n",
        "elif 6 <= age <60 :\n",
        "  print('입장료는', price, '원')\n",
        "elif age >= 60:\n",
        "  print('입장료는', price*0.5,'원')\n",
        "else:\n",
        "  print('1살 이상의 나이를 입력해 주세요.')"
      ],
      "metadata": {
        "id": "jqxZwXiEtbDB",
        "colab": {
          "base_uri": "https://localhost:8080/"
        },
        "outputId": "db3d7124-d17f-48bb-b70e-6224267acbf8"
      },
      "execution_count": null,
      "outputs": [
        {
          "output_type": "stream",
          "name": "stdout",
          "text": [
            "나이 입력: 0\n",
            "1살 이상의 나이를 입력해 주세요.\n"
          ]
        }
      ]
    },
    {
      "cell_type": "code",
      "source": [
        "# 예제 6-5\n",
        "pocket = ['스마트폰', '교통카드','현금']\n",
        "item = input('결제 수단 입력:')\n",
        "price = 2000\n",
        "if item in pocket and item == '현금':\n",
        "  print('택시를 타세요.')\n",
        "elif item in pocket and item == '교통카드':\n",
        "  print('버스를 타세요.')\n",
        "else:\n",
        "  print('걸어가세요.')"
      ],
      "metadata": {
        "id": "Wm8DhSg3tbKQ",
        "colab": {
          "base_uri": "https://localhost:8080/"
        },
        "outputId": "29c5e7bb-f546-46a2-f876-5f6a829c0d03"
      },
      "execution_count": null,
      "outputs": [
        {
          "output_type": "stream",
          "name": "stdout",
          "text": [
            "결제 수단 입력:빈지갑\n",
            "걸어가세요.\n"
          ]
        }
      ]
    },
    {
      "cell_type": "code",
      "source": [
        "# 예제 6-7\n",
        "import random\n",
        "rps = ['가위', '바위', '보']\n",
        "com = random.choice(rps)\n",
        "player = input('가위, 바위, 보 중에서 하나 입력: ')\n",
        "if player == '가위':\n",
        "  if com == '가위':\n",
        "    result = '비김'\n",
        "  elif com == '바위':\n",
        "    result = '졌음'\n",
        "  elif com == '보':\n",
        "    result = '이김'\n",
        "elif player == '바위':\n",
        "  if com == '가위':\n",
        "      result = '이김'\n",
        "  elif com == '바위':\n",
        "      result = '비김'\n",
        "  elif com == '보':\n",
        "      result = '졌음'\n",
        "elif player == '보':\n",
        "  if com == '가위':\n",
        "      result = '졌음'\n",
        "  elif com == '바위':\n",
        "      result = '이김'\n",
        "  elif com == '보':\n",
        "      result = '비김'\n",
        "if player in rps:\n",
        "  print('나:%s, 컴퓨터:%s => %s'% (player, com, result))\n",
        "else:\n",
        "  print('잘못 입력하셨습니다. 다시 입력하세요.')\n",
        "\n"
      ],
      "metadata": {
        "id": "WIFzYE-4tbNi",
        "colab": {
          "base_uri": "https://localhost:8080/"
        },
        "outputId": "7df9ff4b-f881-4272-af9a-1c97595a356a"
      },
      "execution_count": null,
      "outputs": [
        {
          "output_type": "stream",
          "name": "stdout",
          "text": [
            "가위, 바위, 보 중에서 하나 입력: 가위\n",
            "나:가위, 컴퓨터:가위 => 비김\n"
          ]
        }
      ]
    },
    {
      "cell_type": "code",
      "source": [
        "# 실습 6-1\n",
        "year = int(input('연도 입력: '))\n",
        "if year % 4 == 0 and year % 100 != 0 or year % 400 == 0:\n",
        "  print('%d 년은 윤년' % year)\n",
        "else:\n",
        "  print('%d 년은 윤년 아님'% year)"
      ],
      "metadata": {
        "colab": {
          "base_uri": "https://localhost:8080/"
        },
        "id": "YHjm1tPO32pb",
        "outputId": "127b109a-c9ae-4eaa-8c65-a61b1722987b"
      },
      "execution_count": null,
      "outputs": [
        {
          "output_type": "stream",
          "name": "stdout",
          "text": [
            "연도 입력: 2019\n",
            "2019 년은 윤년 아님\n"
          ]
        }
      ]
    },
    {
      "cell_type": "code",
      "source": [
        "# 실습 6-2\n",
        "month = int(input('월 입력: '))\n",
        "if month < 1 or month > 12:\n",
        "  print('존재하지 않는 월!!')\n",
        "elif 3 <= month <= 5:\n",
        "  print(month,'월은 봄')\n",
        "elif 6 <= month <= 8:\n",
        "  print(month,'월은 여름')\n",
        "elif 9 <= month <= 11:\n",
        "  print(month,'월은 거울')\n",
        "else :\n",
        "  print(month,'월은 겨울')"
      ],
      "metadata": {
        "id": "ZKKLrHg25KF-",
        "colab": {
          "base_uri": "https://localhost:8080/"
        },
        "outputId": "95b44cf4-c9b6-44fa-d8d5-cc724862ad5a"
      },
      "execution_count": null,
      "outputs": [
        {
          "output_type": "stream",
          "name": "stdout",
          "text": [
            "월 입력: 6\n",
            "6 월은 여름\n"
          ]
        }
      ]
    },
    {
      "cell_type": "code",
      "source": [
        "# 실습 6-3\n",
        "h = int(input('키 입력: '))\n",
        "w = int(input('몸무게 입력: '))\n",
        "bmi = w / ((h/100)*(h/100))\n",
        "if bmi < 18:\n",
        "  result / '저체중'\n",
        "elif 18 <= bmi < 23:\n",
        "  result ='정상'\n",
        "elif 23 <= bmi < 25:\n",
        "  result ='과체중'\n",
        "else :\n",
        "  result ='비만'\n",
        "print('BMI: %.2f, %s'%(bmi, result))"
      ],
      "metadata": {
        "id": "vMm_x8NY5KKX",
        "colab": {
          "base_uri": "https://localhost:8080/"
        },
        "outputId": "16d7b9f4-0d88-401e-dc1c-de1ba3b9e858"
      },
      "execution_count": null,
      "outputs": [
        {
          "output_type": "stream",
          "name": "stdout",
          "text": [
            "키 입력: 180\n",
            "몸무게 입력: 63\n",
            "BMI: 19.44, 정상\n"
          ]
        }
      ]
    },
    {
      "cell_type": "code",
      "source": [
        "# 실습 6-4\n",
        "day31 = [1,3,5,7,8,10,12]\n",
        "day30 = [4,6,9,11]\n",
        "year = int(input('연도 입력: '))\n",
        "month = int(input('월 입력: '))\n",
        "if month < 1 or month >12:\n",
        "  print('존재하지 않는 월!!')\n",
        "elif month in day31:\n",
        "  result = 31\n",
        "elif month in day30:\n",
        "  result = 31\n",
        "elif year % 4 == 0 and year % 100!= 0 or year %400 == 0:\n",
        "  result = 29\n",
        "else:\n",
        "  result = 28\n",
        "print('%d년 %d월은 %d까지'% (year, month, result))"
      ],
      "metadata": {
        "colab": {
          "base_uri": "https://localhost:8080/"
        },
        "id": "coNUIc1cqcvc",
        "outputId": "4f0e3ab0-dda6-40cf-b322-c03867259158"
      },
      "execution_count": null,
      "outputs": [
        {
          "output_type": "stream",
          "name": "stdout",
          "text": [
            "연도 입력: 2023\n",
            "월 입력: 6\n",
            "2023년 6월은 31까지\n"
          ]
        }
      ]
    },
    {
      "cell_type": "code",
      "source": [
        "# 실습 6-5\n",
        "remain_period = int(input('몇개월 후의 여행을 계획중인가요?(3개월 이상)'))\n",
        "country = input('여행할 지역을 입력하세요(아시아, 유럽, 미주): ')\n",
        "if 3 <= remain_period < 6:\n",
        "  if country == '아시아':\n",
        "    result = 8\n",
        "  elif country == '유럽':\n",
        "    result = 9\n",
        "  elif country == '미주':\n",
        "    result = 10\n",
        "  else:\n",
        "    resul = None\n",
        "elif 6 <= remain_period <12:\n",
        "  if country == '아시아':\n",
        "    result = 15\n",
        "  elif country == '유럽':\n",
        "    result = 17\n",
        "  elif country == '미주':\n",
        "    result = 20\n",
        "  else:\n",
        "    result = None\n",
        "elif 12 <= remain_period :\n",
        "  if country == '아시아':\n",
        "    result = 25\n",
        "  elif country == '유럽':\n",
        "    result = 30\n",
        "  elif country == '미주':\n",
        "    result = 40\n",
        "  else:\n",
        "    result = None\n",
        "else :\n",
        "  result = None\n",
        "if result :\n",
        "  print(('%d개월 이후의 %s 항공권은 %d%% 할인'% (remain_period, country, result)))\n",
        "else:\n",
        "  print('기간 또는 지역 정보가 바르지 않거나, 할인이 지원되지 않는 지역입니다.')"
      ],
      "metadata": {
        "id": "pg6tcEIu5KNz",
        "colab": {
          "base_uri": "https://localhost:8080/"
        },
        "outputId": "76f22350-ee98-44e3-ca5a-d8a2611bbbba"
      },
      "execution_count": null,
      "outputs": [
        {
          "output_type": "stream",
          "name": "stdout",
          "text": [
            "몇개월 후의 여행을 계획중인가요?(3개월 이상)5\n",
            "여행할 지역을 입력하세요(아시아, 유럽, 미주): 아시아\n",
            "5개월 이후의 아시아 항공권은 8% 할인\n"
          ]
        }
      ]
    },
    {
      "cell_type": "code",
      "source": [
        "# 6장 도전 1-1\n",
        "num = int(input('정수 입력:'))\n",
        "if num % 2 != 0:\n",
        "  print('%d은 홀수'% num)\n",
        "else:\n",
        "  print('%d은 짝수'% num)"
      ],
      "metadata": {
        "id": "Rw7t_c345KSF",
        "colab": {
          "base_uri": "https://localhost:8080/"
        },
        "outputId": "08aaa92d-6293-47bd-b872-d07f170aba86"
      },
      "execution_count": null,
      "outputs": [
        {
          "output_type": "stream",
          "name": "stdout",
          "text": [
            "정수 입력:77\n",
            "77은 홀수\n"
          ]
        }
      ]
    },
    {
      "cell_type": "code",
      "source": [
        "# 6장 도전 1-2\n",
        "num = int(input('정수 입력: '))\n",
        "if num>0:\n",
        "  print('%d은 양수'% num)\n",
        "elif num <0:\n",
        "  print('%d은 음수'% num)\n",
        "else:\n",
        "  print('%d은 0'% num)"
      ],
      "metadata": {
        "colab": {
          "base_uri": "https://localhost:8080/"
        },
        "id": "Of_72mkivUc2",
        "outputId": "eefc6aec-9bd7-47cc-a9a4-91d7a710e829"
      },
      "execution_count": null,
      "outputs": [
        {
          "output_type": "stream",
          "name": "stdout",
          "text": [
            "정수 입력: 77\n",
            "77은 양수\n"
          ]
        }
      ]
    },
    {
      "cell_type": "code",
      "source": [
        "# 6장 도전 1-3\n",
        "id = input('아이디 입력: ')\n",
        "pwd =  input('비밀번호 입력: ')\n",
        "if id == 'admin' and pwd== 'pw1234':\n",
        "  print('로그인 성공')\n",
        "else:\n",
        "  print('아이디나 비밀번호가 틀려 로그인 실패')"
      ],
      "metadata": {
        "colab": {
          "base_uri": "https://localhost:8080/"
        },
        "id": "O7wJcmRPvUi9",
        "outputId": "de07b326-c629-4493-f620-fb559e9445fd"
      },
      "execution_count": null,
      "outputs": [
        {
          "output_type": "stream",
          "name": "stdout",
          "text": [
            "아이디 입력: admin\n",
            "비밀번호 입력: pw1234\n",
            "로그인 성공\n"
          ]
        }
      ]
    },
    {
      "cell_type": "code",
      "source": [
        "# 6장 도전 2-1\n",
        "num1 = int(input('첫 번째 수 입력: '))\n",
        "num2 = int(input('두 번째 수 입력: '))\n",
        "symbol = input('원하는 연산 기호 하나 입력:(+ - * /) ')\n",
        "if symbol == '+':\n",
        "  print('%d + %d = %d'%(num1,num2,num1+num2))\n",
        "elif symbol == '-':\n",
        "  print('%d - %d = %d'%(num1,num2,num1-num2))\n",
        "elif symbol == '*':\n",
        "  print('%d * %d = %d'%(num1,num2,num1*num2))\n",
        "elif symbol == '/':\n",
        "  print('%d / %d = %d'%(num1,num2,num1/num2))\n",
        "else:\n",
        "  print('올바른 기호를 입력하세요.')"
      ],
      "metadata": {
        "colab": {
          "base_uri": "https://localhost:8080/"
        },
        "id": "0lLWSX6bvUlr",
        "outputId": "39a5c446-6b3c-44a8-dc73-6f738c44604a"
      },
      "execution_count": null,
      "outputs": [
        {
          "output_type": "stream",
          "name": "stdout",
          "text": [
            "첫 번째 수 입력: 40\n",
            "두 번째 수 입력: 10\n",
            "원하는 연산 기호 하나 입력:(+ - * /) /\n",
            "40 / 10 = 4\n"
          ]
        }
      ]
    },
    {
      "cell_type": "code",
      "source": [
        "# 6장 도전 2-2\n",
        "score1 = int(input('1차 점수 입력: '))\n",
        "score2 = int(input('2차 점수 입력: '))\n",
        "total = score1 + score2\n",
        "if total/2 >= 70 and score1 >= 50 and score2 >= 50:\n",
        "  print('합격')\n",
        "else:\n",
        "  print('불합격')"
      ],
      "metadata": {
        "colab": {
          "base_uri": "https://localhost:8080/"
        },
        "id": "T83un_dox1R5",
        "outputId": "f2835abf-ec92-4515-ae56-c1d1bd0a8aa7"
      },
      "execution_count": null,
      "outputs": [
        {
          "output_type": "stream",
          "name": "stdout",
          "text": [
            "1차 점수 입력: 49\n",
            "2차 점수 입력: 100\n",
            "불합격\n"
          ]
        }
      ]
    },
    {
      "cell_type": "code",
      "source": [
        "# 6장 도전 2-3\n",
        "score = int(input('점수 입력: '))\n",
        "if score >=90:\n",
        "  print('%d점은 A학점'%(score))\n",
        "elif 80 <= score < 90:\n",
        "  print('%d점은 B학점'%(score))\n",
        "elif 70 <= score < 80:\n",
        "  print('%d점은 C학점'%(score))\n",
        "elif 60 <= score < 70:\n",
        "  print('%d점은 D학점'%(score))\n",
        "else :\n",
        "  print('%d점은 F학점'%(score))\n"
      ],
      "metadata": {
        "colab": {
          "base_uri": "https://localhost:8080/"
        },
        "id": "K3b_4v7IvUrd",
        "outputId": "d97667e3-cd80-49de-a90d-22dad960b588"
      },
      "execution_count": null,
      "outputs": [
        {
          "output_type": "stream",
          "name": "stdout",
          "text": [
            "점수 입력: 57\n",
            "57점은 F학점\n"
          ]
        }
      ]
    },
    {
      "cell_type": "code",
      "source": [
        "# 예제 7-1\n",
        "for i in range(5):\n",
        "  print('*'*(i+1))"
      ],
      "metadata": {
        "colab": {
          "base_uri": "https://localhost:8080/"
        },
        "id": "XEqbh8GbdWl_",
        "outputId": "04157005-94e5-4057-99b7-bbc43ddab9a2"
      },
      "execution_count": null,
      "outputs": [
        {
          "output_type": "stream",
          "name": "stdout",
          "text": [
            "*\n",
            "**\n",
            "***\n",
            "****\n",
            "*****\n"
          ]
        }
      ]
    },
    {
      "cell_type": "code",
      "source": [
        "# 예제 7-1\n",
        "for i in range(5,-1,-1):\n",
        "  print('*'*(i+1))"
      ],
      "metadata": {
        "colab": {
          "base_uri": "https://localhost:8080/"
        },
        "id": "M1wJksHVdinJ",
        "outputId": "0ff00a9c-f9fe-4f75-af84-00aefd89ad19"
      },
      "execution_count": null,
      "outputs": [
        {
          "output_type": "stream",
          "name": "stdout",
          "text": [
            "******\n",
            "*****\n",
            "****\n",
            "***\n",
            "**\n",
            "*\n"
          ]
        }
      ]
    },
    {
      "cell_type": "code",
      "source": [
        "# 예제 7-2\n",
        "odd = [1,3,5,7,9]\n",
        "for i in odd:\n",
        "  print(i+1, end=' ')"
      ],
      "metadata": {
        "colab": {
          "base_uri": "https://localhost:8080/"
        },
        "id": "nnh_TDJsdnuZ",
        "outputId": "9a65e7ff-c1bc-42c0-85f1-9954f0abc661"
      },
      "execution_count": null,
      "outputs": [
        {
          "output_type": "stream",
          "name": "stdout",
          "text": [
            "2 4 6 8 10 "
          ]
        }
      ]
    },
    {
      "cell_type": "code",
      "source": [
        "# 예제 7-3\n",
        "for i in 'Python':\n",
        "  print(i, end=' ')"
      ],
      "metadata": {
        "colab": {
          "base_uri": "https://localhost:8080/"
        },
        "id": "Lv0m-DdG5LPb",
        "outputId": "39aec675-2b3c-436b-e65d-383bd5113bfe"
      },
      "execution_count": null,
      "outputs": [
        {
          "output_type": "stream",
          "name": "stdout",
          "text": [
            "P y t h o n "
          ]
        }
      ]
    },
    {
      "cell_type": "code",
      "source": [
        "# 예제 7-4\n",
        "year =1\n",
        "while year <= 3:\n",
        "  print('서당개', year,'년')\n",
        "  year += 1\n",
        "\n",
        "print('풍월을 옲습니다.')"
      ],
      "metadata": {
        "colab": {
          "base_uri": "https://localhost:8080/"
        },
        "id": "uGn5HRGz5LbF",
        "outputId": "56812ad9-febd-48a5-cb29-7876bbd5bdde"
      },
      "execution_count": null,
      "outputs": [
        {
          "output_type": "stream",
          "name": "stdout",
          "text": [
            "서당개 1 년\n",
            "서당개 2 년\n",
            "서당개 3 년\n",
            "풍월을 옲습니다.\n"
          ]
        }
      ]
    },
    {
      "cell_type": "code",
      "source": [
        "# 예제 7-5\n",
        "result = None\n",
        "while result != 'y':\n",
        "  print('파이썬 최고!')\n",
        "  result = input('계속하려면 입력: (종료:y)')\n",
        "\n",
        "print('종료')"
      ],
      "metadata": {
        "colab": {
          "base_uri": "https://localhost:8080/"
        },
        "id": "0UKfUCPn6CIj",
        "outputId": "fca1080f-351c-4aad-9271-24103a58d7cb"
      },
      "execution_count": null,
      "outputs": [
        {
          "output_type": "stream",
          "name": "stdout",
          "text": [
            "파이썬 최고!\n",
            "계속하려면 입력: (종료:y)hi\n",
            "파이썬 최고!\n",
            "계속하려면 입력: (종료:y)1234\n",
            "파이썬 최고!\n",
            "계속하려면 입력: (종료:y)y\n",
            "종료\n"
          ]
        }
      ]
    },
    {
      "cell_type": "code",
      "source": [
        "# 예제 7-6\n",
        "num = int(input('단 입력: '))\n",
        "for i in range(1,10):\n",
        "  print('%d * %d = %d'%(num, i, num*i))\n",
        "i=1\n",
        "num = int(input('단 입력: '))\n",
        "while i <= 9:\n",
        "  print('%d * %d = %d'%(num, i, num*i))\n",
        "  i += 1"
      ],
      "metadata": {
        "colab": {
          "base_uri": "https://localhost:8080/"
        },
        "id": "PnQ_6D6u6CRE",
        "outputId": "6c9df7c1-dd8d-428e-bf3d-d7d4777dadf4"
      },
      "execution_count": null,
      "outputs": [
        {
          "output_type": "stream",
          "name": "stdout",
          "text": [
            "단 입력: 5\n",
            "5 * 1 = 5\n",
            "5 * 2 = 10\n",
            "5 * 3 = 15\n",
            "5 * 4 = 20\n",
            "5 * 5 = 25\n",
            "5 * 6 = 30\n",
            "5 * 7 = 35\n",
            "5 * 8 = 40\n",
            "5 * 9 = 45\n",
            "단 입력: 4\n",
            "4 * 1 = 4\n",
            "4 * 2 = 8\n",
            "4 * 3 = 12\n",
            "4 * 4 = 16\n",
            "4 * 5 = 20\n",
            "4 * 6 = 24\n",
            "4 * 7 = 28\n",
            "4 * 8 = 32\n",
            "4 * 9 = 36\n"
          ]
        }
      ]
    },
    {
      "cell_type": "code",
      "source": [
        "# 예제 7-7\n",
        "while True:\n",
        "  num = int(input('번호 입력(종료 0):'))\n",
        "  if num == 0:\n",
        "    break\n",
        "  print('while 무한루프로 반복중')"
      ],
      "metadata": {
        "colab": {
          "base_uri": "https://localhost:8080/"
        },
        "id": "KUBGKtQY6CV0",
        "outputId": "58c17db3-5683-4e19-a295-53c40f861c7f"
      },
      "execution_count": null,
      "outputs": [
        {
          "name": "stdout",
          "output_type": "stream",
          "text": [
            "번호 입력(종료 0):1\n",
            "while 무한루프로 반복중\n",
            "번호 입력(종료 0):3\n",
            "while 무한루프로 반복중\n",
            "번호 입력(종료 0):0\n"
          ]
        }
      ]
    },
    {
      "cell_type": "code",
      "source": [
        "# 예제 7-8\n",
        "for i in range(1,31):\n",
        "  if i % 7 ==0:\n",
        "    print('7의 배수:',i)\n",
        "for i in range(1,31):\n",
        "  if i % 7!=0:\n",
        "    continue\n",
        "  print('7의 배수:', i)"
      ],
      "metadata": {
        "colab": {
          "base_uri": "https://localhost:8080/"
        },
        "id": "GjvRT-pA7jQl",
        "outputId": "9935c44d-681b-457a-e056-bacb63ce0d74"
      },
      "execution_count": null,
      "outputs": [
        {
          "output_type": "stream",
          "name": "stdout",
          "text": [
            "7의 배수: 7\n",
            "7의 배수: 14\n",
            "7의 배수: 21\n",
            "7의 배수: 28\n",
            "7의 배수: 7\n",
            "7의 배수: 14\n",
            "7의 배수: 21\n",
            "7의 배수: 28\n"
          ]
        }
      ]
    },
    {
      "cell_type": "code",
      "execution_count": null,
      "metadata": {
        "colab": {
          "base_uri": "https://localhost:8080/"
        },
        "id": "-4kUfV4Uk89m",
        "outputId": "0764b218-ab39-46f2-a6d6-8a9e61c23979"
      },
      "outputs": [
        {
          "output_type": "stream",
          "name": "stdout",
          "text": [
            "단 입력(종료:0) 5\n",
            "5 * 1 = 5\n",
            "5 * 2 = 10\n",
            "5 * 3 = 15\n",
            "5 * 4 = 20\n",
            "5 * 5 = 25\n",
            "5 * 6 = 30\n",
            "5 * 7 = 35\n",
            "5 * 8 = 40\n",
            "5 * 9 = 45\n",
            "단 입력(종료:0) 0\n",
            "구구단 프로그램 종료\n"
          ]
        }
      ],
      "source": [
        "# 예제 7-10\n",
        "while True:\n",
        "    num = int(input('단 입력(종료:0) '))\n",
        "    if num == 0:\n",
        "        break\n",
        "    i = 1\n",
        "    while i <= 9:\n",
        "        print('%d * %d = %d' %(num, i, num*i))\n",
        "        i += 1\n",
        "print('구구단 프로그램 종료')"
      ]
    },
    {
      "cell_type": "code",
      "source": [
        "# 예제 7-11\n",
        "alpha = {'A':'1!','B':'2@','C':'3#','D':'4$','E':'5%'}\n",
        "while True:\n",
        "    code = ' '\n",
        "    word = input('대문자 A~E 단어 입력(종료:0) ')\n",
        "    if word == '0':\n",
        "        break\n",
        "    for ch in word:\n",
        "        code += alpha[ch]\n",
        "    print('단어:',word,',암호코듸:',code,'\\n')\n",
        "print('암호코드 변환 프로그램 종료')"
      ],
      "metadata": {
        "colab": {
          "base_uri": "https://localhost:8080/"
        },
        "id": "C38Xil2elGyN",
        "outputId": "0a57ba8d-3df3-46cf-d728-671b597b5b71"
      },
      "execution_count": null,
      "outputs": [
        {
          "output_type": "stream",
          "name": "stdout",
          "text": [
            "대문자 A~E 단어 입력(종료:0) AACCEE\n",
            "단어: AACCEE ,암호코듸:  1!1!3#3#5%5% \n",
            "\n",
            "대문자 A~E 단어 입력(종료:0) 0\n",
            "암호코드 변환 프로그램 종료\n"
          ]
        }
      ]
    },
    {
      "cell_type": "code",
      "source": [
        "# 예제 7-12\n",
        "start = int(input('시작단 입력: '))\n",
        "end =  int(input('종료단 입력: '))\n",
        "for num in range(start, end+1):\n",
        "    i = 1\n",
        "    while i <= 11:\n",
        "        print('%d * %d = %d'%(num, i, num*i))\n",
        "        i += 1\n",
        "print('구구단 프로그램 종료')"
      ],
      "metadata": {
        "colab": {
          "base_uri": "https://localhost:8080/"
        },
        "id": "OXPUQIERlG2F",
        "outputId": "86e0c2ee-42a5-4340-be59-ce8f8a7f6797"
      },
      "execution_count": null,
      "outputs": [
        {
          "output_type": "stream",
          "name": "stdout",
          "text": [
            "시작단 입력: 3\n",
            "종료단 입력: 5\n",
            "3 * 1 = 3\n",
            "3 * 2 = 6\n",
            "3 * 3 = 9\n",
            "3 * 4 = 12\n",
            "3 * 5 = 15\n",
            "3 * 6 = 18\n",
            "3 * 7 = 21\n",
            "3 * 8 = 24\n",
            "3 * 9 = 27\n",
            "3 * 10 = 30\n",
            "3 * 11 = 33\n",
            "4 * 1 = 4\n",
            "4 * 2 = 8\n",
            "4 * 3 = 12\n",
            "4 * 4 = 16\n",
            "4 * 5 = 20\n",
            "4 * 6 = 24\n",
            "4 * 7 = 28\n",
            "4 * 8 = 32\n",
            "4 * 9 = 36\n",
            "4 * 10 = 40\n",
            "4 * 11 = 44\n",
            "5 * 1 = 5\n",
            "5 * 2 = 10\n",
            "5 * 3 = 15\n",
            "5 * 4 = 20\n",
            "5 * 5 = 25\n",
            "5 * 6 = 30\n",
            "5 * 7 = 35\n",
            "5 * 8 = 40\n",
            "5 * 9 = 45\n",
            "5 * 10 = 50\n",
            "5 * 11 = 55\n",
            "구구단 프로그램 종료\n"
          ]
        }
      ]
    },
    {
      "cell_type": "code",
      "source": [
        "# 예제 7-13\n",
        "main = ['참치','소고기']\n",
        "side = ['치즈','김치']\n",
        "i = 1\n",
        "for m in main:\n",
        "    for s in side:\n",
        "        print(i, m+'+'+s+'+단무지')\n",
        "        i += 1"
      ],
      "metadata": {
        "colab": {
          "base_uri": "https://localhost:8080/"
        },
        "id": "8L_IQi3BlG41",
        "outputId": "6d683b3a-af28-4e93-9d04-36244eb627ce"
      },
      "execution_count": null,
      "outputs": [
        {
          "output_type": "stream",
          "name": "stdout",
          "text": [
            "1 참치+치즈+단무지\n",
            "2 참치+김치+단무지\n",
            "3 소고기+치즈+단무지\n",
            "4 소고기+김치+단무지\n"
          ]
        }
      ]
    },
    {
      "cell_type": "code",
      "source": [
        "# 실습 7-1\n",
        "students = []\n",
        "sum = 0\n",
        "\n",
        "num =  int(input('학생 수 입력:'))\n",
        "for i in range(num):\n",
        "    print('<<',i+1,'번째 학생 정보 입력 >>')\n",
        "    name =  input('학생 이름 입력: ')\n",
        "    score =  int(input('%s 점수 입력: '% name))\n",
        "    students.append([name, score])\n",
        "    sum += score\n",
        "\n",
        "for info in students :\n",
        "    print('이름: %s, 점수: %d'%(info[0], info[1]))\n",
        "print('학생들 점수 평균: %5.2f' % (sum/num))"
      ],
      "metadata": {
        "colab": {
          "base_uri": "https://localhost:8080/"
        },
        "id": "I-oIaCe6lG8R",
        "outputId": "8eece981-9cc3-4e22-b2fc-98e2c9cc6dd0"
      },
      "execution_count": null,
      "outputs": [
        {
          "output_type": "stream",
          "name": "stdout",
          "text": [
            "학생 수 입력:3\n",
            "<< 1 번째 학생 정보 입력 >>\n",
            "학생 이름 입력: 박보검\n",
            "박보검 점수 입력: 90\n",
            "<< 2 번째 학생 정보 입력 >>\n",
            "학생 이름 입력: 정우성\n",
            "정우성 점수 입력: 80\n",
            "<< 3 번째 학생 정보 입력 >>\n",
            "학생 이름 입력: 차은우\n",
            "차은우 점수 입력: 85\n",
            "이름: 박보검, 점수: 90\n",
            "이름: 정우성, 점수: 80\n",
            "이름: 차은우, 점수: 85\n",
            "학생들 점수 평균: 85.00\n"
          ]
        }
      ]
    },
    {
      "cell_type": "code",
      "source": [
        "# 실습 7-2\n",
        "import random\n",
        "com = random.randint(1,20)\n",
        "print('<< 컴퓨터기 생각한 1~20 숫자 맞추기 >>')\n",
        "while True:\n",
        "    player = int(input('숫자 입력(종료 0): '))\n",
        "    if player == 0:\n",
        "        break\n",
        "    elif player == com:\n",
        "        print('정답!!')\n",
        "        break\n",
        "    elif player > com:\n",
        "        print('더 작은 숫자 입력!')\n",
        "    elif player > com:\n",
        "        print('더 큰 숫자 입력!')\n"
      ],
      "metadata": {
        "colab": {
          "base_uri": "https://localhost:8080/"
        },
        "id": "0L9uZRKxlfPu",
        "outputId": "487e6dbf-b829-4e10-f361-bc78a988460b"
      },
      "execution_count": null,
      "outputs": [
        {
          "output_type": "stream",
          "name": "stdout",
          "text": [
            "<< 컴퓨터기 생각한 1~20 숫자 맞추기 >>\n",
            "숫자 입력(종료 0): 4\n",
            "정답!!\n"
          ]
        }
      ]
    },
    {
      "cell_type": "code",
      "source": [
        "# 실습 7-3\n",
        "print('<< 369 게임 >>')\n",
        "num = int(input('1부터 어디까지 진행할까요? '))\n",
        "\n",
        "for i in range(1,num+1):\n",
        "    if i % 10 == 3 or i % 10 ==6 or i % 10 == 9:\n",
        "        print('짝', end=' ')\n",
        "    else :\n",
        "        print(i, end=' ')\n"
      ],
      "metadata": {
        "colab": {
          "base_uri": "https://localhost:8080/"
        },
        "id": "q9GNNd4OmNEN",
        "outputId": "21866625-070b-49d8-e6c3-732afbea2d87"
      },
      "execution_count": null,
      "outputs": [
        {
          "output_type": "stream",
          "name": "stdout",
          "text": [
            "<< 369 게임 >>\n",
            "1부터 어디까지 진행할까요? 5\n",
            "1 2 짝 4 5 "
          ]
        }
      ]
    },
    {
      "cell_type": "code",
      "source": [
        "# 실습 7-4\n",
        "for i in range(5):\n",
        "  print('*'*(5-i))\n"
      ],
      "metadata": {
        "colab": {
          "base_uri": "https://localhost:8080/"
        },
        "id": "GWJ70ltA9DZn",
        "outputId": "830cca93-32a1-4f78-b86e-a2b6334fc982"
      },
      "execution_count": null,
      "outputs": [
        {
          "output_type": "stream",
          "name": "stdout",
          "text": [
            "*****\n",
            "****\n",
            "***\n",
            "**\n",
            "*\n"
          ]
        }
      ]
    },
    {
      "cell_type": "code",
      "source": [
        "for i in range(5):\n",
        "  print(str(5-i)*(5-i))"
      ],
      "metadata": {
        "colab": {
          "base_uri": "https://localhost:8080/"
        },
        "id": "4uMJ_gGy9OLq",
        "outputId": "a6be4c5a-4de9-41ba-ef6e-02621d7bb8e4"
      },
      "execution_count": null,
      "outputs": [
        {
          "output_type": "stream",
          "name": "stdout",
          "text": [
            "55555\n",
            "4444\n",
            "333\n",
            "22\n",
            "1\n"
          ]
        }
      ]
    },
    {
      "cell_type": "code",
      "source": [
        "# 실습 7-5\n",
        "morse_dict = {'A':'.-','B':'-...','C':'-.-.','D':'-..',\n",
        "              'E':'.','F':'..-.','G':'--.','H':'....',\n",
        "              'I':'..','J':'.---','K':'-.-','L':'.-..',\n",
        "              'M':'--','N':'-.','O':'---','P':'.--.',\n",
        "              'Q':'--.-','R':'.-.','S':'...','T':'-',\n",
        "              'U':'-.--','V':'...-','W':'.--','X':'-..-',\n",
        "              'Y':'-.--','Z':'--..',}\n",
        "while True:\n",
        "    morse_code = ''\n",
        "    word = input('대문자 단어 입력(종료:0) ')\n",
        "    if word == '0':\n",
        "        break\n",
        "    for ch in word :\n",
        "        morse_code += morse_dict[ch]\n",
        "        morse_code += '  '\n",
        "    print('단어:', word,', 모스 코드: ', morse_code, '\\n')\n",
        "print('모스 부호 변환 프로그램 종료')\n"
      ],
      "metadata": {
        "colab": {
          "base_uri": "https://localhost:8080/"
        },
        "id": "Qh90zwRDmPbD",
        "outputId": "be39a3d0-4306-4268-b105-6e9e42167e8b"
      },
      "execution_count": null,
      "outputs": [
        {
          "output_type": "stream",
          "name": "stdout",
          "text": [
            "대문자 단어 입력(종료:0) APPLE\n",
            "단어: APPLE , 모스 코드:  .-  .--.  .--.  .-..  .   \n",
            "\n",
            "대문자 단어 입력(종료:0) 0\n",
            "모스 부호 변환 프로그램 종료\n"
          ]
        }
      ]
    },
    {
      "cell_type": "code",
      "source": [
        "# 실습 7-6\n",
        "str_num =  input('정수 입력: ')\n",
        "i = 0\n",
        "for i in range(len(str_num)):\n",
        "  heart_num =  int(str_num[i])\n",
        "  heart = '' # 저장값 초기화\n",
        "  for k in range(heart_num):\n",
        "    heart += '💗'\n",
        "  print(heart)"
      ],
      "metadata": {
        "colab": {
          "base_uri": "https://localhost:8080/"
        },
        "id": "jdw6ooml9dje",
        "outputId": "a2d8c3c7-9204-4787-9865-68ca2876f168"
      },
      "execution_count": null,
      "outputs": [
        {
          "output_type": "stream",
          "name": "stdout",
          "text": [
            "정수 입력: 37\n",
            "💗💗💗\n",
            "💗💗💗💗💗💗💗\n"
          ]
        }
      ]
    },
    {
      "cell_type": "code",
      "source": [
        "# 7장 도전 1-1\n",
        "for i in range(5):\n",
        "  print(' '*(5-i),'*'*(1+i))"
      ],
      "metadata": {
        "colab": {
          "base_uri": "https://localhost:8080/"
        },
        "id": "Een5JVnK-tFO",
        "outputId": "52ff4bc7-64c1-4e29-e6ed-a2d99cb121d0"
      },
      "execution_count": null,
      "outputs": [
        {
          "output_type": "stream",
          "name": "stdout",
          "text": [
            "      *\n",
            "     **\n",
            "    ***\n",
            "   ****\n",
            "  *****\n"
          ]
        }
      ]
    },
    {
      "cell_type": "code",
      "source": [
        "for i in range(5):\n",
        "  print(' '*(1+i),'*'*(5-i))"
      ],
      "metadata": {
        "colab": {
          "base_uri": "https://localhost:8080/"
        },
        "id": "EGRoUy-F-tMd",
        "outputId": "b6d96193-927e-4d8c-c352-9c00b44b9aca"
      },
      "execution_count": null,
      "outputs": [
        {
          "output_type": "stream",
          "name": "stdout",
          "text": [
            "  *****\n",
            "   ****\n",
            "    ***\n",
            "     **\n",
            "      *\n"
          ]
        }
      ]
    },
    {
      "cell_type": "code",
      "source": [
        "# 7장 도전 1-2\n",
        "for i in range(5):\n",
        "  print(' '*(4-i),'*'*(1+2*i))"
      ],
      "metadata": {
        "colab": {
          "base_uri": "https://localhost:8080/"
        },
        "id": "Y3O9slrn-tO_",
        "outputId": "1616bcb0-1359-4e61-f049-2703a1b6d19a"
      },
      "execution_count": null,
      "outputs": [
        {
          "output_type": "stream",
          "name": "stdout",
          "text": [
            "     *\n",
            "    ***\n",
            "   *****\n",
            "  *******\n",
            " *********\n"
          ]
        }
      ]
    },
    {
      "cell_type": "code",
      "source": [
        "for i in range(5):\n",
        "  print(' '*(1+i),'*'*((9-2*i)))"
      ],
      "metadata": {
        "colab": {
          "base_uri": "https://localhost:8080/"
        },
        "id": "m-e_2yL4-tTE",
        "outputId": "3eee933a-1148-4a86-e386-f658b60876b8"
      },
      "execution_count": null,
      "outputs": [
        {
          "output_type": "stream",
          "name": "stdout",
          "text": [
            "  *********\n",
            "   *******\n",
            "    *****\n",
            "     ***\n",
            "      *\n"
          ]
        }
      ]
    },
    {
      "cell_type": "code",
      "source": [
        "# 7장 도전 1-3\n",
        "import random\n",
        "word = ['반짝이는','별빛들','깜빡 이는','불 켜진','건물','우린', '빛나고','있네', '각자의 방','각자의', '별에서']\n",
        "input('타자게임 시작 (엔터 입력)')\n",
        "w =  random.choice(word)\n",
        "n=1\n",
        "a=0\n",
        "while True:\n",
        "  print('문제',n,'(종료 0):',w)\n",
        "  my = input()\n",
        "  if my == '0':\n",
        "    break\n",
        "  elif my == w :\n",
        "    print('맞음!!\\n')\n",
        "    a +=1\n",
        "    w=random.choice(word)\n",
        "  else:\n",
        "    print('틀립! 다시!\\n')\n",
        "  n += 1\n",
        "print('맞힌 문제 개수: %d, 정답률: %.2f'%(a,(a/n)*100))\n"
      ],
      "metadata": {
        "colab": {
          "base_uri": "https://localhost:8080/"
        },
        "id": "xXrX_P_l_8iR",
        "outputId": "389ac836-dc3a-449e-8ef7-9bbace9dd7f1"
      },
      "execution_count": null,
      "outputs": [
        {
          "output_type": "stream",
          "name": "stdout",
          "text": [
            "타자게임 시작 (엔터 입력)\n",
            "문제 1 (종료 0): 불 켜진\n",
            "불 켜진\n",
            "맞음!!\n",
            "\n",
            "문제 2 (종료 0): 깜빡 이는\n",
            "깜빡 이는\n",
            "맞음!!\n",
            "\n",
            "문제 3 (종료 0): 있네\n",
            "있네\n",
            "맞음!!\n",
            "\n",
            "문제 4 (종료 0): 각자의 방\n",
            "각자의 방\n",
            "맞음!!\n",
            "\n",
            "문제 5 (종료 0): 빛나고\n",
            "ㅎㅎ\n",
            "틀립! 다시!\n",
            "\n",
            "문제 6 (종료 0): 빛나고\n",
            "0\n",
            "맞힌 문제 개수: 4, 정답률: 66.67\n"
          ]
        }
      ]
    },
    {
      "cell_type": "code",
      "source": [
        "# 7장 도전 2-2\n",
        "num = int(input('1부터 어디까지 진행할까요? '))\n",
        "\n",
        "for i in range(1,num+1):\n",
        "    if i % 10 == 3 or i % 10 ==6 or i % 10 == 9:\n",
        "        print('짝', end=' ')\n",
        "    elif i % 10 == 0:\n",
        "      print('따봉', end=' ')\n",
        "    else :\n",
        "        print(i, end=' ')\n"
      ],
      "metadata": {
        "colab": {
          "base_uri": "https://localhost:8080/"
        },
        "id": "lC-Zfs1YEJGQ",
        "outputId": "cd337a22-ebbf-455a-f50a-2fe2a9e1aae6"
      },
      "execution_count": null,
      "outputs": [
        {
          "output_type": "stream",
          "name": "stdout",
          "text": [
            "1부터 어디까지 진행할까요? 24\n",
            "1 2 짝 4 5 짝 7 8 짝 따봉 11 12 짝 14 15 짝 17 18 짝 따봉 21 22 짝 24 "
          ]
        }
      ]
    },
    {
      "cell_type": "code",
      "source": [],
      "metadata": {
        "id": "App4TPkgF8d7"
      },
      "execution_count": null,
      "outputs": []
    },
    {
      "cell_type": "code",
      "source": [
        "# 7장 도전 2-3\n",
        "bread = ['위트','허니오트','화이트']\n",
        "patty = ['미트볼','터커베이컨','로스트치킨']\n",
        "i = 1\n",
        "for b in bread:\n",
        "    for p in patty:\n",
        "        print(i, b+'+'+p+'+랜치드레싱')\n",
        "        i += 1"
      ],
      "metadata": {
        "colab": {
          "base_uri": "https://localhost:8080/"
        },
        "id": "X-rSQggzFRN6",
        "outputId": "078d7f19-2f48-4a09-dc7e-9c77ea9feaa9"
      },
      "execution_count": null,
      "outputs": [
        {
          "output_type": "stream",
          "name": "stdout",
          "text": [
            "1 위트+미트볼+랜치드레싱\n",
            "2 위트+터커베이컨+랜치드레싱\n",
            "3 위트+로스트치킨+랜치드레싱\n",
            "4 허니오트+미트볼+랜치드레싱\n",
            "5 허니오트+터커베이컨+랜치드레싱\n",
            "6 허니오트+로스트치킨+랜치드레싱\n",
            "7 화이트+미트볼+랜치드레싱\n",
            "8 화이트+터커베이컨+랜치드레싱\n",
            "9 화이트+로스트치킨+랜치드레싱\n"
          ]
        }
      ]
    },
    {
      "cell_type": "code",
      "source": [
        "# 7장 도전 2-4\n",
        "import random\n",
        "com = random.randint(1,20)\n",
        "print('<< 컴퓨터기 생각한 1~20 숫자 맞추기 >>')\n",
        "while True:\n",
        "    player = int(input('숫자 입력(종료 0): '))\n",
        "    if player == 0:\n",
        "        break\n",
        "    elif player == com:\n",
        "        print('정답!!')\n",
        "        break\n",
        "    elif player > com:\n",
        "        print('더 작은 숫자 입력!')\n",
        "    elif player > com:\n",
        "        print('더 큰 숫자 입력!')"
      ],
      "metadata": {
        "colab": {
          "base_uri": "https://localhost:8080/"
        },
        "id": "dzeOz9I0GyPe",
        "outputId": "221a3c08-60ac-4a8e-f6e0-2e0eb12a435b"
      },
      "execution_count": null,
      "outputs": [
        {
          "output_type": "stream",
          "name": "stdout",
          "text": [
            "<< 컴퓨터기 생각한 1~20 숫자 맞추기 >>\n",
            "숫자 입력(종료 0): 10\n",
            "숫자 입력(종료 0): 15\n",
            "더 작은 숫자 입력!\n",
            "숫자 입력(종료 0): 12\n",
            "더 작은 숫자 입력!\n",
            "숫자 입력(종료 0): 11\n",
            "정답!!\n"
          ]
        }
      ]
    },
    {
      "cell_type": "code",
      "source": [
        "# 예제 8-1\n",
        "score=[70,90,60,100,50]\n",
        "cnt=0\n",
        "for i in range(5):\n",
        "  if score[i]>=70:\n",
        "    cnt += 1\n",
        "\n",
        "print('count:',cnt)"
      ],
      "metadata": {
        "colab": {
          "base_uri": "https://localhost:8080/"
        },
        "id": "Xx2VPvIhl_-n",
        "outputId": "7c488ecd-0467-451f-ed28-de20a5dc7763"
      },
      "execution_count": null,
      "outputs": [
        {
          "output_type": "stream",
          "name": "stdout",
          "text": [
            "count: 3\n"
          ]
        }
      ]
    },
    {
      "cell_type": "code",
      "source": [
        "# 7장 도전 2-4\n"
      ],
      "metadata": {
        "id": "uglhZoZV95E6"
      },
      "execution_count": null,
      "outputs": []
    },
    {
      "cell_type": "code",
      "source": [
        "# 예제 8-1\n",
        "score=[70,90,60,100,50,100]\n",
        "cnt=0\n",
        "for i in range(len(score)):\n",
        "  if score[i]>=70:\n",
        "    cnt += 1\n",
        "\n",
        "print('count:',cnt)"
      ],
      "metadata": {
        "colab": {
          "base_uri": "https://localhost:8080/"
        },
        "id": "-OQ-ox9NlHA2",
        "outputId": "44f75df8-fcd8-4b71-f5a4-5630a6508528"
      },
      "execution_count": null,
      "outputs": [
        {
          "output_type": "stream",
          "name": "stdout",
          "text": [
            "count: 4\n"
          ]
        }
      ]
    },
    {
      "cell_type": "code",
      "source": [],
      "metadata": {
        "id": "_kJK0PQztVoE"
      },
      "execution_count": null,
      "outputs": []
    },
    {
      "cell_type": "code",
      "source": [
        "# 도전 1-1\n",
        "for i in range(5):\n",
        "  print(' '*(4-i),'*'*(i+1))"
      ],
      "metadata": {
        "id": "FLSzvawLmHG4",
        "colab": {
          "base_uri": "https://localhost:8080/"
        },
        "outputId": "7d1fe620-040b-4442-e7ed-062220ce97c1"
      },
      "execution_count": null,
      "outputs": [
        {
          "output_type": "stream",
          "name": "stdout",
          "text": [
            "     *\n",
            "    **\n",
            "   ***\n",
            "  ****\n",
            " *****\n"
          ]
        }
      ]
    },
    {
      "cell_type": "code",
      "source": [
        "for i in range(5):\n",
        "  print(' '*(i+1),'*'*(5-i))"
      ],
      "metadata": {
        "colab": {
          "base_uri": "https://localhost:8080/"
        },
        "id": "SQmQA8qJpTn9",
        "outputId": "9a114737-3ab1-4b80-fb2e-bb288a8a7e2b"
      },
      "execution_count": null,
      "outputs": [
        {
          "output_type": "stream",
          "name": "stdout",
          "text": [
            "  *****\n",
            "   ****\n",
            "    ***\n",
            "     **\n",
            "      *\n"
          ]
        }
      ]
    },
    {
      "cell_type": "code",
      "source": [
        "# 도전 1-2\n",
        "for i in range(5):\n",
        "  print(' '*(5-i),'*'*((i+1)+i))"
      ],
      "metadata": {
        "id": "0SNyqbIQp3_S",
        "colab": {
          "base_uri": "https://localhost:8080/"
        },
        "outputId": "d9444a58-16a8-4727-d16a-aaa506b0b77b"
      },
      "execution_count": null,
      "outputs": [
        {
          "output_type": "stream",
          "name": "stdout",
          "text": [
            "      *\n",
            "     ***\n",
            "    *****\n",
            "   *******\n",
            "  *********\n"
          ]
        }
      ]
    },
    {
      "cell_type": "code",
      "source": [
        "for i in range(5):\n",
        "  print(' '*i,'*'*((5-i)+(4-i)))"
      ],
      "metadata": {
        "colab": {
          "base_uri": "https://localhost:8080/"
        },
        "id": "Kbqp6_iSqOfg",
        "outputId": "148d9f45-f9e3-4c60-b34b-70cbc7e9fbe6"
      },
      "execution_count": null,
      "outputs": [
        {
          "output_type": "stream",
          "name": "stdout",
          "text": [
            " *********\n",
            "  *******\n",
            "   *****\n",
            "    ***\n",
            "     *\n"
          ]
        }
      ]
    },
    {
      "cell_type": "code",
      "source": [
        "# 도전 1-3\n",
        "import random\n",
        "word = ['반짝이는','별빛들','깜빡 이는 ','불 켜진','건물','우린','빛나고','있네','각자의 방','각자의','별에서']\n",
        "input('타자게임 시작(엔터 입력)')\n",
        "w= random.choice(word)\n",
        "n = 1\n",
        "while True:\n",
        "  print('문제', n,'(종료 0):',w)\n",
        "  my =  input()\n",
        "  if my == '0':\n",
        "    break\n",
        "  elif my == w:\n",
        "    print('맞음!!\\n')\n",
        "    w = random.choice(word)\n",
        "  else :\n",
        "    print('틀림! 다시!\\n')\n",
        "  n += 1 # 문제번호 증가\n"
      ],
      "metadata": {
        "colab": {
          "base_uri": "https://localhost:8080/"
        },
        "id": "3yFDZJVxrCBV",
        "outputId": "b9053fb2-6a13-4819-b81f-0d74d734766c"
      },
      "execution_count": null,
      "outputs": [
        {
          "name": "stdout",
          "output_type": "stream",
          "text": [
            "타자게임 시작(엔터 입력)\n",
            "문제 1 (종료 0): 건물\n",
            "건물\n",
            "맞음!!\n",
            "\n",
            "문제 2 (종료 0): 별에서\n",
            "별에서\n",
            "맞음!!\n",
            "\n",
            "문제 3 (종료 0): 각자의\n",
            "0\n"
          ]
        }
      ]
    },
    {
      "cell_type": "code",
      "source": [
        "#8장 1-1\n",
        "import random\n",
        "\n",
        "print('덧셈 게임')\n",
        "score = 0\n",
        "while True:\n",
        "  s = input('시작:아무거나, 종료:0 ')\n",
        "  if s == '0':break\n",
        "  n1=random.randint(10,100)\n",
        "  n2=random.randint(10,100)\n",
        "  print('{} + {} ='.format(n1, n2))\n",
        "  ans=int(input('answer:'))\n",
        "  if ans == n1 + n2:\n",
        "    print('정담')\n",
        "    score += 5\n",
        "  else:\n",
        "    print('오답')\n",
        "    score -= 5\n",
        "print('score : ',score)"
      ],
      "metadata": {
        "id": "bkxlr5Vvs67q",
        "colab": {
          "base_uri": "https://localhost:8080/"
        },
        "outputId": "678e8122-b6e0-4673-a6b7-9c5466b3b4b3"
      },
      "execution_count": null,
      "outputs": [
        {
          "output_type": "stream",
          "name": "stdout",
          "text": [
            "덧셈 게임\n",
            "시작:아무거나, 종료:0 \n",
            "52 + 25 =\n",
            "answer:77\n",
            "정담\n",
            "시작:아무거나, 종료:0 0\n",
            "score :  5\n"
          ]
        }
      ]
    },
    {
      "cell_type": "code",
      "source": [
        "import math\n",
        "\n",
        "r = 45\n",
        "ramgians = r*r * math.pi\n",
        "\n",
        "import random\n",
        "\n",
        "for i in range(10):\n",
        "  x = random.random()\n",
        "  print(x)"
      ],
      "metadata": {
        "colab": {
          "base_uri": "https://localhost:8080/"
        },
        "id": "gXJGP2YEZGut",
        "outputId": "f734d3e5-3a6b-41a4-ac41-059488df34b1"
      },
      "execution_count": null,
      "outputs": [
        {
          "output_type": "stream",
          "name": "stdout",
          "text": [
            "0.4130405991768179\n",
            "0.9365719620051779\n",
            "0.3653188140323327\n",
            "0.21278841088233025\n",
            "0.04712154151496817\n",
            "0.7388237522200531\n",
            "0.17244487059669256\n",
            "0.6282998920000876\n",
            "0.08471010108205168\n",
            "0.8579075395708449\n"
          ]
        }
      ]
    },
    {
      "cell_type": "code",
      "source": [
        "def maw1(num1, num2):\n",
        "  if num1>num2:\n",
        "    return num1\n",
        "  else:\n",
        "    return num2\n",
        "a=int(input('1st:'))\n",
        "b=int(input('2st:'))\n",
        "print(max(a,b))"
      ],
      "metadata": {
        "colab": {
          "base_uri": "https://localhost:8080/"
        },
        "id": "d3zmDMaRedlY",
        "outputId": "890358c2-0041-4cbb-a946-f1fb3e54a295"
      },
      "execution_count": null,
      "outputs": [
        {
          "output_type": "stream",
          "name": "stdout",
          "text": [
            "1st:100\n",
            "2st:2\n",
            "100\n"
          ]
        }
      ]
    },
    {
      "cell_type": "code",
      "source": [
        "#9-3\n",
        "def print_Iyrucs():\n",
        "  print(\"I'm okay.\")\n",
        "  print('I sleep all night')\n",
        "print_Iyrucs()"
      ],
      "metadata": {
        "colab": {
          "base_uri": "https://localhost:8080/"
        },
        "id": "ulbzFbhhedp6",
        "outputId": "c267fedb-56bd-4ad3-fb35-f6da9c1765f4"
      },
      "execution_count": null,
      "outputs": [
        {
          "output_type": "stream",
          "name": "stdout",
          "text": [
            "I'm okay.\n",
            "I sleep all night\n"
          ]
        }
      ]
    },
    {
      "cell_type": "code",
      "source": [
        "#9-3\n",
        "def cylinder_volume(height, radius=5):\n",
        "  pi= 3.14159\n",
        "  return height * pi * radius **2\n",
        "cylinder_volume(10, 3)"
      ],
      "metadata": {
        "colab": {
          "base_uri": "https://localhost:8080/"
        },
        "id": "880BLIUPedxG",
        "outputId": "b6e5c090-73b0-4231-d8c1-340b07cd200b"
      },
      "execution_count": null,
      "outputs": [
        {
          "output_type": "execute_result",
          "data": {
            "text/plain": [
              "282.7431"
            ]
          },
          "metadata": {},
          "execution_count": 18
        }
      ]
    },
    {
      "cell_type": "code",
      "source": [
        "def game(num):\n",
        "  a=num//10\n",
        "  b=num%10\n",
        "  if a==3 or a==6 or a==9:\n",
        "    return 'crap'\n",
        "  elif b==3 or b==6 or b==9:\n",
        "    return 'crap'\n",
        "  else:\n",
        "    return 'next number'\n",
        "a=int(input('number:'))\n",
        "print(game(num))"
      ],
      "metadata": {
        "colab": {
          "base_uri": "https://localhost:8080/",
          "height": 224
        },
        "id": "2j0JO7FIedzY",
        "outputId": "56ead53c-5c5f-49ae-d274-6e5b50f0a219"
      },
      "execution_count": null,
      "outputs": [
        {
          "name": "stdout",
          "output_type": "stream",
          "text": [
            "number:56\n"
          ]
        },
        {
          "output_type": "error",
          "ename": "NameError",
          "evalue": "ignored",
          "traceback": [
            "\u001b[0;31m---------------------------------------------------------------------------\u001b[0m",
            "\u001b[0;31mNameError\u001b[0m                                 Traceback (most recent call last)",
            "\u001b[0;32m<ipython-input-26-87a77b513378>\u001b[0m in \u001b[0;36m<cell line: 11>\u001b[0;34m()\u001b[0m\n\u001b[1;32m      9\u001b[0m     \u001b[0;32mreturn\u001b[0m \u001b[0;34m'next number'\u001b[0m\u001b[0;34m\u001b[0m\u001b[0;34m\u001b[0m\u001b[0m\n\u001b[1;32m     10\u001b[0m \u001b[0ma\u001b[0m\u001b[0;34m=\u001b[0m\u001b[0mint\u001b[0m\u001b[0;34m(\u001b[0m\u001b[0minput\u001b[0m\u001b[0;34m(\u001b[0m\u001b[0;34m'number:'\u001b[0m\u001b[0;34m)\u001b[0m\u001b[0;34m)\u001b[0m\u001b[0;34m\u001b[0m\u001b[0;34m\u001b[0m\u001b[0m\n\u001b[0;32m---> 11\u001b[0;31m \u001b[0mprint\u001b[0m\u001b[0;34m(\u001b[0m\u001b[0mgame\u001b[0m\u001b[0;34m(\u001b[0m\u001b[0mnum\u001b[0m\u001b[0;34m)\u001b[0m\u001b[0;34m)\u001b[0m\u001b[0;34m\u001b[0m\u001b[0;34m\u001b[0m\u001b[0m\n\u001b[0m",
            "\u001b[0;31mNameError\u001b[0m: name 'num' is not defined"
          ]
        }
      ]
    },
    {
      "cell_type": "code",
      "source": [
        "x=5\n",
        "print('Hello')\n",
        "\n",
        "def print_Iyrucs():\n",
        "  print(\"I'm a lumberjack, and I'm okey.\")\n",
        "  print('I sleep all night and I work all day.')\n",
        "\n",
        "print('Yo')\n",
        "X=x+2\n",
        "print(x)"
      ],
      "metadata": {
        "colab": {
          "base_uri": "https://localhost:8080/"
        },
        "id": "rWp2rLy4mbQq",
        "outputId": "ec466e67-f3e5-47cc-e562-b66e3cae3261"
      },
      "execution_count": null,
      "outputs": [
        {
          "output_type": "stream",
          "name": "stdout",
          "text": [
            "Hello\n",
            "Yo\n",
            "5\n"
          ]
        }
      ]
    },
    {
      "cell_type": "code",
      "source": [
        "# 실습 9-2\n",
        "x=5\n",
        "print('Hello')\n",
        "\n",
        "def print_Iyrucs():\n",
        "  print(\"I'm a lumberjack, and I'm okey.\")\n",
        "  print('I sleep all night and I work all day.')\n",
        "\n",
        "print('Yo')\n",
        "print_Iyrucs()\n",
        "x=x+2\n",
        "print(x)"
      ],
      "metadata": {
        "colab": {
          "base_uri": "https://localhost:8080/"
        },
        "id": "C9_KqYeto_Qd",
        "outputId": "edd9fb8d-c14b-44ca-dbd7-8a916fe2b613"
      },
      "execution_count": null,
      "outputs": [
        {
          "output_type": "stream",
          "name": "stdout",
          "text": [
            "Hello\n",
            "Yo\n",
            "I'm a lumberjack, and I'm okey.\n",
            "I sleep all night and I work all day.\n",
            "7\n"
          ]
        }
      ]
    },
    {
      "cell_type": "code",
      "source": [
        "#실습 9-4\n",
        "def fred():\n",
        "  print('Zap')\n",
        "def jane():\n",
        "  print('ABC')\n",
        "jane()\n",
        "fred()\n",
        "jane()"
      ],
      "metadata": {
        "colab": {
          "base_uri": "https://localhost:8080/"
        },
        "id": "4t7ZbMFtpnze",
        "outputId": "f5f2ee2c-0e70-4396-bc3d-0b5ffeaf449f"
      },
      "execution_count": null,
      "outputs": [
        {
          "output_type": "stream",
          "name": "stdout",
          "text": [
            "ABC\n",
            "Zap\n",
            "ABC\n"
          ]
        }
      ]
    },
    {
      "cell_type": "code",
      "source": [
        "# 9장 도전 1-1\n",
        "def greet(lang):\n",
        "  if lang == 1:\n",
        "    print('Hola')\n",
        "  elif lang ==2:\n",
        "    print(\"Bonjour\")\n",
        "  elif lang ==3:\n",
        "    print('안녕?')\n",
        "  else:\n",
        "    print('지원하지 않습니다')\n",
        "\n",
        "h = int(input('언어를 선택하세요(1:EN/2:FR/3:KR)'))\n",
        "greet(h)"
      ],
      "metadata": {
        "colab": {
          "base_uri": "https://localhost:8080/"
        },
        "id": "ii1efE-9rQRO",
        "outputId": "d5283336-c0d0-4f7f-fa45-3b26089c08a7"
      },
      "execution_count": null,
      "outputs": [
        {
          "output_type": "stream",
          "name": "stdout",
          "text": [
            "언어를 선택하세요(1:EN/2:FR/3:KR)1\n",
            "Hola\n"
          ]
        }
      ]
    },
    {
      "cell_type": "code",
      "source": [
        "# 9장 도전 1-2\n",
        "def concate(s1, s2):\n",
        "  print(s1+s2)\n",
        "str1=input(\"1'st 문장입력:\")\n",
        "str2=input(\"2'st 문장입력:\")\n",
        "concate(str1, str2)"
      ],
      "metadata": {
        "colab": {
          "base_uri": "https://localhost:8080/"
        },
        "id": "jAC-lR83rQbF",
        "outputId": "a90ee745-6fd4-475b-e0e9-16177f6f9066"
      },
      "execution_count": null,
      "outputs": [
        {
          "output_type": "stream",
          "name": "stdout",
          "text": [
            "1'st 문장입력:hello\n",
            "2'st 문장입력:python\n",
            "hellopython\n"
          ]
        }
      ]
    },
    {
      "cell_type": "code",
      "source": [
        "# 9장 도전 1-2\n",
        "def concate(s1, s2):\n",
        "  return s1 + s2\n",
        "\n",
        "str1=input(\"1'st 문장입력:\")\n",
        "str2=input(\"2'st 문장입력:\")\n",
        "\n",
        "ans = concate(str1, str2)\n",
        "print(ans)"
      ],
      "metadata": {
        "colab": {
          "base_uri": "https://localhost:8080/"
        },
        "id": "Ia3LHqUJrQfE",
        "outputId": "0fb5011f-e164-46d5-f89e-9db425a130bb"
      },
      "execution_count": null,
      "outputs": [
        {
          "output_type": "stream",
          "name": "stdout",
          "text": [
            "1'st 문장입력:hello\n",
            "2'st 문장입력:world\n",
            "helloworld\n"
          ]
        }
      ]
    },
    {
      "cell_type": "code",
      "source": [
        "# 9장 도전 1-2\n",
        "def concate(s1, s2):\n",
        "  return s1 + s2\n",
        "\n",
        "str1=input(\"1'st 문장입력:\")\n",
        "str2=input(\"2'st 문장입력:\")\n",
        "\n",
        "print(concate(str1, str2))"
      ],
      "metadata": {
        "colab": {
          "base_uri": "https://localhost:8080/"
        },
        "id": "faMCiP-IrQqu",
        "outputId": "c3526d7e-9e1e-4690-b122-afd991fc424c"
      },
      "execution_count": null,
      "outputs": [
        {
          "output_type": "stream",
          "name": "stdout",
          "text": [
            "1'st 문장입력:hello\n",
            "2'st 문장입력:world\n",
            "helloworld\n"
          ]
        }
      ]
    },
    {
      "cell_type": "code",
      "source": [
        "# 9장 도전 2-1\n",
        "def price(menue):\n",
        "  if menue == 1:\n",
        "    print(\"아메리카노 2500원\")\n",
        "  elif menue == 2:\n",
        "    print(\"카페라떼 3000원\")\n",
        "  elif menue == 3:\n",
        "    print(\"바닐라라떼 3000원\")\n",
        "  else:\n",
        "    print('지원하지 않습니다')\n",
        "\n",
        "menue = int(input('메뉴선택(1:아메리카노/2:카페라떼/3:바닐라라떼)'))\n",
        "price(menue)"
      ],
      "metadata": {
        "colab": {
          "base_uri": "https://localhost:8080/"
        },
        "id": "HdalAyHfv9u8",
        "outputId": "d603b2be-05d7-4f95-f8c2-f5b274b001c2"
      },
      "execution_count": null,
      "outputs": [
        {
          "output_type": "stream",
          "name": "stdout",
          "text": [
            "메뉴선택(1:아메리카노/2:카페라떼/3:바닐라라떼)2\n",
            "카페라떼 3000원\n"
          ]
        }
      ]
    },
    {
      "cell_type": "code",
      "source": [
        "# 9장 도전 2-2\n",
        "#[점수와 학점 기준 표]\n",
        "def grade(score):\n",
        "  if score < 10.0 and score >= 0.9 :\n",
        "    return 'A'\n",
        "  elif score < 0.9 and score >= 0.8:\n",
        "    return 'B'\n",
        "  elif score < 0.8 and score >= 0.7:\n",
        "    return 'C'\n",
        "  elif score < 0.7 and score >= 0.6:\n",
        "    return 'D'\n",
        "  elif score >= 0 and score < 0.6:\n",
        "    return \"F\"\n",
        "  elif score == 10.0:\n",
        "    return 'Bad score'\n",
        "\n",
        "score = input('Enter score: ')\n",
        "if score != float :\n",
        "  print(\"Bad score\")\n",
        "else :\n",
        "  grade = float(score)\n",
        "  print(grade(score))\n"
      ],
      "metadata": {
        "colab": {
          "base_uri": "https://localhost:8080/"
        },
        "id": "55LlTETVx5fa",
        "outputId": "b86c4c57-b95c-43d9-a2d6-f1f284698ee8"
      },
      "execution_count": null,
      "outputs": [
        {
          "output_type": "stream",
          "name": "stdout",
          "text": [
            "Enter score: 0.9\n",
            "Bad score\n"
          ]
        }
      ]
    },
    {
      "cell_type": "code",
      "source": [
        "# 9장 도전 2-2\n",
        "#[점수와 학점 기준 표]\n",
        "for i in range(3):\n",
        "  def grade(score):\n",
        "      if score == \"perfect\":\n",
        "          return 'Bad score'\n",
        "      else :\n",
        "        score = float(score)\n",
        "        if score == 10.0:\n",
        "          return 'Bad score'\n",
        "        elif score < 10.0 and score >= 0.9 :\n",
        "          return 'A'\n",
        "        elif score < 0.9 and score >= 0.8:\n",
        "          return 'B'\n",
        "        elif score < 0.8 and score >= 0.7:\n",
        "          return 'C'\n",
        "        elif score < 0.7 and score >= 0.6:\n",
        "          return 'D'\n",
        "        else:\n",
        "          return \"F\"\n",
        "\n",
        "\n",
        "  score = input('Enter score: ')\n",
        "  print(grade(score))"
      ],
      "metadata": {
        "colab": {
          "base_uri": "https://localhost:8080/"
        },
        "id": "Z49k0c6oOz2h",
        "outputId": "296f5958-5c58-4498-d67c-f836409d0b76"
      },
      "execution_count": null,
      "outputs": [
        {
          "output_type": "stream",
          "name": "stdout",
          "text": [
            "Enter score: 0.95\n",
            "A\n",
            "Enter score: perfect\n",
            "Bad score\n",
            "Enter score: 10.0\n",
            "Bad score\n"
          ]
        }
      ]
    },
    {
      "cell_type": "code",
      "source": [
        "# 9장 도전 2-2\n",
        "#[점수와 학점 기준 표]\n",
        "def hak(a):\n",
        "  if a < 0.6 :\n",
        "    return 'F'\n",
        "  elif 0.6 <= a < 0.7 :\n",
        "    return 'D'\n",
        "  elif 0.7 <= a < 0.8:\n",
        "    return 'B'\n",
        "  elif 0.8 <= a < 0.9:\n",
        "    return 'A'\n",
        "  else:\n",
        "    return \"Bad score\"\n",
        "\n",
        "a = input('Enter score: ')\n",
        "if a != float :\n",
        "  print(\"Bad score\")"
      ],
      "metadata": {
        "colab": {
          "base_uri": "https://localhost:8080/"
        },
        "id": "u4QrfAfHxWpL",
        "outputId": "7d0d75ac-8d48-4646-aad3-dae2f5a68c87"
      },
      "execution_count": null,
      "outputs": [
        {
          "output_type": "stream",
          "name": "stdout",
          "text": [
            "Enter score: 0.95\n",
            "Bad score\n"
          ]
        }
      ]
    },
    {
      "cell_type": "code",
      "source": [
        "# 8-1\n",
        "score = [70,90,60,100,50]\n",
        "cnt = 0 # 반드시 초기화\n",
        "for i in range(5):\n",
        "  if score[i]>=70:\n",
        "    cnt += 1\n",
        "\n",
        "print('count:', cnt)"
      ],
      "metadata": {
        "id": "UQdOvI_rPXm5",
        "colab": {
          "base_uri": "https://localhost:8080/"
        },
        "outputId": "0bf985c7-52e4-4554-b895-ec349dd4931b"
      },
      "execution_count": null,
      "outputs": [
        {
          "output_type": "stream",
          "name": "stdout",
          "text": [
            "count: 3\n"
          ]
        }
      ]
    },
    {
      "cell_type": "code",
      "source": [
        "# 8-1\n",
        "s=int(input('start num: '))\n",
        "e=int(input('end num: '))\n",
        "\n",
        "# 변수의 초기화\n",
        "total, even, odd=0,0,0\n",
        "for i in range(s,e+1):\n",
        "  total += i\n",
        "  if i % 2 == 0: # 짝수판단\n",
        "    even += i\n",
        "  else:\n",
        "    odd += i\n",
        "\n",
        "print('전체합계 : ', total)\n",
        "print('짝수의 합: ', even)\n",
        "print('홀수의 합: ', odd)\n"
      ],
      "metadata": {
        "colab": {
          "base_uri": "https://localhost:8080/"
        },
        "id": "ouzG9Denl7kt",
        "outputId": "d0d816df-67e9-4a91-d82c-88758eae1645"
      },
      "execution_count": null,
      "outputs": [
        {
          "output_type": "stream",
          "name": "stdout",
          "text": [
            "start num: 1\n",
            "end num: 10\n",
            "전체합계 :  55\n",
            "짝수의 합:  30\n",
            "홀수의 합:  25\n"
          ]
        }
      ]
    },
    {
      "cell_type": "code",
      "source": [
        "# 8-3\n",
        "score=[85, 95, 70, 50, 100]\n",
        "n=0\n",
        "print('코딩 시험 결과 ')\n",
        "print('-'*30)\n",
        "for s in score:\n",
        "  n += 1\n",
        "\n",
        "  if s>=90:\n",
        "    result='LEVEL1'\n",
        "  elif s>=80:\n",
        "    result='LEVEL2'\n",
        "  elif s>=70:\n",
        "    result='LEVEL3'\n",
        "  else:\n",
        "    result='FAIL'\n",
        "\n",
        "  print('{}번 학생의 점수는 {}입니다.'.format(n,s))\n",
        "  print('결과는 {}입니다.'.format(result))\n",
        "  print()"
      ],
      "metadata": {
        "colab": {
          "base_uri": "https://localhost:8080/"
        },
        "id": "C2-a7Wvum0s7",
        "outputId": "a4db0343-6acc-4c2e-b3ea-f4f80239fad6"
      },
      "execution_count": null,
      "outputs": [
        {
          "output_type": "stream",
          "name": "stdout",
          "text": [
            "코딩 시험 결과 \n",
            "------------------------------\n",
            "1번 학생의 점수는 85입니다.\n",
            "결과는 LEVEL2입니다.\n",
            "\n",
            "2번 학생의 점수는 95입니다.\n",
            "결과는 LEVEL1입니다.\n",
            "\n",
            "3번 학생의 점수는 70입니다.\n",
            "결과는 LEVEL3입니다.\n",
            "\n",
            "4번 학생의 점수는 50입니다.\n",
            "결과는 FAIL입니다.\n",
            "\n",
            "5번 학생의 점수는 100입니다.\n",
            "결과는 LEVEL1입니다.\n",
            "\n"
          ]
        }
      ]
    },
    {
      "cell_type": "code",
      "source": [
        "# 8-4\n",
        "import random\n",
        "\n",
        "print('주사위 게임 시작')\n",
        "throw =  input('Enter를 치세요')\n",
        "while throw != '0':\n",
        "  com =  random.randint(1,6)\n",
        "  user = int(input('num: '))\n",
        "  if com>user:\n",
        "    win = 'com'\n",
        "  else:\n",
        "    win = 'user'\n",
        "  print('com {} : user {}, {} win'.format(com, user, win))\n",
        "\n",
        "  throw = input('재시작:Enter, 종료:0')"
      ],
      "metadata": {
        "colab": {
          "base_uri": "https://localhost:8080/"
        },
        "id": "wc0dq4R3oDZI",
        "outputId": "7f310ffa-bb18-47f0-bb8e-ca944281b84a"
      },
      "execution_count": null,
      "outputs": [
        {
          "name": "stdout",
          "output_type": "stream",
          "text": [
            "주사위 게임 시작\n",
            "Enter를 치세요\n",
            "num: 5\n",
            "com 3 : user 5, user win\n",
            "재시작:Enter, 종료:04\n",
            "num: 4\n",
            "com 6 : user 4, com win\n",
            "재시작:Enter, 종료:00\n"
          ]
        }
      ]
    },
    {
      "cell_type": "code",
      "source": [
        "# 8-5\n",
        "print('입력 받은 숫자만큼 막대그래프 그리기')\n",
        "while True:\n",
        "  n = int(input('n:'))\n",
        "  if n==0:\n",
        "    break\n",
        "  for i in range(n):\n",
        "    print('*', end='')\n",
        "  print()\n"
      ],
      "metadata": {
        "colab": {
          "base_uri": "https://localhost:8080/"
        },
        "id": "4KMPSsXNo7QX",
        "outputId": "98d3f6dd-af0d-466f-a507-f27a358675b2"
      },
      "execution_count": null,
      "outputs": [
        {
          "name": "stdout",
          "output_type": "stream",
          "text": [
            "입력 받은 숫자만큼 막대그래프 그리기\n",
            "n:5\n",
            "*****\n",
            "n:4\n",
            "****\n",
            "n:10\n",
            "**********\n",
            "n:0\n"
          ]
        }
      ]
    },
    {
      "cell_type": "code",
      "source": [
        "# 8-6\n",
        "import random\n",
        "\n",
        "print('구구단 게임')\n",
        "while True:\n",
        "  s=input('시작: 아무키나, 종료:0')\n",
        "  if s=='0':break\n",
        "  dan = random.randint(2,9)\n",
        "  num = random.randint(1,9)\n",
        "  print('{}*{} = '.format(dan,num))\n",
        "  ans=int(input('answer: '))\n",
        "  if ans==dan*num:\n",
        "    print('PASS')\n",
        "  else:\n",
        "    print('FAIL')"
      ],
      "metadata": {
        "colab": {
          "base_uri": "https://localhost:8080/"
        },
        "id": "yxtY7OUKpa9k",
        "outputId": "a37604e5-4d68-49c0-ed35-eb03eb5fe6b0"
      },
      "execution_count": null,
      "outputs": [
        {
          "name": "stdout",
          "output_type": "stream",
          "text": [
            "구구단 게임\n",
            "시작: 아무키나, 종료:0\n",
            "9*1 = \n",
            "answer: 9\n",
            "PASS\n",
            "시작: 아무키나, 종료:0\n",
            "9*7 = \n",
            "answer: 63\n",
            "PASS\n",
            "시작: 아무키나, 종료:0\n",
            "4*7 = \n",
            "answer: 10\n",
            "FAIL\n",
            "시작: 아무키나, 종료:0\n",
            "9*2 = \n",
            "answer: 0\n",
            "FAIL\n",
            "시작: 아무키나, 종료:00\n"
          ]
        }
      ]
    },
    {
      "cell_type": "code",
      "source": [
        "# 8-8\n",
        "for i in range(1,11):\n",
        "  cnt=0\n",
        "  print('%2d의 약수 : '% i, end=' ')\n",
        "  for j in range(1,i+1):\n",
        "    if i % j ==0:\n",
        "      print(j, end=' ')\n",
        "      cnt += 1\n",
        "  print('(%d)'% cnt)\n"
      ],
      "metadata": {
        "colab": {
          "base_uri": "https://localhost:8080/"
        },
        "id": "6Grw8O8tqIID",
        "outputId": "05ce1c1d-0439-4b78-ad14-32389af0e8d5"
      },
      "execution_count": null,
      "outputs": [
        {
          "output_type": "stream",
          "name": "stdout",
          "text": [
            " 1의 약수 :  1 (1)\n",
            " 2의 약수 :  1 2 (2)\n",
            " 3의 약수 :  1 3 (2)\n",
            " 4의 약수 :  1 2 4 (3)\n",
            " 5의 약수 :  1 5 (2)\n",
            " 6의 약수 :  1 2 3 6 (4)\n",
            " 7의 약수 :  1 7 (2)\n",
            " 8의 약수 :  1 2 4 8 (4)\n",
            " 9의 약수 :  1 3 9 (3)\n",
            "10의 약수 :  1 2 5 10 (4)\n"
          ]
        }
      ]
    },
    {
      "cell_type": "code",
      "source": [
        "# 8-9\n",
        "score = [70,80,60,100,50]\n",
        "rank=[0]*5\n",
        "n=len(score)\n",
        "for i in range(n):\n",
        "  rank[i]=1\n",
        "  for j in range(n):\n",
        "    if score[i]<score[j]:\n",
        "      rank[i]+=1\n",
        "for i in range(n):\n",
        "  print('score {}, rank {}'.format(score[i],rank[i]))"
      ],
      "metadata": {
        "colab": {
          "base_uri": "https://localhost:8080/"
        },
        "id": "71niTB1jq3I7",
        "outputId": "bfe9508c-a67c-431e-83b0-91a7eae09f21"
      },
      "execution_count": null,
      "outputs": [
        {
          "output_type": "stream",
          "name": "stdout",
          "text": [
            "score 70, rank 3\n",
            "score 80, rank 2\n",
            "score 60, rank 4\n",
            "score 100, rank 1\n",
            "score 50, rank 5\n"
          ]
        }
      ]
    },
    {
      "cell_type": "code",
      "source": [
        "#8-10\n",
        "score=[60,80,90,70,95]\n",
        "cnt=0\n",
        "print(score)\n",
        "for i in range(len(score)):\n",
        "  if score[i]>80:\n",
        "    result='합격'\n",
        "    cnt += 1\n",
        "  else:\n",
        "    result = '불합격'\n",
        "  print('{}번 학생은 {}입니다.'.format(i+1,result))\n",
        "print('합격한 학생 수: ', cnt)"
      ],
      "metadata": {
        "colab": {
          "base_uri": "https://localhost:8080/"
        },
        "id": "GP7buuF-roCI",
        "outputId": "2c0c4024-2e9d-4779-c498-5e0a03da2756"
      },
      "execution_count": null,
      "outputs": [
        {
          "output_type": "stream",
          "name": "stdout",
          "text": [
            "[60, 80, 90, 70, 95]\n",
            "1번 학생은 불합격입니다.\n",
            "2번 학생은 불합격입니다.\n",
            "3번 학생은 합격입니다.\n",
            "4번 학생은 불합격입니다.\n",
            "5번 학생은 합격입니다.\n",
            "합격한 학생 수:  2\n"
          ]
        }
      ]
    },
    {
      "cell_type": "code",
      "source": [
        "# 8-11\n",
        "menu ={}\n",
        "menu['라면']=3000\n",
        "menu['떡볶이']=4000\n",
        "menu['김밥']=2000\n",
        "menu['햄버거']=5000\n",
        "\n",
        "for i in menu.keys():\n",
        "  print('{}-{}'.format(i,menu[i]))\n",
        "\n",
        "while True:\n",
        "  s=input('seach menu : ')\n",
        "  if s=='q':break\n",
        "  print(menu.get(s,'not Found'))\n"
      ],
      "metadata": {
        "id": "vru18rWdsOFc",
        "colab": {
          "base_uri": "https://localhost:8080/"
        },
        "outputId": "7d3ab904-51fd-4ea3-9703-5a9386d04964"
      },
      "execution_count": null,
      "outputs": [
        {
          "name": "stdout",
          "output_type": "stream",
          "text": [
            "라면-3000\n",
            "떡볶이-4000\n",
            "김밥-2000\n",
            "햄버거-5000\n",
            "seach menu : 라면\n",
            "3000\n",
            "seach menu : q\n"
          ]
        }
      ]
    },
    {
      "cell_type": "code",
      "source": [
        "# 8-12\n",
        "n=0\n",
        "club=[]\n",
        "\n",
        "while True:\n",
        "  num=int(input('학번:'))\n",
        "  if num==0:break\n",
        "  name=input('이름:')\n",
        "  dept=input('학과:')\n",
        "  phone=input('연락처:')\n",
        "  addr={'학번':num, '이름':name,'학과': dept, '연락처':phone}\n",
        "  club.append(addr)\n",
        "  print('{}'.format(club[n]))\n",
        "  n += 1"
      ],
      "metadata": {
        "colab": {
          "base_uri": "https://localhost:8080/"
        },
        "id": "65d9_WianDAc",
        "outputId": "4679c911-9bb3-4660-f6c8-c921a35b2f66"
      },
      "execution_count": null,
      "outputs": [
        {
          "name": "stdout",
          "output_type": "stream",
          "text": [
            "학번:2020615076\n",
            "이름:타바루 나미카\n",
            "학과:국제경제통상학과 \n",
            "연락처:010-0000-1111\n",
            "{'학번': 2020615076, '이름': '타바루 나미카', '학과': '국제경제통상학과 ', '연락처': '010-0000-1111'}\n",
            "학번:100\n",
            "이름:a\n",
            "학과:t\n",
            "연락처:010\n",
            "{'학번': 100, '이름': 'a', '학과': 't', '연락처': '010'}\n",
            "학번:0\n"
          ]
        }
      ]
    },
    {
      "cell_type": "code",
      "source": [
        "# 실습 8-1\n",
        "score=[]\n",
        "p,f=0,0\n",
        "cnt=int(input('수강 과목 수 :'))\n",
        "\n",
        "for i in range(cnt):\n",
        "  s=int(input('score %d : ' %(i+1)))\n",
        "  score.append(s)\n",
        "\n",
        "for i in range(cnt):\n",
        "  if score[i]>80:\n",
        "    p+=1\n",
        "  else:\n",
        "    f += 1\n",
        "print('pass : ',p)\n",
        "print('fail : ',f)"
      ],
      "metadata": {
        "colab": {
          "base_uri": "https://localhost:8080/"
        },
        "id": "BvZjJRPFoCTN",
        "outputId": "482015d2-7356-4bd4-898f-30a86657693f"
      },
      "execution_count": null,
      "outputs": [
        {
          "output_type": "stream",
          "name": "stdout",
          "text": [
            "수강 과목 수 :5\n",
            "score 1 : 100\n",
            "score 2 : 70\n",
            "score 3 : 60\n",
            "score 4 : 80\n",
            "score 5 : 90\n",
            "pass :  2\n",
            "fail :  3\n"
          ]
        }
      ]
    },
    {
      "cell_type": "code",
      "source": [
        "# 8-2\n",
        "s=int(input('start num: '))\n",
        "e=int(input('end num: '))\n",
        "\n",
        "total=0\n",
        "\n",
        "for i in range(s, e+1):\n",
        "  if i % 3 != 0:\n",
        "    total += i\n",
        "\n",
        "print('3의 배수를 제외한 숫자의 합', total)"
      ],
      "metadata": {
        "colab": {
          "base_uri": "https://localhost:8080/"
        },
        "id": "fnHhyv463_B3",
        "outputId": "be9be475-d391-4f05-b465-44ebebccd06e"
      },
      "execution_count": null,
      "outputs": [
        {
          "output_type": "stream",
          "name": "stdout",
          "text": [
            "start num: 1\n",
            "end num: 10\n",
            "3의 배수를 제외한 숫자의 합 37\n"
          ]
        }
      ]
    },
    {
      "cell_type": "code",
      "source": [
        "# 실습 8-3\n",
        "print('정수를 입력.0 입력시 종료됨')\n",
        "total=0\n",
        "s=int(input('num : '))\n",
        "\n",
        "while s!=0:\n",
        "  total += s\n",
        "  s=int(input('num :'))\n",
        "\n",
        "print('총 합계 : ', total)"
      ],
      "metadata": {
        "colab": {
          "base_uri": "https://localhost:8080/"
        },
        "id": "GzBIa90e4Wix",
        "outputId": "e50f0ac5-8c2e-4585-f4e7-16c9df91ac01"
      },
      "execution_count": null,
      "outputs": [
        {
          "output_type": "stream",
          "name": "stdout",
          "text": [
            "정수를 입력.0 입력시 종료됨\n",
            "num : 100\n",
            "num :100\n",
            "num :100\n",
            "num :100\n",
            "num :0\n",
            "총 합계 :  400\n"
          ]
        }
      ]
    },
    {
      "cell_type": "code",
      "source": [
        "# 8장 도전 1-1\n",
        "import random\n",
        "\n",
        "print('덧셈 게임')\n",
        "score=0\n",
        "while True:\n",
        "  s=input('시작:아무키나, 종료:0')\n",
        "  if s=='0':break\n",
        "  n1=random.randint(1,100)\n",
        "  n2=random.randint(1,100)\n",
        "  print('{} + {} = '.format(n1,n2))\n",
        "  ans= int(input('answer:'))\n",
        "  if ans==(n1+n2):\n",
        "    print('정답')\n",
        "    score += 10\n",
        "  else:\n",
        "    print('오답')\n",
        "    score -=5\n",
        "print('score: ',score)"
      ],
      "metadata": {
        "colab": {
          "base_uri": "https://localhost:8080/"
        },
        "id": "VR2IOevt49Ts",
        "outputId": "ec888ee9-b0e7-4209-c334-96f21c2fad09"
      },
      "execution_count": null,
      "outputs": [
        {
          "output_type": "stream",
          "name": "stdout",
          "text": [
            "덧셈 게임\n",
            "시작:아무키나, 종료:0\n",
            "72 + 19 = \n",
            "answer:91\n",
            "정답\n",
            "시작:아무키나, 종료:0\n",
            "22 + 87 = \n",
            "answer:109\n",
            "정답\n",
            "시작:아무키나, 종료:0\n",
            "19 + 62 = \n",
            "answer:81\n",
            "정답\n",
            "시작:아무키나, 종료:0\n",
            "32 + 80 = \n",
            "answer:112\n",
            "정답\n",
            "시작:아무키나, 종료:00\n",
            "score:  40\n"
          ]
        }
      ]
    },
    {
      "cell_type": "code",
      "source": [
        "# 8장 도전 1-2\n",
        "score=[]\n",
        "total=0\n",
        "for i in range(5):\n",
        "  s=int(input('score : '))\n",
        "  score.append(s)\n",
        "for i in score:\n",
        "  total += s\n",
        "avg=total/5\n",
        "\n",
        "print('total :',total)\n",
        "print('avg :',avg)"
      ],
      "metadata": {
        "colab": {
          "base_uri": "https://localhost:8080/"
        },
        "id": "skS8vNkE6But",
        "outputId": "2a6869d3-a033-4dc8-ef86-2d43786b760d"
      },
      "execution_count": null,
      "outputs": [
        {
          "output_type": "stream",
          "name": "stdout",
          "text": [
            "score : 100\n",
            "score : 100\n",
            "score : 100\n",
            "score : 100\n",
            "score : 100\n",
            "total : 500\n",
            "avg : 100.0\n"
          ]
        }
      ]
    },
    {
      "cell_type": "code",
      "source": [
        "# 8장 도전 1-3\n",
        "price=[]\n",
        "\n",
        "for i in range(5):\n",
        "  p=int(input('price : '))\n",
        "  price.append(p)\n",
        "\n",
        "m=price[0]\n",
        "\n",
        "for i in range(1,5):\n",
        "  if m > price[i]:\n",
        "    m = price[i]\n",
        "\n",
        "print('min : ',m)"
      ],
      "metadata": {
        "colab": {
          "base_uri": "https://localhost:8080/"
        },
        "id": "ZsZO8Mn78KYJ",
        "outputId": "699bbdad-9b5b-4ef7-aca6-5a3784b20af2"
      },
      "execution_count": null,
      "outputs": [
        {
          "output_type": "stream",
          "name": "stdout",
          "text": [
            "price : 12000\n",
            "price : 1000\n",
            "price : 15000\n",
            "price : 170\n",
            "price : 2000\n",
            "min :  170\n"
          ]
        }
      ]
    },
    {
      "cell_type": "code",
      "source": [
        "# 8장 도전 2-1\n",
        "n=0\n",
        "friend = []\n",
        "\n",
        "while True:\n",
        "  num=int(input('1) 친구 등록 2) 검색 3) 종료 :'))\n",
        "  if num==1:\n",
        "    name=input('name:')\n",
        "    phone=input('phone:')\n",
        "    addr={'name':name, 'phone':phone}\n",
        "    friend.append(addr)\n",
        "  elif num==2:\n",
        "    n=input('name : ')\n",
        "    if num=='3':break\n",
        "    print(friend.get(n, 'not Found'))"
      ],
      "metadata": {
        "colab": {
          "base_uri": "https://localhost:8080/",
          "height": 296
        },
        "id": "Xs3vpaNd9cQj",
        "outputId": "947cdb00-4837-4566-c390-b2e9abd9cee4"
      },
      "execution_count": null,
      "outputs": [
        {
          "name": "stdout",
          "output_type": "stream",
          "text": [
            "1) 친구 등록 2) 검색 3) 종료 :1\n",
            "name:김은실\n",
            "phone:010\n"
          ]
        },
        {
          "output_type": "error",
          "ename": "AttributeError",
          "evalue": "ignored",
          "traceback": [
            "\u001b[0;31m---------------------------------------------------------------------------\u001b[0m",
            "\u001b[0;31mAttributeError\u001b[0m                            Traceback (most recent call last)",
            "\u001b[0;32m<ipython-input-24-e558a63b723e>\u001b[0m in \u001b[0;36m<cell line: 5>\u001b[0;34m()\u001b[0m\n\u001b[1;32m      9\u001b[0m     \u001b[0mphone\u001b[0m\u001b[0;34m=\u001b[0m\u001b[0minput\u001b[0m\u001b[0;34m(\u001b[0m\u001b[0;34m'phone:'\u001b[0m\u001b[0;34m)\u001b[0m\u001b[0;34m\u001b[0m\u001b[0;34m\u001b[0m\u001b[0m\n\u001b[1;32m     10\u001b[0m     \u001b[0maddr\u001b[0m\u001b[0;34m=\u001b[0m\u001b[0;34m{\u001b[0m\u001b[0;34m'name'\u001b[0m\u001b[0;34m:\u001b[0m\u001b[0mname\u001b[0m\u001b[0;34m,\u001b[0m \u001b[0;34m'phone'\u001b[0m\u001b[0;34m:\u001b[0m\u001b[0mphone\u001b[0m\u001b[0;34m}\u001b[0m\u001b[0;34m\u001b[0m\u001b[0;34m\u001b[0m\u001b[0m\n\u001b[0;32m---> 11\u001b[0;31m     \u001b[0mfriend\u001b[0m\u001b[0;34m.\u001b[0m\u001b[0mappend\u001b[0m\u001b[0;34m(\u001b[0m\u001b[0maddr\u001b[0m\u001b[0;34m)\u001b[0m\u001b[0;34m\u001b[0m\u001b[0;34m\u001b[0m\u001b[0m\n\u001b[0m\u001b[1;32m     12\u001b[0m   \u001b[0;32melif\u001b[0m \u001b[0mnum\u001b[0m\u001b[0;34m==\u001b[0m\u001b[0;36m2\u001b[0m\u001b[0;34m:\u001b[0m\u001b[0;34m\u001b[0m\u001b[0;34m\u001b[0m\u001b[0m\n\u001b[1;32m     13\u001b[0m     \u001b[0mn\u001b[0m\u001b[0;34m=\u001b[0m\u001b[0minput\u001b[0m\u001b[0;34m(\u001b[0m\u001b[0;34m'name : '\u001b[0m\u001b[0;34m)\u001b[0m\u001b[0;34m\u001b[0m\u001b[0;34m\u001b[0m\u001b[0m\n",
            "\u001b[0;31mAttributeError\u001b[0m: 'dict' object has no attribute 'append'"
          ]
        }
      ]
    },
    {
      "cell_type": "code",
      "source": [
        "friend_list = []\n",
        "\n",
        "while True:\n",
        "    num = int(input('1) 친구 등록 2) 검색 3) 종료: '))\n",
        "\n",
        "    if num == 1:\n",
        "        name = input('name : ')\n",
        "        phone = input('phone: ')\n",
        "        friend = {'name': name, 'phone': phone}\n",
        "        friend_list.append(friend)\n",
        "\n",
        "    elif num == 2:\n",
        "        search_name = input('name: ')\n",
        "        found = False\n",
        "        for friend in friend_list:\n",
        "            if friend['name'] == search_name:\n",
        "                print(f\"{friend['phone']}\")\n",
        "                found = True\n",
        "                break\n",
        "        if not found:\n",
        "            print('not Fond')\n",
        "\n",
        "    elif num == 3:\n",
        "        break\n"
      ],
      "metadata": {
        "colab": {
          "base_uri": "https://localhost:8080/"
        },
        "id": "_RLiJghaGjq4",
        "outputId": "b2dafdef-1518-48be-a750-2ae10a4675b5"
      },
      "execution_count": null,
      "outputs": [
        {
          "name": "stdout",
          "output_type": "stream",
          "text": [
            "1) 친구 등록 2) 검색 3) 종료: 1\n",
            "name : 장은실\n",
            "phone: 010-0000-0000\n",
            "1) 친구 등록 2) 검색 3) 종료: 1\n",
            "name : 오경선\n",
            "phone: 010-0000-0000\n",
            "1) 친구 등록 2) 검색 3) 종료: 2\n",
            "name: 장은실\n",
            "010-0000-0000\n",
            "1) 친구 등록 2) 검색 3) 종료: 2\n",
            "name: 양숙희\n",
            "not Fond\n",
            "1) 친구 등록 2) 검색 3) 종료: 3\n"
          ]
        }
      ]
    },
    {
      "cell_type": "code",
      "source": [
        "cnt = 0\n",
        "\n",
        "for i in range(3):\n",
        "    pw = input('패스워드 입력: ')\n",
        "    if pw != 'admin':\n",
        "        print('암호가 틀립니다.')\n",
        "        cnt += 1\n",
        "        if cnt >= 3:\n",
        "            print('시도횟수초과.')\n",
        "            break\n",
        "    else:\n",
        "        print('환영합니다.')\n",
        "        break\n",
        "\n",
        "print('프로그램 종료')\n"
      ],
      "metadata": {
        "colab": {
          "base_uri": "https://localhost:8080/"
        },
        "id": "lL80Zu0AI3D9",
        "outputId": "902d195b-0b87-4fce-e279-b2291efc972c"
      },
      "execution_count": null,
      "outputs": [
        {
          "output_type": "stream",
          "name": "stdout",
          "text": [
            "패스워드 입력: a\n",
            "암호가 틀립니다.\n",
            "패스워드 입력: ab\n",
            "암호가 틀립니다.\n",
            "패스워드 입력: abc\n",
            "암호가 틀립니다.\n",
            "시도횟수초과.\n",
            "프로그램 종료\n"
          ]
        }
      ]
    },
    {
      "cell_type": "code",
      "source": [
        "#8장 도전 2-3\n",
        "import random\n",
        "\n",
        "lotto = []\n",
        "print('로또 프로그램 시작')\n",
        "\n",
        "cnt = 0\n",
        "while True:\n",
        "    a = random.randint(1, 45)\n",
        "    lotto.append(a)\n",
        "    cnt += 1\n",
        "    if cnt >= 6:\n",
        "        break\n",
        "\n",
        "print('추첨된 로또 번호')\n",
        "lotto.sort()\n",
        "\n",
        "for i in range(6):\n",
        "    print('{} '.format(lotto[i]), end='')\n",
        "\n"
      ],
      "metadata": {
        "colab": {
          "base_uri": "https://localhost:8080/"
        },
        "id": "wO0sHgeQMDVe",
        "outputId": "20dce1b6-1c86-4893-fe53-b34befc4e54f"
      },
      "execution_count": null,
      "outputs": [
        {
          "output_type": "stream",
          "name": "stdout",
          "text": [
            "로또 프로그램 시작\n",
            "추첨된 로또 번호\n",
            "6 24 37 38 39 43 "
          ]
        }
      ]
    },
    {
      "cell_type": "code",
      "source": [
        "day31 = [1,3,5,7,8,10,12]\n",
        "day30 = [4,6,9,11]\n",
        "year = int(input('년도 입력: '))\n",
        "month = int(input('월 입력: '))\n",
        "if month <1 or month > 12:\n",
        "  print('존재하지 않는 월!!')\n",
        "elif month in day31:\n",
        "  result = 31\n",
        "elif month in day31:\n",
        "  result = 30\n",
        "elif year%4==0 and year%100==0 or year%400==0:\n",
        "  result = 29\n",
        "  if month == 2:\n",
        "    result =\n",
        "else :\n",
        "  result = 28\n",
        "print('%d년 %d월은 %d까지'%(year, month, result))\n"
      ],
      "metadata": {
        "id": "e3bCe-ymRP4l",
        "colab": {
          "base_uri": "https://localhost:8080/"
        },
        "outputId": "68c2bafc-fc67-4df2-bd64-598484ff8d02"
      },
      "execution_count": null,
      "outputs": [
        {
          "output_type": "stream",
          "name": "stdout",
          "text": [
            "년도 입력: 2024\n",
            "월 입력: 2\n",
            "2024년 2월은 28까지\n"
          ]
        }
      ]
    },
    {
      "cell_type": "code",
      "source": [
        "num = int(input())\n",
        "if num%2!=0:\n",
        "  print(num,\"은 홀수입니다. \")\n",
        "else:\n",
        "  print(num,\"은 짝수입니다.\")"
      ],
      "metadata": {
        "colab": {
          "base_uri": "https://localhost:8080/"
        },
        "id": "EviwMyrh8EeQ",
        "outputId": "a9a5e4ee-9757-40fc-cb5c-3e20fa2391df"
      },
      "execution_count": null,
      "outputs": [
        {
          "output_type": "stream",
          "name": "stdout",
          "text": [
            "4\n",
            "4 은 짝수입니다.\n"
          ]
        }
      ]
    },
    {
      "cell_type": "code",
      "source": [
        "id = input(\"id를 입력해주세요.\")\n",
        "passward = input(\"비밀번호를 입력해주세요.\")\n",
        "if id != \"admin\" and password != \"1234\" :\n",
        "  print(\"id나 비밀번호가 잘못했습니다.\")\n",
        "else :\n",
        "  print(\"로그인 성공\")"
      ],
      "metadata": {
        "colab": {
          "base_uri": "https://localhost:8080/"
        },
        "id": "j8_bQ6gu-kR2",
        "outputId": "e54113e2-8ba9-4f7c-ee94-272cb4548a6b"
      },
      "execution_count": null,
      "outputs": [
        {
          "output_type": "stream",
          "name": "stdout",
          "text": [
            "id를 입력해주세요.admin\n",
            "비밀번호를 입력해주세요.2345\n",
            "로그인 성공\n"
          ]
        }
      ]
    },
    {
      "cell_type": "code",
      "source": [
        "year = 1\n",
        "while year <= 3 :\n",
        "  print(\"상당개\", year, '년')\n",
        "  year += 1\n",
        "\n",
        "print('풍원을 옯습니다.')"
      ],
      "metadata": {
        "colab": {
          "base_uri": "https://localhost:8080/"
        },
        "id": "SAFMilgT_TLJ",
        "outputId": "55fc28ce-e8e3-4e8f-fba3-bb75e2d5381d"
      },
      "execution_count": null,
      "outputs": [
        {
          "output_type": "stream",
          "name": "stdout",
          "text": [
            "상당개 1 년\n",
            "상당개 2 년\n",
            "상당개 3 년\n",
            "풍원을 옯습니다.\n"
          ]
        }
      ]
    },
    {
      "cell_type": "code",
      "source": [
        "num = int(input('단 입력: '))\n",
        "for i in range(1, 10):\n",
        "  print('%d * %d = %d'%(num, i, num*i))"
      ],
      "metadata": {
        "colab": {
          "base_uri": "https://localhost:8080/"
        },
        "id": "LyBUVzocABhA",
        "outputId": "7f69ae35-d17a-42e7-b154-2c4f3b31220d"
      },
      "execution_count": null,
      "outputs": [
        {
          "output_type": "stream",
          "name": "stdout",
          "text": [
            "단 입력: 3\n",
            "3 * 1 = 3\n",
            "3 * 2 = 6\n",
            "3 * 3 = 9\n",
            "3 * 4 = 12\n",
            "3 * 5 = 15\n",
            "3 * 6 = 18\n",
            "3 * 7 = 21\n",
            "3 * 8 = 24\n",
            "3 * 9 = 27\n"
          ]
        }
      ]
    },
    {
      "cell_type": "code",
      "source": [
        "num = int(input('단 입력:'))\n",
        "for i in range(1,10):\n",
        "  print('%d * %d = %d'%(num, i, num*i))"
      ],
      "metadata": {
        "id": "CmZ-uSOUDjWv"
      },
      "execution_count": null,
      "outputs": []
    },
    {
      "cell_type": "code",
      "source": [
        "i = 1\n",
        "num = int(input('단 입력:'))\n",
        "while i <= 9:\n",
        "  print('%d * %d = %d'%(num, i, num*i))\n",
        "  i += 1"
      ],
      "metadata": {
        "colab": {
          "base_uri": "https://localhost:8080/"
        },
        "id": "WUsYt6MxD6Bj",
        "outputId": "ec9df5ad-554a-423a-918c-219ae61ba836"
      },
      "execution_count": null,
      "outputs": [
        {
          "output_type": "stream",
          "name": "stdout",
          "text": [
            "단 입력:5\n",
            "5 * 1 = 5\n",
            "5 * 2 = 10\n",
            "5 * 3 = 15\n",
            "5 * 4 = 20\n",
            "5 * 5 = 25\n",
            "5 * 6 = 30\n",
            "5 * 7 = 35\n",
            "5 * 8 = 40\n",
            "5 * 9 = 45\n"
          ]
        }
      ]
    },
    {
      "cell_type": "code",
      "source": [],
      "metadata": {
        "id": "iF-ihunDXgQm"
      },
      "execution_count": null,
      "outputs": []
    },
    {
      "cell_type": "code",
      "source": [
        "students = []\n",
        "sum = 0\n",
        "\n",
        "num = int(input('학생 수 입력:'))\n",
        "for i in range(num):\n",
        "  print('<<',i+1, \"번째 학생 정보 입력 >>\")\n",
        "  name = input('학생 이름 입력: ')\n",
        "  score = int(input('%s 점수 입력: '% name))\n",
        "  students.append([name, score])\n",
        "  sum += score\n",
        "\n",
        "for info in students:\n",
        "  print('이름: %s, 점수: %d '%(info[0], info[1]))\n",
        "print('학생들 점수 평균: %5.2f' % (sum/num))"
      ],
      "metadata": {
        "colab": {
          "base_uri": "https://localhost:8080/"
        },
        "id": "z3A3qHDZD6Eq",
        "outputId": "a32b1142-5624-4cab-92c6-fc57f1a1d272"
      },
      "execution_count": null,
      "outputs": [
        {
          "output_type": "stream",
          "name": "stdout",
          "text": [
            "학생 수 입력:2\n",
            "<< 1 번째 학생 정보 입력 >>\n",
            "학생 이름 입력: a\n",
            "a 점수 입력: 90\n",
            "<< 2 번째 학생 정보 입력 >>\n",
            "학생 이름 입력: c\n",
            "c 점수 입력: 100\n",
            "이름: a, 점수: 90 \n",
            "이름: c, 점수: 100 \n",
            "학생들 점수 평균: 95.00\n"
          ]
        }
      ]
    },
    {
      "cell_type": "code",
      "source": [
        "students = {}\n",
        "sum = 0\n",
        "\n",
        "num = int(input('학생 수 입력:'))\n",
        "for i in range(num):\n",
        "  print('<<',i+1, \"번째 학생 정보 입력 >>\")\n",
        "  name = input('학생 이름 입력: ')\n",
        "  score = int(input('%s 점수 입력: '% name))\n",
        "  students.update({name:score})\n",
        "  sum += score\n",
        "\n",
        "for info in students :\n",
        "  print(list(info.keys())[0])"
      ],
      "metadata": {
        "colab": {
          "base_uri": "https://localhost:8080/",
          "height": 331
        },
        "id": "E9KZbv50D6HJ",
        "outputId": "f8bc360c-0d0a-4cd1-eda0-2185b9258b14"
      },
      "execution_count": null,
      "outputs": [
        {
          "name": "stdout",
          "output_type": "stream",
          "text": [
            "학생 수 입력:2\n",
            "<< 1 번째 학생 정보 입력 >>\n",
            "학생 이름 입력: a\n",
            "a 점수 입력: 100\n",
            "<< 2 번째 학생 정보 입력 >>\n",
            "학생 이름 입력: c\n",
            "c 점수 입력: 90\n"
          ]
        },
        {
          "output_type": "error",
          "ename": "AttributeError",
          "evalue": "ignored",
          "traceback": [
            "\u001b[0;31m---------------------------------------------------------------------------\u001b[0m",
            "\u001b[0;31mAttributeError\u001b[0m                            Traceback (most recent call last)",
            "\u001b[0;32m<ipython-input-56-e8236ad5ae1f>\u001b[0m in \u001b[0;36m<cell line: 13>\u001b[0;34m()\u001b[0m\n\u001b[1;32m     12\u001b[0m \u001b[0minfo\u001b[0m \u001b[0;34m=\u001b[0m \u001b[0;34m{\u001b[0m\u001b[0;34m}\u001b[0m\u001b[0;34m\u001b[0m\u001b[0;34m\u001b[0m\u001b[0m\n\u001b[1;32m     13\u001b[0m \u001b[0;32mfor\u001b[0m \u001b[0minfo\u001b[0m \u001b[0;32min\u001b[0m \u001b[0mstudents\u001b[0m \u001b[0;34m:\u001b[0m\u001b[0;34m\u001b[0m\u001b[0;34m\u001b[0m\u001b[0m\n\u001b[0;32m---> 14\u001b[0;31m   \u001b[0mprint\u001b[0m\u001b[0;34m(\u001b[0m\u001b[0mlist\u001b[0m\u001b[0;34m(\u001b[0m\u001b[0minfo\u001b[0m\u001b[0;34m.\u001b[0m\u001b[0mkeys\u001b[0m\u001b[0;34m(\u001b[0m\u001b[0;34m)\u001b[0m\u001b[0;34m)\u001b[0m\u001b[0;34m[\u001b[0m\u001b[0;36m0\u001b[0m\u001b[0;34m]\u001b[0m\u001b[0;34m)\u001b[0m\u001b[0;34m\u001b[0m\u001b[0;34m\u001b[0m\u001b[0m\n\u001b[0m",
            "\u001b[0;31mAttributeError\u001b[0m: 'str' object has no attribute 'keys'"
          ]
        }
      ]
    },
    {
      "cell_type": "code",
      "source": [
        "\n",
        "for info in students:\n",
        "  print('이름: %s, 점수: %d '%(info.keys(), info.values()))\n",
        "print('학생들 점수 평균: %5.2f' % (sum/num))"
      ],
      "metadata": {
        "colab": {
          "base_uri": "https://localhost:8080/"
        },
        "id": "Mkdc5RPPD6N1",
        "outputId": "2f4ae41c-46b6-4250-eae1-c21f435182fe"
      },
      "execution_count": null,
      "outputs": [
        {
          "output_type": "execute_result",
          "data": {
            "text/plain": [
              "2"
            ]
          },
          "metadata": {},
          "execution_count": 28
        }
      ]
    },
    {
      "cell_type": "code",
      "source": [
        "# initializing dictionary\n",
        "test_dict = {\"geeks\": 7, \"for\": 1, \"geeks\": 2}\n",
        "\n",
        "# accessing 2nd element using keys()\n",
        "print('2nd key using keys() : ', list(test_dict.keys())[1])"
      ],
      "metadata": {
        "colab": {
          "base_uri": "https://localhost:8080/"
        },
        "id": "mbPIdQxKWrwN",
        "outputId": "67a7fdf7-5bdc-4781-9358-298269c6e085"
      },
      "execution_count": null,
      "outputs": [
        {
          "output_type": "stream",
          "name": "stdout",
          "text": [
            "2nd key using keys() :  for\n"
          ]
        }
      ]
    },
    {
      "cell_type": "code",
      "source": [
        "for i in range(5):\n",
        "  print(\"*\"*(5-i))\n"
      ],
      "metadata": {
        "colab": {
          "base_uri": "https://localhost:8080/"
        },
        "id": "p_nIubGiZGIv",
        "outputId": "82a478b3-7dc9-4946-cb6e-938408f123ac"
      },
      "execution_count": null,
      "outputs": [
        {
          "output_type": "stream",
          "name": "stdout",
          "text": [
            "*****\n",
            "****\n",
            "***\n",
            "**\n",
            "*\n"
          ]
        }
      ]
    },
    {
      "cell_type": "code",
      "source": [
        "for i in range(5):\n",
        "  print(str(5-i) * (5-i))"
      ],
      "metadata": {
        "colab": {
          "base_uri": "https://localhost:8080/"
        },
        "id": "zKJ2uz0rb64L",
        "outputId": "37cfd96a-aa15-4e08-b88e-193b3c668dac"
      },
      "execution_count": null,
      "outputs": [
        {
          "output_type": "stream",
          "name": "stdout",
          "text": [
            "55555\n",
            "4444\n",
            "333\n",
            "22\n",
            "1\n"
          ]
        }
      ]
    },
    {
      "cell_type": "code",
      "source": [
        "print('입력 받은 숫자만큼 막대그래프 그리기')\n",
        "while True:\n",
        "  n = int(input('n:'))\n",
        "  if n==0:\n",
        "    break\n",
        "  for i in range(n):\n",
        "    print('*',end='')\n",
        "  print()"
      ],
      "metadata": {
        "colab": {
          "base_uri": "https://localhost:8080/",
          "height": 349
        },
        "id": "EdIrm2BPcBZ_",
        "outputId": "b4bb34f7-7022-4601-c982-7a15baf26f3c"
      },
      "execution_count": null,
      "outputs": [
        {
          "name": "stdout",
          "output_type": "stream",
          "text": [
            "입력 받은 숫자만큼 막대그래프 그리기\n",
            "n:5\n",
            "*****\n",
            "n:3\n",
            "***\n",
            "n:\n"
          ]
        },
        {
          "output_type": "error",
          "ename": "ValueError",
          "evalue": "ignored",
          "traceback": [
            "\u001b[0;31m---------------------------------------------------------------------------\u001b[0m",
            "\u001b[0;31mValueError\u001b[0m                                Traceback (most recent call last)",
            "\u001b[0;32m<ipython-input-60-9c803a953d8d>\u001b[0m in \u001b[0;36m<cell line: 2>\u001b[0;34m()\u001b[0m\n\u001b[1;32m      1\u001b[0m \u001b[0mprint\u001b[0m\u001b[0;34m(\u001b[0m\u001b[0;34m'입력 받은 숫자만큼 막대그래프 그리기'\u001b[0m\u001b[0;34m)\u001b[0m\u001b[0;34m\u001b[0m\u001b[0;34m\u001b[0m\u001b[0m\n\u001b[1;32m      2\u001b[0m \u001b[0;32mwhile\u001b[0m \u001b[0;32mTrue\u001b[0m\u001b[0;34m:\u001b[0m\u001b[0;34m\u001b[0m\u001b[0;34m\u001b[0m\u001b[0m\n\u001b[0;32m----> 3\u001b[0;31m   \u001b[0mn\u001b[0m \u001b[0;34m=\u001b[0m \u001b[0mint\u001b[0m\u001b[0;34m(\u001b[0m\u001b[0minput\u001b[0m\u001b[0;34m(\u001b[0m\u001b[0;34m'n:'\u001b[0m\u001b[0;34m)\u001b[0m\u001b[0;34m)\u001b[0m\u001b[0;34m\u001b[0m\u001b[0;34m\u001b[0m\u001b[0m\n\u001b[0m\u001b[1;32m      4\u001b[0m   \u001b[0;32mif\u001b[0m \u001b[0mn\u001b[0m\u001b[0;34m==\u001b[0m\u001b[0;36m0\u001b[0m\u001b[0;34m:\u001b[0m\u001b[0;34m\u001b[0m\u001b[0;34m\u001b[0m\u001b[0m\n\u001b[1;32m      5\u001b[0m     \u001b[0;32mbreak\u001b[0m\u001b[0;34m\u001b[0m\u001b[0;34m\u001b[0m\u001b[0m\n",
            "\u001b[0;31mValueError\u001b[0m: invalid literal for int() with base 10: ''"
          ]
        }
      ]
    },
    {
      "cell_type": "code",
      "source": [
        "print(\"입력 받은 숫자만큼 악대그래프 그리기\")\n",
        "while True :\n",
        "  n = int(input(\"n:\"))\n",
        "  if n != 0:\n",
        "    for i in range(n):\n",
        "      print(\"*\", end ='')\n",
        "  else:\n",
        "    break\n",
        "  print()"
      ],
      "metadata": {
        "colab": {
          "base_uri": "https://localhost:8080/"
        },
        "id": "Wy_FvxEDcyLH",
        "outputId": "7cedc69f-0fd7-43b7-c3c2-9d03cb856226"
      },
      "execution_count": null,
      "outputs": [
        {
          "name": "stdout",
          "output_type": "stream",
          "text": [
            "입력 받은 숫자만큼 악대그래프 그리기\n",
            "n:3\n",
            "***\n",
            "n:4\n",
            "****\n",
            "n:5\n",
            "*****\n",
            "n:0\n"
          ]
        }
      ]
    },
    {
      "cell_type": "code",
      "source": [
        "print('입력 받은 숫자만큼 막대그래프 그리기')\n",
        "while True:\n",
        "  n = int(input('n:'))\n",
        "  if n != 0:\n",
        "    for i in range(n):\n",
        "      print('*', end = '')\n",
        "  else:\n",
        "    break\n",
        "  print()"
      ],
      "metadata": {
        "colab": {
          "base_uri": "https://localhost:8080/"
        },
        "id": "bU8rY-6PdTIx",
        "outputId": "b3737ac4-4a20-476d-94ff-0602ff54534b"
      },
      "execution_count": null,
      "outputs": [
        {
          "name": "stdout",
          "output_type": "stream",
          "text": [
            "입력 받은 숫자만큼 막대그래프 그리기\n",
            "n:3\n",
            "***\n",
            "n:4\n",
            "****\n",
            "n:5\n",
            "*****\n",
            "n:0\n"
          ]
        }
      ]
    },
    {
      "cell_type": "code",
      "source": [
        "import random\n",
        "\n",
        "print('구구단 게임')\n",
        "while True :\n",
        "  s = input('시자: 아무키나, 종료:0')\n",
        "  if s=='0':\n",
        "    break\n",
        "  dan=random.randint(2,9)\n",
        "  num=random.randint(1,9)\n",
        "  print('{}*{}='.format(dan, num))\n",
        "  ans = int(input('answer'))\n",
        "  if ans ==dan*num:\n",
        "    print('PASS')\n",
        "  else:\n",
        "    print('FAIL')"
      ],
      "metadata": {
        "colab": {
          "base_uri": "https://localhost:8080/",
          "height": 498
        },
        "id": "rlQzftKifWDX",
        "outputId": "52b59cee-c8ad-46e4-f07a-189bf4831075"
      },
      "execution_count": null,
      "outputs": [
        {
          "output_type": "stream",
          "name": "stdout",
          "text": [
            "구구단 게임\n",
            "시자: 아무키나, 종료:0\n",
            "8*2=\n",
            "answer16\n",
            "PASS\n"
          ]
        },
        {
          "output_type": "error",
          "ename": "KeyboardInterrupt",
          "evalue": "ignored",
          "traceback": [
            "\u001b[0;31m---------------------------------------------------------------------------\u001b[0m",
            "\u001b[0;31mKeyboardInterrupt\u001b[0m                         Traceback (most recent call last)",
            "\u001b[0;32m<ipython-input-78-979de143c3cf>\u001b[0m in \u001b[0;36m<cell line: 4>\u001b[0;34m()\u001b[0m\n\u001b[1;32m      3\u001b[0m \u001b[0mprint\u001b[0m\u001b[0;34m(\u001b[0m\u001b[0;34m'구구단 게임'\u001b[0m\u001b[0;34m)\u001b[0m\u001b[0;34m\u001b[0m\u001b[0;34m\u001b[0m\u001b[0m\n\u001b[1;32m      4\u001b[0m \u001b[0;32mwhile\u001b[0m \u001b[0;32mTrue\u001b[0m \u001b[0;34m:\u001b[0m\u001b[0;34m\u001b[0m\u001b[0;34m\u001b[0m\u001b[0m\n\u001b[0;32m----> 5\u001b[0;31m   \u001b[0ms\u001b[0m \u001b[0;34m=\u001b[0m \u001b[0minput\u001b[0m\u001b[0;34m(\u001b[0m\u001b[0;34m'시자: 아무키나, 종료:0'\u001b[0m\u001b[0;34m)\u001b[0m\u001b[0;34m\u001b[0m\u001b[0;34m\u001b[0m\u001b[0m\n\u001b[0m\u001b[1;32m      6\u001b[0m   \u001b[0;32mif\u001b[0m \u001b[0ms\u001b[0m\u001b[0;34m==\u001b[0m\u001b[0;34m'0'\u001b[0m\u001b[0;34m:\u001b[0m\u001b[0;34m\u001b[0m\u001b[0;34m\u001b[0m\u001b[0m\n\u001b[1;32m      7\u001b[0m     \u001b[0;32mbreak\u001b[0m\u001b[0;34m\u001b[0m\u001b[0;34m\u001b[0m\u001b[0m\n",
            "\u001b[0;32m/usr/local/lib/python3.10/dist-packages/ipykernel/kernelbase.py\u001b[0m in \u001b[0;36mraw_input\u001b[0;34m(self, prompt)\u001b[0m\n\u001b[1;32m    849\u001b[0m                 \u001b[0;34m\"raw_input was called, but this frontend does not support input requests.\"\u001b[0m\u001b[0;34m\u001b[0m\u001b[0;34m\u001b[0m\u001b[0m\n\u001b[1;32m    850\u001b[0m             )\n\u001b[0;32m--> 851\u001b[0;31m         return self._input_request(str(prompt),\n\u001b[0m\u001b[1;32m    852\u001b[0m             \u001b[0mself\u001b[0m\u001b[0;34m.\u001b[0m\u001b[0m_parent_ident\u001b[0m\u001b[0;34m,\u001b[0m\u001b[0;34m\u001b[0m\u001b[0;34m\u001b[0m\u001b[0m\n\u001b[1;32m    853\u001b[0m             \u001b[0mself\u001b[0m\u001b[0;34m.\u001b[0m\u001b[0m_parent_header\u001b[0m\u001b[0;34m,\u001b[0m\u001b[0;34m\u001b[0m\u001b[0;34m\u001b[0m\u001b[0m\n",
            "\u001b[0;32m/usr/local/lib/python3.10/dist-packages/ipykernel/kernelbase.py\u001b[0m in \u001b[0;36m_input_request\u001b[0;34m(self, prompt, ident, parent, password)\u001b[0m\n\u001b[1;32m    893\u001b[0m             \u001b[0;32mexcept\u001b[0m \u001b[0mKeyboardInterrupt\u001b[0m\u001b[0;34m:\u001b[0m\u001b[0;34m\u001b[0m\u001b[0;34m\u001b[0m\u001b[0m\n\u001b[1;32m    894\u001b[0m                 \u001b[0;31m# re-raise KeyboardInterrupt, to truncate traceback\u001b[0m\u001b[0;34m\u001b[0m\u001b[0;34m\u001b[0m\u001b[0m\n\u001b[0;32m--> 895\u001b[0;31m                 \u001b[0;32mraise\u001b[0m \u001b[0mKeyboardInterrupt\u001b[0m\u001b[0;34m(\u001b[0m\u001b[0;34m\"Interrupted by user\"\u001b[0m\u001b[0;34m)\u001b[0m \u001b[0;32mfrom\u001b[0m \u001b[0;32mNone\u001b[0m\u001b[0;34m\u001b[0m\u001b[0;34m\u001b[0m\u001b[0m\n\u001b[0m\u001b[1;32m    896\u001b[0m             \u001b[0;32mexcept\u001b[0m \u001b[0mException\u001b[0m \u001b[0;32mas\u001b[0m \u001b[0me\u001b[0m\u001b[0;34m:\u001b[0m\u001b[0;34m\u001b[0m\u001b[0;34m\u001b[0m\u001b[0m\n\u001b[1;32m    897\u001b[0m                 \u001b[0mself\u001b[0m\u001b[0;34m.\u001b[0m\u001b[0mlog\u001b[0m\u001b[0;34m.\u001b[0m\u001b[0mwarning\u001b[0m\u001b[0;34m(\u001b[0m\u001b[0;34m\"Invalid Message:\"\u001b[0m\u001b[0;34m,\u001b[0m \u001b[0mexc_info\u001b[0m\u001b[0;34m=\u001b[0m\u001b[0;32mTrue\u001b[0m\u001b[0;34m)\u001b[0m\u001b[0;34m\u001b[0m\u001b[0;34m\u001b[0m\u001b[0m\n",
            "\u001b[0;31mKeyboardInterrupt\u001b[0m: Interrupted by user"
          ]
        }
      ]
    },
    {
      "cell_type": "code",
      "source": [
        "for i in range(6,0,-1):\n",
        "  for j in range(1,i+1):\n",
        "    print(i,end='')\n",
        "  print()"
      ],
      "metadata": {
        "colab": {
          "base_uri": "https://localhost:8080/"
        },
        "id": "1GS08CnVgbqE",
        "outputId": "d301bf1c-4be5-47b1-c1a2-07387e6db320"
      },
      "execution_count": null,
      "outputs": [
        {
          "output_type": "stream",
          "name": "stdout",
          "text": [
            "666666\n",
            "55555\n",
            "4444\n",
            "333\n",
            "22\n",
            "1\n"
          ]
        }
      ]
    },
    {
      "cell_type": "code",
      "source": [
        "a = input(\"회원이십니까?(y/n)\")\n",
        "if a == \"y\":\n",
        "  print(\"어서 오십시오.\")\n",
        "else:\n",
        "  print('회원가입을 해주세요.')"
      ],
      "metadata": {
        "colab": {
          "base_uri": "https://localhost:8080/"
        },
        "id": "dTCe0uvwg3oO",
        "outputId": "a6f2e67a-4950-4f34-dfa1-8b4d9a439667"
      },
      "execution_count": null,
      "outputs": [
        {
          "output_type": "stream",
          "name": "stdout",
          "text": [
            "회원이십니까?(y/n)y\n",
            "어서 오십시오.\n"
          ]
        }
      ]
    },
    {
      "cell_type": "code",
      "source": [
        "age = int(input(\"나이 입력: \"))\n",
        "price = 20000\n",
        "if 1<= age < 6:\n",
        "  print('입장료 무료')\n",
        "elif 6 <= age < 60:\n",
        "  print('입장료는 %d'%(price))\n",
        "else:\n",
        "  print('입장료는 %d'%(price*0.5))"
      ],
      "metadata": {
        "colab": {
          "base_uri": "https://localhost:8080/"
        },
        "id": "r0c2EJ_ZhxU9",
        "outputId": "278f2db6-8b44-4d1b-b392-77677672efc7"
      },
      "execution_count": null,
      "outputs": [
        {
          "output_type": "stream",
          "name": "stdout",
          "text": [
            "나이 입력: 60\n",
            "입장료는 10000\n"
          ]
        }
      ]
    },
    {
      "cell_type": "code",
      "source": [
        "pocket = ['스마트폰','교통카드','현금']\n",
        "item = input('결제 수단 입력: ')\n",
        "price = 2000\n",
        "if item in pocket and item == '현금':\n",
        "  print('택시를 타세요.')\n",
        "elif item in pocket and item == '교통카드':\n",
        "  print('버스를 타세요.')\n",
        "else:\n",
        "  print('걸어가세요.')"
      ],
      "metadata": {
        "colab": {
          "base_uri": "https://localhost:8080/"
        },
        "id": "FkD-MANTi1c3",
        "outputId": "76886f8a-d8bc-4a1f-8c6b-f5008e0de96b"
      },
      "execution_count": null,
      "outputs": [
        {
          "output_type": "stream",
          "name": "stdout",
          "text": [
            "결제 수단 입력: 현금\n",
            "택시를 타세요.\n"
          ]
        }
      ]
    },
    {
      "cell_type": "code",
      "source": [
        "year = int(input('연도 입력:'))\n",
        "if year % 4 == 0 and year % 100 != 0 or year % 400 ==0:\n",
        "  print('%d 년은 윤년'% year)\n",
        "else:\n",
        "  print('%d 년은 윤년 아님'% year)"
      ],
      "metadata": {
        "colab": {
          "base_uri": "https://localhost:8080/"
        },
        "id": "hFqvtSsvjbqn",
        "outputId": "a4d40f01-e041-4be2-b606-24bb6b692891"
      },
      "execution_count": null,
      "outputs": [
        {
          "output_type": "stream",
          "name": "stdout",
          "text": [
            "연도 입력:1999\n",
            "1999 년은 윤년 아님\n"
          ]
        }
      ]
    },
    {
      "cell_type": "code",
      "source": [
        "day31 = [1,3,5,7,8,10,12]\n",
        "day30 = [4,6,9,11]\n",
        "year = int(input('연도 입력: '))\n",
        "month = int(input('월 입력: '))\n",
        "if month < 1 or month >12 :\n",
        "  print(\"존재하지 않는 월\")\n",
        "elif month in day31 :\n",
        "  result = 31\n",
        "elif month in day30 :\n",
        "  result = 30\n",
        "elif year % 4==0 and year%100 != 0 or year %400==0:\n",
        "  result = 29\n",
        "else:\n",
        "  result = 28\n",
        "print('%d년 %d월은 %d까지'%(year, month, result))"
      ],
      "metadata": {
        "colab": {
          "base_uri": "https://localhost:8080/"
        },
        "id": "zbMgvf4Ll9Lx",
        "outputId": "4e0f262d-974c-478f-aac0-055e20c48be5"
      },
      "execution_count": null,
      "outputs": [
        {
          "output_type": "stream",
          "name": "stdout",
          "text": [
            "연도 입력: 1999\n",
            "월 입력: 7\n",
            "1999년 7월은 31까지\n"
          ]
        }
      ]
    },
    {
      "cell_type": "code",
      "source": [
        "num = int(input('정수 입력: '))\n",
        "if num % 2 != 0:\n",
        "  print('%d은 홀수'% num)\n",
        "else :\n",
        "  print('%d은 짝수')"
      ],
      "metadata": {
        "colab": {
          "base_uri": "https://localhost:8080/"
        },
        "id": "6ui-3aMTnO0B",
        "outputId": "701d348d-fa3e-4609-e615-f130fb998d45"
      },
      "execution_count": null,
      "outputs": [
        {
          "output_type": "stream",
          "name": "stdout",
          "text": [
            "정수 입력: 5\n",
            "5은 홀수\n"
          ]
        }
      ]
    },
    {
      "cell_type": "code",
      "source": [
        "num1 = int(input('첫 번째 수 입력: '))\n",
        "num2 = int(input('두 번째 수 입력: '))\n",
        "op = input('원하는 연산 기호 하나 입력: ')\n",
        "\n",
        "if op == '+':\n",
        "  print('%d + %d = %d'%(num1, num2, num1+num2))\n",
        "elif op == '-':\n",
        "  print('%d - %d = %d'%(num1, num2, num1-num2))\n",
        "elif op == '*':\n",
        "  print('%d * %d = %d'%(num1, num2, num1*num2))\n",
        "elif op == '/':\n",
        "  print('%d / %d = %d'%(num1, num2, num1/num2))\n",
        "else:\n",
        "  print('올바른 기호를 입력하세요.')"
      ],
      "metadata": {
        "colab": {
          "base_uri": "https://localhost:8080/"
        },
        "id": "ubg8M_O9nk5W",
        "outputId": "490c37db-e43a-4746-eb28-49cba915ce68"
      },
      "execution_count": null,
      "outputs": [
        {
          "output_type": "stream",
          "name": "stdout",
          "text": [
            "첫 번째 수 입력: 5\n",
            "두 번째 수 입력: 4\n",
            "원하는 연산 기호 하나 입력: -\n",
            "5 - 4 = 1\n"
          ]
        }
      ]
    },
    {
      "cell_type": "code",
      "source": [
        "score1 = int(input('1차 점수 입력: '))\n",
        "score2 = int(input('2차 점수 입력: '))\n",
        "avg = (score1 + score2)/2\n",
        "\n",
        "if avg >= 70 and score1 >=50 and score2 >= 50:\n",
        "  print('합격')\n",
        "else:\n",
        "  print('불합격')"
      ],
      "metadata": {
        "colab": {
          "base_uri": "https://localhost:8080/"
        },
        "id": "zBeogQonomV-",
        "outputId": "92f865a6-c307-4a44-9cd8-a7a7bf64b0d8"
      },
      "execution_count": null,
      "outputs": [
        {
          "output_type": "stream",
          "name": "stdout",
          "text": [
            "1차 점수 입력: 3\n",
            "2차 점수 입력: 100\n",
            "불합격\n"
          ]
        }
      ]
    },
    {
      "cell_type": "code",
      "source": [
        "for i in range(5):\n",
        "  print('*'*(i+1))"
      ],
      "metadata": {
        "colab": {
          "base_uri": "https://localhost:8080/"
        },
        "id": "1-TcBDpCpTUW",
        "outputId": "249badb4-1dd9-4f4c-e5a8-72e6a32dd2f7"
      },
      "execution_count": null,
      "outputs": [
        {
          "output_type": "stream",
          "name": "stdout",
          "text": [
            "*\n",
            "**\n",
            "***\n",
            "****\n",
            "*****\n"
          ]
        }
      ]
    },
    {
      "cell_type": "code",
      "source": [
        "odd = [1,3,5,7,9]\n",
        "for i in odd:\n",
        "  print(i+1, end = ' ')"
      ],
      "metadata": {
        "colab": {
          "base_uri": "https://localhost:8080/"
        },
        "id": "Q_Wbbasbphaw",
        "outputId": "66f02916-94a5-4c5c-aa14-83f2d27dcf99"
      },
      "execution_count": null,
      "outputs": [
        {
          "output_type": "stream",
          "name": "stdout",
          "text": [
            "2 4 6 8 10 "
          ]
        }
      ]
    },
    {
      "cell_type": "code",
      "source": [
        "for i in 'Python':\n",
        "  print(i, end=' ')"
      ],
      "metadata": {
        "colab": {
          "base_uri": "https://localhost:8080/"
        },
        "id": "d3v7XRpwqC0H",
        "outputId": "6a537096-692f-4693-ce69-ba8a213a35f0"
      },
      "execution_count": null,
      "outputs": [
        {
          "output_type": "stream",
          "name": "stdout",
          "text": [
            "P y t h o n "
          ]
        }
      ]
    },
    {
      "cell_type": "code",
      "source": [
        "year = 1\n",
        "while year <= 3:\n",
        "  print('서당개',year,'년')\n",
        "  year += 1\n",
        "\n",
        "print('풍원을 옲습니다.')"
      ],
      "metadata": {
        "colab": {
          "base_uri": "https://localhost:8080/"
        },
        "id": "_Ob_huK7qKqQ",
        "outputId": "a8ab9ce5-840d-414c-9158-d28f5c1383b0"
      },
      "execution_count": null,
      "outputs": [
        {
          "output_type": "stream",
          "name": "stdout",
          "text": [
            "서당개 1 년\n",
            "서당개 2 년\n",
            "서당개 3 년\n",
            "풍원을 옲습니다.\n"
          ]
        }
      ]
    },
    {
      "cell_type": "code",
      "source": [
        "while True:\n",
        "  num = int(input('번호 입력(종료 0 ):'))\n",
        "  if num == 0:\n",
        "    break\n",
        "  print('while 무한루프로 반복중')"
      ],
      "metadata": {
        "colab": {
          "base_uri": "https://localhost:8080/"
        },
        "id": "2ZqsxDZnqUoS",
        "outputId": "ccbe65e7-7967-4f43-84b9-84e973dfe165"
      },
      "execution_count": null,
      "outputs": [
        {
          "name": "stdout",
          "output_type": "stream",
          "text": [
            "번호 입력(종료 0 ):1\n",
            "while 무한루프로 반복중\n",
            "번호 입력(종료 0 ):3\n",
            "while 무한루프로 반복중\n",
            "번호 입력(종료 0 ):0\n"
          ]
        }
      ]
    },
    {
      "cell_type": "code",
      "source": [
        "alpha = {'A':'1!','B':'2@','C':'3#','D':'4$','E':'5%'}\n",
        "while True:\n",
        "  code = ''\n",
        "  word = input('대문자 A~E 단어 입력(종료:0)')\n",
        "  if word == '0':\n",
        "    break\n",
        "  for ch in word:\n",
        "    code += alpha[ch]\n",
        "  print('단어:', word,', 암호코드:',code,'\\n')\n",
        "print('암호코드 변환 프로그램 종료')"
      ],
      "metadata": {
        "colab": {
          "base_uri": "https://localhost:8080/"
        },
        "id": "CzYnGjBorDZS",
        "outputId": "999c218e-9a26-4960-f17a-01d8bc81c5c3"
      },
      "execution_count": null,
      "outputs": [
        {
          "output_type": "stream",
          "name": "stdout",
          "text": [
            "대문자 A~E 단어 입력(종료:0)A\n",
            "단어: A , 암호코드: 1! \n",
            "\n",
            "대문자 A~E 단어 입력(종료:0)0\n",
            "암호코드 변환 프로그램 종료\n"
          ]
        }
      ]
    },
    {
      "cell_type": "code",
      "source": [
        "start = int(input('시작단 입력: '))\n",
        "end = int(input('종료단 입력: '))\n",
        "for num in range(start, end+1):\n",
        "  i = 1\n",
        "  while i <= 9:\n",
        "    print('%d * %d = %d'% (num, i, num*i))\n",
        "    i += 1\n",
        "print('구구단 프로그램 종료')"
      ],
      "metadata": {
        "colab": {
          "base_uri": "https://localhost:8080/"
        },
        "id": "7lpc_XFZteXs",
        "outputId": "c91bf021-e504-48b8-fa37-a20601ad14ce"
      },
      "execution_count": null,
      "outputs": [
        {
          "output_type": "stream",
          "name": "stdout",
          "text": [
            "시작단 입력: 5\n",
            "종료단 입력: 6\n",
            "5 * 1 = 5\n",
            "5 * 2 = 10\n",
            "5 * 3 = 15\n",
            "5 * 4 = 20\n",
            "5 * 5 = 25\n",
            "5 * 6 = 30\n",
            "5 * 7 = 35\n",
            "5 * 8 = 40\n",
            "5 * 9 = 45\n",
            "6 * 1 = 6\n",
            "6 * 2 = 12\n",
            "6 * 3 = 18\n",
            "6 * 4 = 24\n",
            "6 * 5 = 30\n",
            "6 * 6 = 36\n",
            "6 * 7 = 42\n",
            "6 * 8 = 48\n",
            "6 * 9 = 54\n",
            "구구단 프로그램 종료\n"
          ]
        }
      ]
    },
    {
      "cell_type": "code",
      "source": [
        "main = ['참치', '소고기']\n",
        "side = ['치즈','김치']\n",
        "i = 1\n",
        "for m in main:\n",
        "  for s in side:\n",
        "    print(i,m+'+'+s+'+단무지')\n",
        "    i += 1"
      ],
      "metadata": {
        "colab": {
          "base_uri": "https://localhost:8080/"
        },
        "id": "klZXa-weuM-N",
        "outputId": "2eb211a3-1c10-48e7-8c40-82e101e74751"
      },
      "execution_count": null,
      "outputs": [
        {
          "output_type": "stream",
          "name": "stdout",
          "text": [
            "1 참치+치즈+단무지\n",
            "2 참치+김치+단무지\n",
            "3 소고기+치즈+단무지\n",
            "4 소고기+김치+단무지\n"
          ]
        }
      ]
    },
    {
      "cell_type": "code",
      "source": [
        "students = []\n",
        "sum = 0\n",
        "\n",
        "num = int(input('학생 수 입력: '))\n",
        "for i in range(num):\n",
        "  print('<<', i+1, '번째 학생 정보 입력 >>')\n",
        "  name = input('학생 이름 입력: ')\n",
        "  score = int(input('%s 점수 입력: '% name))\n",
        "  students.append([name, score])\n",
        "  sum += score\n",
        "\n",
        "for info in students :\n",
        "  print('이름: %s, 점수; %d'%(info[0], info[1]))\n",
        "print('학생들 점수 평균; %5.2f'%(sum/num))"
      ],
      "metadata": {
        "colab": {
          "base_uri": "https://localhost:8080/"
        },
        "id": "760sx4EuuoEG",
        "outputId": "b6f0e1ec-645e-4cb7-9dfb-0120025b160d"
      },
      "execution_count": null,
      "outputs": [
        {
          "output_type": "stream",
          "name": "stdout",
          "text": [
            "학생 수 입력: 2\n",
            "<< 1 번째 학생 정보 입력 >>\n",
            "학생 이름 입력: a\n",
            "a 점수 입력: 100\n",
            "<< 2 번째 학생 정보 입력 >>\n",
            "학생 이름 입력: c\n",
            "c 점수 입력: 90\n",
            "이름: a, 점수; 100\n",
            "이름: c, 점수; 90\n",
            "학생들 점수 평균; 95.00\n"
          ]
        }
      ]
    },
    {
      "cell_type": "code",
      "source": [
        "day31 = [1,3,5,7,8,10,12]\n",
        "day30 = [4,6,9,11]\n",
        "year = int(input('연도 입력: '))\n",
        "month = int(input('월 입력: '))\n",
        "if month < 1 or month >12 :\n",
        "  print(\"존재하지 앟는 월\")\n",
        "elif month in day31 :\n",
        "  result = 31\n",
        "elif month in day30 :\n",
        "  result = 30\n",
        "elif year % 4 == 0 and year % 100 != 0 or year % 400 ==0:\n",
        "  result = 29\n",
        "else :\n",
        "  result = 28\n",
        "print('%d년 %d월은 %d까지'%(year, month, result))"
      ],
      "metadata": {
        "id": "gKP81pH9v4on",
        "colab": {
          "base_uri": "https://localhost:8080/"
        },
        "outputId": "dfcc9c0a-2733-4849-b238-6703f57b2453"
      },
      "execution_count": null,
      "outputs": [
        {
          "output_type": "stream",
          "name": "stdout",
          "text": [
            "연도 입력: 2024\n",
            "월 입력: 6\n",
            "2024년 6월은 30까지\n"
          ]
        }
      ]
    },
    {
      "cell_type": "code",
      "source": [
        "age = int(input('나이 입력: '))\n",
        "price = 20000\n",
        "if 1 <= age < 6 :\n",
        "  print(\"입장료는 무료\")\n",
        "elif 6 <= age < 60 :\n",
        "  print('입장료는',price, '원')\n",
        "elif 6 <= age < 60 :\n",
        "  print('입장료는',price, '원')"
      ],
      "metadata": {
        "id": "MX9EBQ8mCNDs"
      },
      "execution_count": null,
      "outputs": []
    },
    {
      "cell_type": "code",
      "source": [
        "for i in range(5):\n",
        "  print('*'*(5-i))"
      ],
      "metadata": {
        "colab": {
          "base_uri": "https://localhost:8080/"
        },
        "id": "jjUcD2-2NkwT",
        "outputId": "bd964d75-456e-41d2-b8e5-8d059008c9b9"
      },
      "execution_count": null,
      "outputs": [
        {
          "output_type": "stream",
          "name": "stdout",
          "text": [
            "*****\n",
            "****\n",
            "***\n",
            "**\n",
            "*\n"
          ]
        }
      ]
    },
    {
      "cell_type": "code",
      "source": [
        "for i in range(5):\n",
        "  print(str(5-i)*(5-i))"
      ],
      "metadata": {
        "colab": {
          "base_uri": "https://localhost:8080/"
        },
        "id": "54WGZjL9NrAo",
        "outputId": "9038e394-d27c-4712-c3ae-eff44ce2e90c"
      },
      "execution_count": null,
      "outputs": [
        {
          "output_type": "stream",
          "name": "stdout",
          "text": [
            "55555\n",
            "4444\n",
            "333\n",
            "22\n",
            "1\n"
          ]
        }
      ]
    },
    {
      "cell_type": "code",
      "source": [
        "price = []\n",
        "\n",
        "for i in range(5):\n",
        "  p = int(input('price: '))\n",
        "  price.append(p)\n",
        "\n",
        "m=price[0]\n",
        "\n",
        "for i in range(1,5):\n",
        "  if m > price[i]:\n",
        "    m = price[i]\n",
        "\n",
        "print('min : ', m)\n"
      ],
      "metadata": {
        "colab": {
          "base_uri": "https://localhost:8080/"
        },
        "id": "l4yzEN4fNwoJ",
        "outputId": "80f15735-4b7c-4a93-9a47-04b4c45a5980"
      },
      "execution_count": null,
      "outputs": [
        {
          "output_type": "stream",
          "name": "stdout",
          "text": [
            "price: 6\n",
            "price: 3\n",
            "price: 10\n",
            "price: 6\n",
            "price: 3\n",
            "min :  6\n"
          ]
        }
      ]
    },
    {
      "cell_type": "code",
      "source": [
        "import random\n",
        "\n",
        "lotto = []\n",
        "print('로또 프로그램 시작')\n",
        "\n",
        "cnt = 1\n",
        "while True :\n",
        "  a= random.randint(1,45)\n",
        "  lotto.append(a)\n",
        "  cnt += 1\n",
        "  if cnt >= 6:\n",
        "    break\n",
        "print('추첨된 로또 번호')\n",
        "lotto. sort()\n",
        "\n",
        "for i in range(6):\n",
        "  print('{}'.format(lotto[i], end = ' '))"
      ],
      "metadata": {
        "colab": {
          "base_uri": "https://localhost:8080/",
          "height": 331
        },
        "id": "TLzniKXvPo41",
        "outputId": "298c076e-423d-40e2-ae15-876680d88a4e"
      },
      "execution_count": null,
      "outputs": [
        {
          "output_type": "stream",
          "name": "stdout",
          "text": [
            "로또 프로그램 시작\n",
            "추첨된 로또 번호\n",
            "21\n",
            "24\n",
            "31\n",
            "37\n",
            "40\n"
          ]
        },
        {
          "output_type": "error",
          "ename": "IndexError",
          "evalue": "ignored",
          "traceback": [
            "\u001b[0;31m---------------------------------------------------------------------------\u001b[0m",
            "\u001b[0;31mIndexError\u001b[0m                                Traceback (most recent call last)",
            "\u001b[0;32m<ipython-input-17-0c4aa2f72f7b>\u001b[0m in \u001b[0;36m<cell line: 16>\u001b[0;34m()\u001b[0m\n\u001b[1;32m     15\u001b[0m \u001b[0;34m\u001b[0m\u001b[0m\n\u001b[1;32m     16\u001b[0m \u001b[0;32mfor\u001b[0m \u001b[0mi\u001b[0m \u001b[0;32min\u001b[0m \u001b[0mrange\u001b[0m\u001b[0;34m(\u001b[0m\u001b[0;36m6\u001b[0m\u001b[0;34m)\u001b[0m\u001b[0;34m:\u001b[0m\u001b[0;34m\u001b[0m\u001b[0;34m\u001b[0m\u001b[0m\n\u001b[0;32m---> 17\u001b[0;31m   \u001b[0mprint\u001b[0m\u001b[0;34m(\u001b[0m\u001b[0;34m'{}'\u001b[0m\u001b[0;34m.\u001b[0m\u001b[0mformat\u001b[0m\u001b[0;34m(\u001b[0m\u001b[0mlotto\u001b[0m\u001b[0;34m[\u001b[0m\u001b[0mi\u001b[0m\u001b[0;34m]\u001b[0m\u001b[0;34m,\u001b[0m \u001b[0mend\u001b[0m \u001b[0;34m=\u001b[0m \u001b[0;34m' '\u001b[0m\u001b[0;34m)\u001b[0m\u001b[0;34m)\u001b[0m\u001b[0;34m\u001b[0m\u001b[0;34m\u001b[0m\u001b[0m\n\u001b[0m",
            "\u001b[0;31mIndexError\u001b[0m: list index out of range"
          ]
        }
      ]
    },
    {
      "cell_type": "code",
      "source": [
        "# 당첨번호를 랜덤으로 추출 하는 부분.\n",
        "import random\n",
        "lotto = []\n",
        "while True:\n",
        "    num = random.randint(1,45)\n",
        "    if num not in lotto:\n",
        "        lotto.append(num)\n",
        "\n",
        "    if len(lotto) == 6:\n",
        "        break\n",
        "print('추첨된 로또 번호')\n",
        "lotto.sort()\n",
        "\n",
        "for i in range(6):\n",
        "  print('{} '.format(lotto[i]),end='')"
      ],
      "metadata": {
        "colab": {
          "base_uri": "https://localhost:8080/"
        },
        "id": "Z0nVUM0zRc-j",
        "outputId": "699d2d25-1469-4ee6-81cd-a4b1abe5f43a"
      },
      "execution_count": null,
      "outputs": [
        {
          "output_type": "stream",
          "name": "stdout",
          "text": [
            "추첨된 로또 번호\n",
            "3 10 20 22 42 44 "
          ]
        }
      ]
    },
    {
      "cell_type": "code",
      "source": [
        "a = input()\n",
        "print(' '.join(a))"
      ],
      "metadata": {
        "id": "CHSPNFxAUnyj",
        "colab": {
          "base_uri": "https://localhost:8080/"
        },
        "outputId": "d44f802d-622c-40d7-9388-55d88c2e78ba"
      },
      "execution_count": 3,
      "outputs": [
        {
          "output_type": "stream",
          "name": "stdout",
          "text": [
            "python\n",
            "p y t h o n\n"
          ]
        }
      ]
    },
    {
      "cell_type": "code",
      "source": [],
      "metadata": {
        "id": "VWAlBrxf54e8"
      },
      "execution_count": null,
      "outputs": []
    }
  ]
}