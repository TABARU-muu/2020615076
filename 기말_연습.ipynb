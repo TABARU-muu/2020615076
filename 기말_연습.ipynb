{
  "nbformat": 4,
  "nbformat_minor": 0,
  "metadata": {
    "colab": {
      "provenance": []
    },
    "kernelspec": {
      "name": "python3",
      "display_name": "Python 3"
    },
    "language_info": {
      "name": "python"
    }
  },
  "cells": [
    {
      "cell_type": "code",
      "source": [
        "numList = [10,20,30]\n",
        "numList[1] = 200\n",
        "print(numList)"
      ],
      "metadata": {
        "colab": {
          "base_uri": "https://localhost:8080/"
        },
        "id": "O0vJ102pLTCP",
        "outputId": "fc419b76-8084-4224-f258-94102ba3e0a7"
      },
      "execution_count": null,
      "outputs": [
        {
          "output_type": "stream",
          "name": "stdout",
          "text": [
            "[10, 200, 30]\n"
          ]
        }
      ]
    },
    {
      "cell_type": "code",
      "source": [
        "numList = [10,20,30]\n",
        "numList[1:2] = [200, 201]\n",
        "print(numList)\n"
      ],
      "metadata": {
        "colab": {
          "base_uri": "https://localhost:8080/"
        },
        "id": "JYueii3QLTIi",
        "outputId": "b839d230-e166-49fa-f3c6-68d4a86c76a0"
      },
      "execution_count": null,
      "outputs": [
        {
          "output_type": "stream",
          "name": "stdout",
          "text": [
            "[10, 200, 201, 30]\n"
          ]
        }
      ]
    },
    {
      "cell_type": "code",
      "source": [
        "numList = [10,20,30]\n",
        "numList.insert(1,123)\n",
        "print(numList)"
      ],
      "metadata": {
        "colab": {
          "base_uri": "https://localhost:8080/"
        },
        "id": "f7VCifGZLTPZ",
        "outputId": "01d94a92-1676-447e-baae-cefe246fb134"
      },
      "execution_count": null,
      "outputs": [
        {
          "output_type": "stream",
          "name": "stdout",
          "text": [
            "[10, 123, 20, 30]\n"
          ]
        }
      ]
    },
    {
      "cell_type": "code",
      "source": [
        "numList = [10,20,30]\n",
        "del(numList[1])\n",
        "print(numList)"
      ],
      "metadata": {
        "colab": {
          "base_uri": "https://localhost:8080/"
        },
        "id": "fO7GwuL0L-1l",
        "outputId": "77b137b6-1d76-4f26-ed8f-7113cdfb2ccc"
      },
      "execution_count": null,
      "outputs": [
        {
          "output_type": "stream",
          "name": "stdout",
          "text": [
            "[10, 30]\n"
          ]
        }
      ]
    },
    {
      "cell_type": "code",
      "source": [
        "numList = [10,20,30,10,10]\n",
        "numList.remove(10)\n",
        "print(numList)"
      ],
      "metadata": {
        "colab": {
          "base_uri": "https://localhost:8080/"
        },
        "id": "2bkFd2h_MTYd",
        "outputId": "b6c33e79-cc92-4cbf-8022-8b8e53729b6f"
      },
      "execution_count": null,
      "outputs": [
        {
          "output_type": "stream",
          "name": "stdout",
          "text": [
            "[20, 30, 10, 10]\n"
          ]
        }
      ]
    },
    {
      "cell_type": "code",
      "source": [
        "numList = [10,20,30]\n",
        "numList.pop()"
      ],
      "metadata": {
        "colab": {
          "base_uri": "https://localhost:8080/"
        },
        "id": "a4BazgNqMfTR",
        "outputId": "7965eb1b-eefc-4a71-88ab-66aac758182c"
      },
      "execution_count": null,
      "outputs": [
        {
          "output_type": "execute_result",
          "data": {
            "text/plain": [
              "30"
            ]
          },
          "metadata": {},
          "execution_count": 13
        }
      ]
    },
    {
      "cell_type": "code",
      "source": [
        "print(numList)"
      ],
      "metadata": {
        "colab": {
          "base_uri": "https://localhost:8080/"
        },
        "id": "HIeSoPozMrIo",
        "outputId": "fd270516-de84-45bb-e53c-ebd872d843fe"
      },
      "execution_count": null,
      "outputs": [
        {
          "output_type": "stream",
          "name": "stdout",
          "text": [
            "[10, 20]\n"
          ]
        }
      ]
    },
    {
      "cell_type": "code",
      "source": [
        "a = []\n",
        "num1, num2, num3 = map(int,input(\"세 수를 입력하세요. \").split())\n",
        "a.append(num1)\n",
        "a.append(num2)\n",
        "a.append(num3)\n",
        "\n",
        "largest = a[0]\n",
        "for i in a:\n",
        "  if i > largest:\n",
        "    largest = i\n",
        "print(\"입력받은 수 중 가장 큰 수는 %s 입니다.\"%(largest))"
      ],
      "metadata": {
        "id": "teEgJ1WEMtuS",
        "colab": {
          "base_uri": "https://localhost:8080/"
        },
        "outputId": "2f1673c2-d4f2-4e9c-88f3-ecad1059de67"
      },
      "execution_count": null,
      "outputs": [
        {
          "output_type": "stream",
          "name": "stdout",
          "text": [
            "세 수를 입력하세요. 3 5 7\n",
            "입력받은 수 중 가장 큰 수는 7 입니다.\n"
          ]
        }
      ]
    },
    {
      "cell_type": "code",
      "source": [
        "gender, age = input().split()\n",
        "\n",
        "age = int(age)\n",
        "if age >= 18 :\n",
        "    if gender == \"M\":\n",
        "        print(\"MAN\")\n",
        "    elif gender == \"F\":\n",
        "        print(\"WOMAN\")\n",
        "else:\n",
        "    if gender == \"M\":\n",
        "        print(\"BOY\")\n",
        "    elif gender == \"F\":\n",
        "        print(\"GIRL\")\n"
      ],
      "metadata": {
        "colab": {
          "base_uri": "https://localhost:8080/"
        },
        "id": "6qNV7ExxSToh",
        "outputId": "fdcf4ae2-4e33-4503-e6b0-f1ff90217c97"
      },
      "execution_count": null,
      "outputs": [
        {
          "output_type": "stream",
          "name": "stdout",
          "text": [
            "F 18\n",
            "WOMAN\n"
          ]
        }
      ]
    },
    {
      "cell_type": "code",
      "source": [
        "noList = [[1,2,3,4],\n",
        "          [5,6,7,8],\n",
        "          [9,10,11,12]]\n",
        "        \n",
        "for i in range(0,3):\n",
        "  for j in range(0, 4):\n",
        "    print(\"%3d\"% noList[i][j], end='')\n",
        "  print(\"\")"
      ],
      "metadata": {
        "colab": {
          "base_uri": "https://localhost:8080/"
        },
        "id": "6A7bxQjvVyke",
        "outputId": "ea4ddd51-8403-439d-8098-40ac5c3eda88"
      },
      "execution_count": null,
      "outputs": [
        {
          "output_type": "stream",
          "name": "stdout",
          "text": [
            "  1  2  3  4\n",
            "  5  6  7  8\n",
            "  9 10 11 12\n"
          ]
        }
      ]
    },
    {
      "cell_type": "code",
      "source": [
        "def plus(v1, v2):\n",
        "  result = 0\n",
        "  result = v1 + v2\n",
        "  return result\n",
        "\n",
        "hap = 0\n",
        "\n",
        "hap = plus(100,200)\n",
        "print(\"100과 200의 plus() 함수 결과는 \",hap)"
      ],
      "metadata": {
        "colab": {
          "base_uri": "https://localhost:8080/"
        },
        "id": "st-MfT4ppLL1",
        "outputId": "80ac3d01-55ab-454b-c516-8196b026ab6b"
      },
      "execution_count": null,
      "outputs": [
        {
          "output_type": "stream",
          "name": "stdout",
          "text": [
            "100과 200의 plus() 함수 결과는  300\n"
          ]
        }
      ]
    },
    {
      "cell_type": "code",
      "source": [
        "## 함수 정의 부분\n",
        "def para2_func(v1, v2):\n",
        "  result = 0 \n",
        "  result = v1 + v2\n",
        "  return result\n",
        "\n",
        "def para3_func(v1, v2, v3):\n",
        "  result = 0 \n",
        "  result = v1 + v2 + v3\n",
        "  return result\n",
        "\n",
        "hap = 0\n",
        "\n",
        "hap = para2_func(10,20)\n",
        "print(\"매개변수 2개 함수 호출 결과 ==> \", hap)\n",
        "hap = para3_func(10,20,30)\n",
        "print(\"매개변수 3개 함수 호출 결과 ==> \", hap)"
      ],
      "metadata": {
        "colab": {
          "base_uri": "https://localhost:8080/"
        },
        "id": "Dinco91bpLc2",
        "outputId": "8113b15e-d227-4a27-8895-02d82fd04d00"
      },
      "execution_count": null,
      "outputs": [
        {
          "output_type": "stream",
          "name": "stdout",
          "text": [
            "매개변수 2개 함수 호출 결과 ==>  30\n",
            "매개변수 3개 함수 호출 결과 ==>  60\n"
          ]
        }
      ]
    },
    {
      "cell_type": "code",
      "source": [
        "def func2():\n",
        "  result = 100\n",
        "  return result\n",
        "\n",
        "hap = 0\n",
        "\n",
        "hap = func2()\n",
        "print(\"func2()에서 돌려준 값 ==> \",hap)"
      ],
      "metadata": {
        "colab": {
          "base_uri": "https://localhost:8080/"
        },
        "id": "yYEfwDw4tvc4",
        "outputId": "3096e918-4550-46bd-8f0e-5926c4b223fe"
      },
      "execution_count": null,
      "outputs": [
        {
          "output_type": "stream",
          "name": "stdout",
          "text": [
            "func2()에서 돌려준 값 ==>  100\n"
          ]
        }
      ]
    },
    {
      "cell_type": "code",
      "source": [
        "def func3():\n",
        "  result1 = 100\n",
        "  result2 = 200\n",
        "  return result1, result2\n",
        "\n",
        "hap1, hap2 = 0, 0\n",
        "\n",
        "hap1, hap2 = func3()\n",
        "print(\"func3()에서 돌려준 값 ==> \", hap1, hap2)"
      ],
      "metadata": {
        "colab": {
          "base_uri": "https://localhost:8080/"
        },
        "id": "JW6XcTApuCHr",
        "outputId": "c44bdc66-ad6f-478c-b220-2c9f015a0f92"
      },
      "execution_count": null,
      "outputs": [
        {
          "output_type": "stream",
          "name": "stdout",
          "text": [
            "func3()에서 돌려준 값 ==>  100 200\n"
          ]
        }
      ]
    },
    {
      "cell_type": "code",
      "source": [
        "import random\n",
        "def lottoFunc():\n",
        "  lottoNum = random.randint(1,45)\n",
        "  return lottoNum\n",
        "\n",
        "lottoList = []\n",
        "num = 0\n",
        "\n",
        "print(\"** 로또 추첨을 시작합니다. ** \\n\")\n",
        "\n",
        "while True :\n",
        "  num = lottoFunc()\n",
        "\n",
        "  if num in lottoList :\n",
        "    continue\n",
        "  else:\n",
        "    lottoList.append(num)\n",
        "  if len(lottoList) == 6:\n",
        "    break\n",
        "print(\"오늘의 로또 번호 ==> \", end='')\n",
        "lottoList.sort()\n",
        "for i in range(0,6):\n",
        "  print(lottoList[i],\" \",end = \"\")"
      ],
      "metadata": {
        "colab": {
          "base_uri": "https://localhost:8080/"
        },
        "id": "PfbFjsQWpLk7",
        "outputId": "1fd1a572-d7d9-4d41-bb64-0846790f0c3c"
      },
      "execution_count": null,
      "outputs": [
        {
          "output_type": "stream",
          "name": "stdout",
          "text": [
            "** 로또 추첨을 시작합니다. ** \n",
            "\n",
            "오늘의 로또 번호 ==> 10  14  19  26  41  43  "
          ]
        }
      ]
    },
    {
      "cell_type": "code",
      "source": [
        "import random\n",
        "\n",
        "computer, user = 0, 0\n",
        "\n",
        "for i in range(1,11,1):\n",
        "  computer = random. randint(1,5)\n",
        "  print(\"게임\", i, \"회: \", end='')\n",
        "  user = int(input(\"컴퓨터가 생각한 숫자는 ?\"))\n",
        "\n",
        "  if computer == user :\n",
        "    print(\"맞혔네요. 축하합니다 !!\")\n",
        "    break\n",
        "  else:\n",
        "    print(\"아까워요. \",computer, \"였는데요. 다시 해보세요. ㅠ\")\n",
        "    continue\n",
        "print(\"게임을 마칩니다. \")"
      ],
      "metadata": {
        "id": "E8o6lzBUpLtZ",
        "colab": {
          "base_uri": "https://localhost:8080/"
        },
        "outputId": "65ae89e2-9602-4663-c107-5264a5bc7e8c"
      },
      "execution_count": null,
      "outputs": [
        {
          "output_type": "stream",
          "name": "stdout",
          "text": [
            "게임 1 회: 컴퓨터가 생각한 숫자는 ?5\n",
            "아까워요.  1 였는데요. 다시 해보세요. ㅠ\n",
            "게임 2 회: 컴퓨터가 생각한 숫자는 ?3\n",
            "아까워요.  5 였는데요. 다시 해보세요. ㅠ\n",
            "게임 3 회: 컴퓨터가 생각한 숫자는 ?1\n",
            "아까워요.  4 였는데요. 다시 해보세요. ㅠ\n",
            "게임 4 회: 컴퓨터가 생각한 숫자는 ?2\n",
            "아까워요.  1 였는데요. 다시 해보세요. ㅠ\n",
            "게임 5 회: 컴퓨터가 생각한 숫자는 ?3\n",
            "아까워요.  5 였는데요. 다시 해보세요. ㅠ\n",
            "게임 6 회: 컴퓨터가 생각한 숫자는 ?4\n",
            "아까워요.  1 였는데요. 다시 해보세요. ㅠ\n",
            "게임 7 회: 컴퓨터가 생각한 숫자는 ?5\n",
            "아까워요.  4 였는데요. 다시 해보세요. ㅠ\n",
            "게임 8 회: 컴퓨터가 생각한 숫자는 ?6\n",
            "아까워요.  2 였는데요. 다시 해보세요. ㅠ\n",
            "게임 9 회: 컴퓨터가 생각한 숫자는 ?7\n",
            "아까워요.  3 였는데요. 다시 해보세요. ㅠ\n",
            "게임 10 회: 컴퓨터가 생각한 숫자는 ?8\n",
            "아까워요.  2 였는데요. 다시 해보세요. ㅠ\n",
            "게임을 마칩니다. \n"
          ]
        }
      ]
    },
    {
      "cell_type": "code",
      "source": [
        "for i in range(5):\n",
        "  print(\"한빛 아카데미\")"
      ],
      "metadata": {
        "colab": {
          "base_uri": "https://localhost:8080/"
        },
        "id": "-bFcJA9GyQ--",
        "outputId": "2ff7b5c1-b84c-4c1e-8016-bd52d06ff43d"
      },
      "execution_count": null,
      "outputs": [
        {
          "output_type": "stream",
          "name": "stdout",
          "text": [
            "한빛 아카데미\n",
            "한빛 아카데미\n",
            "한빛 아카데미\n",
            "한빛 아카데미\n",
            "한빛 아카데미\n"
          ]
        }
      ]
    },
    {
      "cell_type": "code",
      "source": [
        "for i in range(1,5,1):\n",
        "  print(\"한빛 아카데미\")"
      ],
      "metadata": {
        "colab": {
          "base_uri": "https://localhost:8080/"
        },
        "id": "btadQPxozCQX",
        "outputId": "a71e20b9-595d-417d-af0e-e0b360b18c68"
      },
      "execution_count": null,
      "outputs": [
        {
          "output_type": "stream",
          "name": "stdout",
          "text": [
            "한빛 아카데미\n",
            "한빛 아카데미\n",
            "한빛 아카데미\n",
            "한빛 아카데미\n"
          ]
        }
      ]
    },
    {
      "cell_type": "code",
      "source": [
        "for i in [1,2,3,4]:\n",
        "  print(\"한빛 아카데미\")"
      ],
      "metadata": {
        "colab": {
          "base_uri": "https://localhost:8080/"
        },
        "id": "QoMAlepZzKK_",
        "outputId": "bf14685b-eab5-4f3b-9784-8ae7728ffec3"
      },
      "execution_count": null,
      "outputs": [
        {
          "output_type": "stream",
          "name": "stdout",
          "text": [
            "한빛 아카데미\n",
            "한빛 아카데미\n",
            "한빛 아카데미\n",
            "한빛 아카데미\n"
          ]
        }
      ]
    },
    {
      "cell_type": "code",
      "source": [
        "for n in range(3,7):\n",
        "  print(n,end=' ')"
      ],
      "metadata": {
        "colab": {
          "base_uri": "https://localhost:8080/"
        },
        "id": "x8SKZP1YzbtA",
        "outputId": "434a00e8-c4b4-464c-85a6-c0a9a9f7ed09"
      },
      "execution_count": null,
      "outputs": [
        {
          "output_type": "stream",
          "name": "stdout",
          "text": [
            "3 4 5 6 "
          ]
        }
      ]
    },
    {
      "cell_type": "code",
      "source": [
        "hap = 0\n",
        "for i in range(1,101,1):\n",
        "  hap =  hap + i\n",
        "print(hap)"
      ],
      "metadata": {
        "colab": {
          "base_uri": "https://localhost:8080/"
        },
        "id": "BYEY95Vbzrs1",
        "outputId": "5517718c-6a49-4feb-d4eb-ef2840bd83e0"
      },
      "execution_count": null,
      "outputs": [
        {
          "output_type": "stream",
          "name": "stdout",
          "text": [
            "5050\n"
          ]
        }
      ]
    },
    {
      "cell_type": "code",
      "source": [
        "hap = 0\n",
        "for i in range(1001,2001,2):\n",
        "  hap = hap + i\n",
        "print(hap)"
      ],
      "metadata": {
        "colab": {
          "base_uri": "https://localhost:8080/"
        },
        "id": "-oOficfrz9Ih",
        "outputId": "6fddc67b-21dd-4b64-b4fa-694ab093ff81"
      },
      "execution_count": null,
      "outputs": [
        {
          "output_type": "stream",
          "name": "stdout",
          "text": [
            "750000\n"
          ]
        }
      ]
    },
    {
      "cell_type": "code",
      "source": [
        "i = 0\n",
        "for i in range(5):\n",
        "  print(\"난생처음\")"
      ],
      "metadata": {
        "colab": {
          "base_uri": "https://localhost:8080/"
        },
        "id": "Mgp_vG5H0M62",
        "outputId": "3f42e637-1d4d-4fdf-c4c2-b83d25ba3d76"
      },
      "execution_count": null,
      "outputs": [
        {
          "output_type": "stream",
          "name": "stdout",
          "text": [
            "난생처음\n",
            "난생처음\n",
            "난생처음\n",
            "난생처음\n",
            "난생처음\n"
          ]
        }
      ]
    },
    {
      "cell_type": "code",
      "source": [
        "i = 0 \n",
        "while i < 5:\n",
        "  print(\"난생처음\")\n",
        "  i += 1"
      ],
      "metadata": {
        "colab": {
          "base_uri": "https://localhost:8080/"
        },
        "id": "UcOmEozt0R5r",
        "outputId": "a1b6917d-c2fa-4198-b050-25d476e86b58"
      },
      "execution_count": null,
      "outputs": [
        {
          "output_type": "stream",
          "name": "stdout",
          "text": [
            "난생처음\n",
            "난생처음\n",
            "난생처음\n",
            "난생처음\n",
            "난생처음\n"
          ]
        }
      ]
    },
    {
      "cell_type": "code",
      "source": [
        "num1, num2, num3, num4 = 0, 0, 0, 0\n",
        "hap = 0\n",
        "\n",
        "num1 = int(input(\"숫자 :\"))\n",
        "num2 = int(input(\"숫자 :\"))\n",
        "num3 = int(input(\"숫자 :\"))\n",
        "num4 = int(input(\"숫자 :\"))\n",
        "\n",
        "hap = num1 + num2 + num3 + num4\n",
        "\n",
        "print(\"합계 ==> \",hap)"
      ],
      "metadata": {
        "colab": {
          "base_uri": "https://localhost:8080/"
        },
        "id": "KKLHmGAM0b3c",
        "outputId": "857745c8-9d62-4928-c77b-be495fa7c60c"
      },
      "execution_count": null,
      "outputs": [
        {
          "output_type": "stream",
          "name": "stdout",
          "text": [
            "숫자 :10\n",
            "숫자 :20\n",
            "숫자 :30\n",
            "숫자 :40\n",
            "합계 ==>  100\n"
          ]
        }
      ]
    },
    {
      "cell_type": "code",
      "source": [
        "numList = [0,0,0,0]\n",
        "hap = 0\n",
        "\n",
        "numList[0] = int(input(\"숫자 :\"))\n",
        "numList[1] = int(input(\"숫자 :\"))\n",
        "numList[2] = int(input(\"숫자 :\"))\n",
        "numList[3] = int(input(\"숫자 :\"))\n",
        "\n",
        "hap = numList[0] + numList[1] + numList[2] + numList[3]\n",
        "\n",
        "print(\"합계 ==> \",hap)"
      ],
      "metadata": {
        "colab": {
          "base_uri": "https://localhost:8080/"
        },
        "id": "wOruFrmw061Q",
        "outputId": "64214d62-2c69-4cd1-a418-8a52b0951f9d"
      },
      "execution_count": null,
      "outputs": [
        {
          "output_type": "stream",
          "name": "stdout",
          "text": [
            "숫자 :10\n",
            "숫자 :20\n",
            "숫자 :30\n",
            "숫자 :40\n",
            "합계 ==>  100\n"
          ]
        }
      ]
    },
    {
      "cell_type": "code",
      "source": [
        "numList =[]\n",
        "for i in range(0,4):\n",
        "  numList.append(0)\n",
        "\n",
        "hap = 0\n",
        "\n",
        "for i in range(0, 4):\n",
        "  numList[i] = int(input('숫자 :'))\n",
        "\n",
        "hap = numList[0] + numList[1] + numList[2] + numList[3]\n",
        "print(\"합계 ==>\",hap)"
      ],
      "metadata": {
        "colab": {
          "base_uri": "https://localhost:8080/"
        },
        "id": "1UdeOLCh1Y2F",
        "outputId": "510bdee9-d4f7-4e3d-90e4-7777da4c5852"
      },
      "execution_count": null,
      "outputs": [
        {
          "output_type": "stream",
          "name": "stdout",
          "text": [
            "숫자 :10\n",
            "숫자 :10\n",
            "숫자 :20\n",
            "숫자 :30\n",
            "합계 ==> 70\n"
          ]
        }
      ]
    },
    {
      "cell_type": "code",
      "source": [
        "numList = [10,20,30]\n",
        "numList[1] =  200\n",
        "print(numList)"
      ],
      "metadata": {
        "colab": {
          "base_uri": "https://localhost:8080/"
        },
        "id": "jxzazWKa2Eee",
        "outputId": "5a3ad805-18f4-4abd-e5cf-3495e2e6a6e0"
      },
      "execution_count": null,
      "outputs": [
        {
          "output_type": "stream",
          "name": "stdout",
          "text": [
            "[10, 200, 30]\n"
          ]
        }
      ]
    },
    {
      "cell_type": "code",
      "source": [
        "numList = [10,20,30]\n",
        "numList.insert(1,123)\n",
        "print(numList)"
      ],
      "metadata": {
        "colab": {
          "base_uri": "https://localhost:8080/"
        },
        "id": "e256-9kf2YTj",
        "outputId": "a88528f8-9c31-443d-e2fb-36e4b3c3f83a"
      },
      "execution_count": null,
      "outputs": [
        {
          "output_type": "stream",
          "name": "stdout",
          "text": [
            "[10, 123, 20, 30]\n"
          ]
        }
      ]
    },
    {
      "cell_type": "code",
      "source": [
        "numList = [10,20,30]\n",
        "del(numList[1])\n",
        "print(numList)"
      ],
      "metadata": {
        "colab": {
          "base_uri": "https://localhost:8080/"
        },
        "id": "8oBIKngM4Mki",
        "outputId": "5f956aba-8fc9-4251-aded-dd39aef67c97"
      },
      "execution_count": null,
      "outputs": [
        {
          "output_type": "stream",
          "name": "stdout",
          "text": [
            "[10, 30]\n"
          ]
        }
      ]
    },
    {
      "cell_type": "code",
      "source": [
        "numList = [10,20,30]\n",
        "numList.remove(10)\n",
        "print(numList)"
      ],
      "metadata": {
        "colab": {
          "base_uri": "https://localhost:8080/"
        },
        "id": "uUo6M7Ht4aBq",
        "outputId": "fe7c76fe-5c5b-4b8e-81a0-8354cc46db9e"
      },
      "execution_count": null,
      "outputs": [
        {
          "output_type": "stream",
          "name": "stdout",
          "text": [
            "[20, 30]\n"
          ]
        }
      ]
    },
    {
      "cell_type": "code",
      "source": [
        "numList = [10,20,30,10,10]\n",
        "numList.remove(10)\n",
        "print(numList)"
      ],
      "metadata": {
        "colab": {
          "base_uri": "https://localhost:8080/"
        },
        "id": "g74VvFNU4d2X",
        "outputId": "524f5316-ce2b-4bf4-df70-2debf3ee79d3"
      },
      "execution_count": null,
      "outputs": [
        {
          "output_type": "stream",
          "name": "stdout",
          "text": [
            "[20, 30, 10, 10]\n"
          ]
        }
      ]
    },
    {
      "cell_type": "code",
      "source": [
        "numList = [10,20,30]\n",
        "numList.pop()"
      ],
      "metadata": {
        "colab": {
          "base_uri": "https://localhost:8080/"
        },
        "id": "IAhqt06U4vgr",
        "outputId": "00f2057d-6eae-41f2-d7c1-a2b92c063c29"
      },
      "execution_count": null,
      "outputs": [
        {
          "output_type": "execute_result",
          "data": {
            "text/plain": [
              "30"
            ]
          },
          "metadata": {},
          "execution_count": 26
        }
      ]
    },
    {
      "cell_type": "code",
      "source": [
        "print(numList)"
      ],
      "metadata": {
        "colab": {
          "base_uri": "https://localhost:8080/"
        },
        "id": "ITYsROn542rc",
        "outputId": "707a168b-de65-4c1c-cf9e-c44baa0579c4"
      },
      "execution_count": null,
      "outputs": [
        {
          "output_type": "stream",
          "name": "stdout",
          "text": [
            "[10, 20]\n"
          ]
        }
      ]
    },
    {
      "cell_type": "code",
      "source": [
        "numList = [10,20,30,10,10]\n",
        "numList.count(10)\n"
      ],
      "metadata": {
        "colab": {
          "base_uri": "https://localhost:8080/"
        },
        "id": "J6ImVBCK44Qs",
        "outputId": "ebcfec66-c7e1-4610-a034-cf7429a1cadd"
      },
      "execution_count": null,
      "outputs": [
        {
          "output_type": "execute_result",
          "data": {
            "text/plain": [
              "3"
            ]
          },
          "metadata": {},
          "execution_count": 30
        }
      ]
    },
    {
      "cell_type": "code",
      "source": [
        "numList = [20,10,40,50,30]\n",
        "numList.sort()\n",
        "print(numList)"
      ],
      "metadata": {
        "colab": {
          "base_uri": "https://localhost:8080/"
        },
        "id": "RrNluF365Bm2",
        "outputId": "4d94f379-d17a-4260-c792-692f37aee6d8"
      },
      "execution_count": null,
      "outputs": [
        {
          "output_type": "stream",
          "name": "stdout",
          "text": [
            "[10, 20, 30, 40, 50]\n"
          ]
        }
      ]
    },
    {
      "cell_type": "code",
      "source": [
        "numList = [20,10,40,50,30]\n",
        "numList.sort(reverse= True)\n",
        "print(numList)"
      ],
      "metadata": {
        "colab": {
          "base_uri": "https://localhost:8080/"
        },
        "id": "KsIXfrhC5Ntj",
        "outputId": "85b2224e-f768-42bd-b6f1-c78f06a18780"
      },
      "execution_count": null,
      "outputs": [
        {
          "output_type": "stream",
          "name": "stdout",
          "text": [
            "[50, 40, 30, 20, 10]\n"
          ]
        }
      ]
    },
    {
      "cell_type": "code",
      "source": [
        "numList = [20,10,40,50,30]\n",
        "numList.reverse()\n",
        "print(numList)"
      ],
      "metadata": {
        "colab": {
          "base_uri": "https://localhost:8080/"
        },
        "id": "tDuAozHY5WJF",
        "outputId": "af5f6515-b2fd-43e6-da37-e943a01ebb6a"
      },
      "execution_count": null,
      "outputs": [
        {
          "output_type": "stream",
          "name": "stdout",
          "text": [
            "[30, 50, 40, 10, 20]\n"
          ]
        }
      ]
    },
    {
      "cell_type": "code",
      "source": [
        "numList = [10,20,30]\n",
        "numList2 = numList.copy()\n",
        "print(numList2)"
      ],
      "metadata": {
        "colab": {
          "base_uri": "https://localhost:8080/"
        },
        "id": "KKO3BrGW5imI",
        "outputId": "930acf9f-d162-494c-e388-1b24d9f9e8e1"
      },
      "execution_count": null,
      "outputs": [
        {
          "output_type": "stream",
          "name": "stdout",
          "text": [
            "[10, 20, 30]\n"
          ]
        }
      ]
    },
    {
      "cell_type": "code",
      "source": [
        "numList2 = [[1,2,3,4],\n",
        "            [5,6,7,8],\n",
        "            [9,10,11,12]]\n",
        "\n",
        "for i in range(0,3):\n",
        "  for k in range(0,4):\n",
        "    print(\" \", numList2[i][k], end='')\n",
        "print(\" \")"
      ],
      "metadata": {
        "colab": {
          "base_uri": "https://localhost:8080/"
        },
        "id": "P6AvNdNq5q_9",
        "outputId": "e8e20aa9-d59d-497d-ccf3-dadde37f8739"
      },
      "execution_count": null,
      "outputs": [
        {
          "output_type": "stream",
          "name": "stdout",
          "text": [
            "  1  2  3  4  5  6  7  8  9  10  11  12 \n"
          ]
        }
      ]
    },
    {
      "cell_type": "code",
      "source": [
        "print(\"홍길동 선수 경기 끝났습니다~~ 짝짝짝\")\n",
        "score = []\n",
        "for i in range(5):\n",
        "  jumsu = int(input(\"평가 점수 ==> \"))\n",
        "  score.append(jumsu)\n",
        "\n",
        "hap = 0 \n",
        "for i in range(5):\n",
        "  hap += score[i]\n",
        "\n",
        "avg = hap / 5\n",
        "print(\"심사위원 평균 점수 :\", avg)"
      ],
      "metadata": {
        "colab": {
          "base_uri": "https://localhost:8080/"
        },
        "id": "JF9OP5wG6OUI",
        "outputId": "2cc52b9f-4378-472d-a02c-10c1bd599704"
      },
      "execution_count": null,
      "outputs": [
        {
          "output_type": "stream",
          "name": "stdout",
          "text": [
            "홍길동 선수 경기 끝났습니다~~ 짝짝짝\n",
            "평가 점수 ==> 1\n",
            "평가 점수 ==> 2\n",
            "평가 점수 ==> 3\n",
            "평가 점수 ==> 4\n",
            "평가 점수 ==> 5\n",
            "심사위원 평균 점수 : 3.0\n"
          ]
        }
      ]
    },
    {
      "cell_type": "code",
      "source": [
        "import random\n",
        "\n",
        "toss = []\n",
        "for i in range(100000):\n",
        "  comA = random.choice([\"가위\",\"바위\",\"보\"])\n",
        "  comB = random.choice([\"가위\",\"바위\",\"보\"])\n",
        "\n",
        "  if comA == \"가위\":\n",
        "    if comB == \"가위\":\n",
        "      toss.append(\"없음\")\n",
        "    elif comB == \"바위\":\n",
        "      toss.append(\"B\")\n",
        "    elif comB == \"보\":\n",
        "      toss.append(\"A\")\n",
        "  elif comA == \"바위\":\n",
        "    if comB == \"가위\":\n",
        "      toss.append(\"A\")\n",
        "    elif comB == \"바위\":\n",
        "      toss.append(\"없음\")\n",
        "    elif comB == \"보\":\n",
        "      toss.append(\"B\")\n",
        "  elif comA == \"보\":\n",
        "    if comB == \"가위\":\n",
        "      toss.append(\"B\")\n",
        "    elif comB == \"바위\":\n",
        "      toss.append(\"A\")\n",
        "    elif comB == \"보\":\n",
        "      toss.append(\"없음\")\n",
        "\n",
        "awin = toss.count(\"A\")\n",
        "bwin = toss.count(\"B\")\n",
        "noWin = toss.count(\"없음\")\n",
        "\n",
        "print(\"10000번 중 컴퓨터 A의 승리 : \",awin)\n",
        "print(\"10000번 중 컴퓨터 B의 승리 : \",bwin)\n",
        "print(\"10000번 중 비긴 경기: \",noWin)"
      ],
      "metadata": {
        "colab": {
          "base_uri": "https://localhost:8080/"
        },
        "id": "1VqQ1k2X6seW",
        "outputId": "337075f3-7dd2-4ba8-a48d-7d8ca57a6e76"
      },
      "execution_count": null,
      "outputs": [
        {
          "output_type": "stream",
          "name": "stdout",
          "text": [
            "10000번 중 컴퓨터 A의 승리 :  33496\n",
            "10000번 중 컴퓨터 B의 승리 :  33159\n",
            "10000번 중 비긴 경기:  33345\n"
          ]
        }
      ]
    },
    {
      "cell_type": "code",
      "source": [
        "singer = {}\n",
        "singer['이름'] = \"트와이스\"\n",
        "singer[\"구성원수\"] = 9\n",
        "singer[\"데뷰\"] = '서바이별 식스틴'\n",
        "singer['대표곡']= \"CRY FOR ME\"\n",
        "\n",
        "for k in singer.keys():\n",
        "  print(k, \"==>\", singer[k])"
      ],
      "metadata": {
        "colab": {
          "base_uri": "https://localhost:8080/"
        },
        "id": "4QXcoQM48Pxt",
        "outputId": "e5d083e7-fdc0-4943-d7bd-4bc8f1bfeba5"
      },
      "execution_count": null,
      "outputs": [
        {
          "output_type": "stream",
          "name": "stdout",
          "text": [
            "이름 ==> 트와이스\n",
            "구성원수 ==> 9\n",
            "데뷰 ==> 서바이별 식스틴\n",
            "대표곡 ==> CRY FOR ME\n"
          ]
        }
      ]
    },
    {
      "cell_type": "code",
      "source": [
        "store = {}\n",
        "print(\"*** 물품과 재고량 입력 ***\")\n",
        "while True :\n",
        "  item = input(\"입력 물품 ==> \")\n",
        "  if item == 'z':\n",
        "    break\n",
        "  count =  int(input(\"재고량 ==>\"))\n",
        "  store[item] = count\n",
        "\n",
        "print(\"*** 물품의 재고량 확인 ***\")\n",
        "while True :\n",
        "  item = input(\"찾을 물품 ==>\")\n",
        "  if item == \"\":\n",
        "    break\n",
        "  if item in store :\n",
        "    print(store[item],\"개 남았어요\")\n",
        "  else :\n",
        "    print(\"그 물품은 없어요\")"
      ],
      "metadata": {
        "colab": {
          "base_uri": "https://localhost:8080/"
        },
        "id": "_vnKvYlQ_YBx",
        "outputId": "52118bb1-fe48-4734-e30f-57eca76c2916"
      },
      "execution_count": null,
      "outputs": [
        {
          "name": "stdout",
          "output_type": "stream",
          "text": [
            "*** 물품과 재고량 입력 ***\n",
            "입력 물품 ==> 도시락\n",
            "재고량 ==>14\n",
            "입력 물품 ==> 우유\n",
            "재고량 ==>3\n",
            "입력 물품 ==> 김밥\n",
            "재고량 ==>19\n",
            "입력 물품 ==> z\n",
            "*** 물품의 재고량 확인 ***\n",
            "찾을 물품 ==>우유\n",
            "3 개 남았어요\n",
            "찾을 물품 ==>도시락\n",
            "14 개 남았어요\n",
            "찾을 물품 ==>김밥\n",
            "19 개 남았어요\n",
            "찾을 물품 ==>계란\n",
            "그 물품은 없어요\n",
            "찾을 물품 ==>z\n",
            "그 물품은 없어요\n",
            "찾을 물품 ==>\n"
          ]
        }
      ]
    },
    {
      "cell_type": "code",
      "source": [
        "print(\"A님. 두 숫자를 입력하세요.\")\n",
        "num1 = int(input(\"정수1 ==> \"))\n",
        "num2 = int(input(\"정수2 ==> \"))\n",
        "hap = num1 + num2\n",
        "print(\"결과 :\", hap)\n",
        "\n",
        "print(\"B님. 두 숫자를 입력하세요\")\n",
        "num1 = int(input(\"정수1 ==> \"))\n",
        "num2 = int(input(\"정수2 ==> \"))\n",
        "hap = num1 + num2\n",
        "print(\"결과 :\", hap)\n",
        "\n",
        "print(\"C님. 두 숫자를 입력하세요\")\n",
        "num1 = int(input(\"정수1 ==> \"))\n",
        "num2 = int(input(\"정수2 ==> \"))\n",
        "hap = num1 + num2\n",
        "print(\"결과 :\", hap)\n"
      ],
      "metadata": {
        "colab": {
          "base_uri": "https://localhost:8080/"
        },
        "id": "kGUKHSPL_519",
        "outputId": "4700374d-13da-44d1-abda-1a7078d81299"
      },
      "execution_count": null,
      "outputs": [
        {
          "output_type": "stream",
          "name": "stdout",
          "text": [
            "A님. 두 숫자를 입력하세요.\n",
            "정수1 ==> 2\n",
            "정수2 ==> 3\n",
            "결과 : 5\n",
            "B님. 두 숫자를 입력하세요\n",
            "정수1 ==> 4\n",
            "정수2 ==> 5\n",
            "결과 : 9\n",
            "C님. 두 숫자를 입력하세요\n",
            "정수1 ==> 6\n",
            "정수2 ==> 7\n",
            "결과 : 13\n"
          ]
        }
      ]
    },
    {
      "cell_type": "code",
      "source": [
        "def hapFunc():\n",
        "  num1 = int(input(\"정수1 ==> \"))\n",
        "  num2 = int(input(\"정수2 ==> \"))\n",
        "  return num1 + num2\n",
        "\n",
        "print(\"A님. 두 숫자를 입력하세요.\")\n",
        "hap = hapFunc()\n",
        "print(\"결과 :\", hap)\n",
        "\n",
        "print(\"B님. 두 숫자를 입력하세요.\")\n",
        "hap = hapFunc()\n",
        "print(\"결과 :\", hap)\n",
        "\n",
        "print(\"C님. 두 숫자를 입력하세요.\")\n",
        "hap = hapFunc()\n",
        "print(\"결과 :\", hap)"
      ],
      "metadata": {
        "colab": {
          "base_uri": "https://localhost:8080/"
        },
        "id": "XWyIW7LvB7ev",
        "outputId": "d7722e28-5d0b-44ac-c0de-f6d0341dd991"
      },
      "execution_count": null,
      "outputs": [
        {
          "output_type": "stream",
          "name": "stdout",
          "text": [
            "A님. 두 숫자를 입력하세요.\n",
            "정수1 ==> 1\n",
            "정수2 ==> 2\n",
            "결과 : 3\n",
            "B님. 두 숫자를 입력하세요.\n",
            "정수1 ==> 3\n",
            "정수2 ==> 4\n",
            "결과 : 7\n",
            "C님. 두 숫자를 입력하세요.\n",
            "정수1 ==> 5\n",
            "정수2 ==> 6\n",
            "결과 : 11\n"
          ]
        }
      ]
    },
    {
      "cell_type": "code",
      "source": [
        "def plus (v1, v2):\n",
        "  result = 0\n",
        "  result = v1 + v2\n",
        "  return result \n",
        "\n",
        "hap = 0\n",
        "\n",
        "hap = plus(100,200)\n",
        "print(\"100과 200의 plus() 함수 결과는 \", hap)\n"
      ],
      "metadata": {
        "colab": {
          "base_uri": "https://localhost:8080/"
        },
        "id": "53KEta_FCjwP",
        "outputId": "12293b32-0681-4426-fc72-5ad384fd0a0c"
      },
      "execution_count": null,
      "outputs": [
        {
          "output_type": "stream",
          "name": "stdout",
          "text": [
            "100과 200의 plus() 함수 결과는  300\n"
          ]
        }
      ]
    },
    {
      "cell_type": "code",
      "source": [
        "def calc(v1, v2, op):\n",
        "  result = 0\n",
        "  if op =='+':\n",
        "    resutl = v1 + v2\n",
        "  elif op == '-':\n",
        "    result = v1 - v2\n",
        "  elif op == '/':\n",
        "    result = v1 / v2\n",
        "  \n",
        "  return result\n",
        "\n",
        "res = 0 \n",
        "var1, var2, oper = 0, 0, \"\"\n",
        "\n",
        "oper = input(\"계산 입력 (+, -, *, /): \")\n",
        "var1 = int(input(\"첫 번째 입력: \"))\n",
        "var2 = int(input(\"두 번째 입력: \"))\n",
        "res = calc(var1, var2,  oper)\n",
        "\n",
        "print(\"## 계산기 : \", var1, oper, var2, \"=\", res)"
      ],
      "metadata": {
        "colab": {
          "base_uri": "https://localhost:8080/"
        },
        "id": "URVH5Y1aDNl0",
        "outputId": "08603fd8-1f0c-4357-df9c-ec7c1826f65a"
      },
      "execution_count": null,
      "outputs": [
        {
          "output_type": "stream",
          "name": "stdout",
          "text": [
            "계산 입력 (+, -, *, /): +\n",
            "첫 번째 입력: 2\n",
            "두 번째 입력: 3\n",
            "## 계산기 :  2 + 3 = 0\n"
          ]
        }
      ]
    },
    {
      "cell_type": "code",
      "source": [
        "def para2_func(v1, v2):\n",
        "  result = 0\n",
        "  result = v1 + v2\n",
        "  return result\n",
        "\n",
        "def para3_func(v1, v2, v3):\n",
        "  result = 0\n",
        "  result = v1 + v2 + v3\n",
        "  return result\n",
        "\n",
        "hap = 0\n",
        "\n",
        "hap = para2_func(10,20)\n",
        "print(\"매개변수 2개 함수 호출 결과 ==> \", hap)\n",
        "hap = para3_func(10,20,30)\n",
        "print(\"매개변수 3개 함수 호출 결과 ==> \", hap)"
      ],
      "metadata": {
        "colab": {
          "base_uri": "https://localhost:8080/"
        },
        "id": "aux4CvBfFXGb",
        "outputId": "c89b39bd-73db-42aa-9a86-e772a48208f6"
      },
      "execution_count": null,
      "outputs": [
        {
          "output_type": "stream",
          "name": "stdout",
          "text": [
            "매개변수 2개 함수 호출 결과 ==>  30\n",
            "매개변수 3개 함수 호출 결과 ==>  60\n"
          ]
        }
      ]
    },
    {
      "cell_type": "code",
      "source": [
        "def para_func(v1, v2, v3=0):\n",
        "  result = 0\n",
        "  result = v1 + v2 + v3\n",
        "  return result\n",
        "\n",
        "hap = 0\n",
        "\n",
        "hap = para_func(10,20)\n",
        "print(\"매개변수 2개 함수 호출 결과 ==> \", hap)\n",
        "\n",
        "hap = para_func(10,20,30)\n",
        "print(\"매개변수 3개 함수 호출 결과 ==> \", hap)"
      ],
      "metadata": {
        "colab": {
          "base_uri": "https://localhost:8080/"
        },
        "id": "PVl7xjP3F0kz",
        "outputId": "ade99182-93f0-4f12-8df5-074b7a49b7ef"
      },
      "execution_count": null,
      "outputs": [
        {
          "output_type": "stream",
          "name": "stdout",
          "text": [
            "매개변수 2개 함수 호출 결과 ==>  30\n",
            "매개변수 3개 함수 호출 결과 ==>  60\n"
          ]
        }
      ]
    },
    {
      "cell_type": "code",
      "source": [
        "def func1():\n",
        "  print(\"반환값이 없는 함수 실행\")\n",
        "\n",
        "func1()"
      ],
      "metadata": {
        "colab": {
          "base_uri": "https://localhost:8080/"
        },
        "id": "oydQMKCWIYef",
        "outputId": "329b431b-cb4f-4f53-8edc-84c9b353c21c"
      },
      "execution_count": null,
      "outputs": [
        {
          "output_type": "stream",
          "name": "stdout",
          "text": [
            "반환값이 없는 함수 실행\n"
          ]
        }
      ]
    },
    {
      "cell_type": "code",
      "source": [
        "def func2():\n",
        "  result = 100\n",
        "  return result\n",
        "\n",
        "hap = 0\n",
        "\n",
        "hap = func2()\n",
        "print(\"func2()에서 돌려준 값 ==> \",hap)"
      ],
      "metadata": {
        "colab": {
          "base_uri": "https://localhost:8080/"
        },
        "id": "DHbEp-o6JYU9",
        "outputId": "d4a0e8ca-d98a-45e7-d268-675711906764"
      },
      "execution_count": null,
      "outputs": [
        {
          "output_type": "stream",
          "name": "stdout",
          "text": [
            "func2()에서 돌려준 값 ==>  100\n"
          ]
        }
      ]
    },
    {
      "cell_type": "code",
      "source": [
        "def func3():\n",
        "  result1 = 100\n",
        "  result2 = 200\n",
        "  return result1, result2\n",
        "\n",
        "hap1, hap2 = 0, 0\n",
        "\n",
        "hap1, hap2 = func3()\n",
        "print(\"func3()에서 돌려준 값 ==> \", hap1, hap2)"
      ],
      "metadata": {
        "colab": {
          "base_uri": "https://localhost:8080/"
        },
        "id": "Q9SeCpPdJpgP",
        "outputId": "501f1257-8b39-4b2a-ce7a-d0c3f4010794"
      },
      "execution_count": null,
      "outputs": [
        {
          "output_type": "stream",
          "name": "stdout",
          "text": [
            "func3()에서 돌려준 값 ==>  100 200\n"
          ]
        }
      ]
    },
    {
      "cell_type": "code",
      "source": [
        "def myfunc():\n",
        "  pass"
      ],
      "metadata": {
        "id": "EE5aHXSeJ3jG"
      },
      "execution_count": null,
      "outputs": []
    },
    {
      "cell_type": "code",
      "source": [
        "if True :\n",
        "  pass\n",
        "else:\n",
        "  print(\"거짓입니다. \")"
      ],
      "metadata": {
        "id": "tW1ET4KUKJeR"
      },
      "execution_count": null,
      "outputs": []
    },
    {
      "cell_type": "code",
      "source": [
        "def func1():\n",
        "  global a\n",
        "  a = 10\n",
        "  print(\"func1()에서 a의 값\", a)\n",
        "\n",
        "def func2():\n",
        "  print(\"func2()에서 a의 값\", a)\n",
        "\n",
        "a = 20\n",
        "\n",
        "func1()\n",
        "func2()"
      ],
      "metadata": {
        "colab": {
          "base_uri": "https://localhost:8080/"
        },
        "id": "qHX1BD-SKPyg",
        "outputId": "e4075907-aa48-4d8d-f1b5-c2367009c1c9"
      },
      "execution_count": null,
      "outputs": [
        {
          "output_type": "stream",
          "name": "stdout",
          "text": [
            "func1()에서 a의 값 10\n",
            "func2()에서 a의 값 10\n"
          ]
        }
      ]
    },
    {
      "cell_type": "code",
      "source": [
        "from datetime import datetime, timedelta\n",
        "def getCurrent():\n",
        "  curDate = datetime.now()\n",
        "  return curDate\n",
        "\n",
        "def getAfterDate(now, day):\n",
        "  retDate = now + timedelta(days = day)\n",
        "  return retDate\n",
        "\n",
        "nowDate, afterDate = None, None\n",
        "\n",
        "nowDate = getCurrent()\n",
        "print(\"현재 날짜와 시간 ==> \", nowDate)\n",
        "afterDate = getAfterDate(nowDate, 100)\n",
        "print(\"100일 후 날짜와 시간 ==> \",afterDate)"
      ],
      "metadata": {
        "colab": {
          "base_uri": "https://localhost:8080/"
        },
        "id": "d4cB1CBDKvWs",
        "outputId": "21a0711b-7df8-41db-ab0e-fab05633ee9a"
      },
      "execution_count": null,
      "outputs": [
        {
          "output_type": "stream",
          "name": "stdout",
          "text": [
            "현재 날짜와 시간 ==>  2023-06-11 06:39:25.508943\n",
            "100일 후 날짜와 시간 ==>  2023-09-19 06:39:25.508943\n"
          ]
        }
      ]
    },
    {
      "cell_type": "code",
      "source": [
        "def checkPassword(pwd):\n",
        "  if len(pwd) < 8:\n",
        "    return False\n",
        "  \n",
        "  if pwd.isalnum():\n",
        "    return True\n",
        "  else:\n",
        "    return False\n",
        "\n",
        "password = \"\"\n",
        "\n",
        "password = input(\"새로운 비밀번호를 입력하세요 :\")\n",
        "\n",
        "if checkPassword(password):\n",
        "  print(\"Good~ 비밀번호가 올바르게 생성되었어요\")\n",
        "else :\n",
        "  print(\"오류! 비밀번호가 규칙에 맞지 않습니다. \")"
      ],
      "metadata": {
        "colab": {
          "base_uri": "https://localhost:8080/"
        },
        "id": "ulcSLI-5LNPb",
        "outputId": "eef2ad34-285c-4a65-aa52-33ab9fcd148b"
      },
      "execution_count": null,
      "outputs": [
        {
          "output_type": "stream",
          "name": "stdout",
          "text": [
            "새로운 비밀번호를 입력하세요 :12345678\n",
            "Good~ 비밀번호가 올바르게 생성되었어요\n"
          ]
        }
      ]
    },
    {
      "cell_type": "code",
      "source": [
        "inFile = None\n",
        "inStr = ''\n",
        "\n",
        "inFile = open(\"\", \"r\", encoding=\"UTF-8\")\n",
        "\n",
        "inStr = inFile.readline()\n",
        "print(inStr, end='')\n",
        "\n",
        "inStr = inFile.readline()\n",
        "print(inStr, end='')\n",
        "\n",
        "inStr = inFile.readline()\n",
        "print(inStr, end='')\n",
        "\n",
        "inFile. close()"
      ],
      "metadata": {
        "id": "9709VBsiMY3a"
      },
      "execution_count": null,
      "outputs": []
    },
    {
      "cell_type": "code",
      "source": [
        "inFile = None\n",
        "inStr = ''\n",
        "\n",
        "inFile = open(\"\", \"r\", encoding=\"UTF-8\")\n",
        "\n",
        "while True:\n",
        "  inStr = inFile.readline()\n",
        "  if inStr == \"\":\n",
        "    break\n",
        "  print(inStr, end='')\n",
        "\n",
        "\n",
        "inFile. close()"
      ],
      "metadata": {
        "id": "mYTW-nCROVNE"
      },
      "execution_count": null,
      "outputs": []
    },
    {
      "cell_type": "code",
      "source": [
        "inFile = None\n",
        "inList = []\n",
        "\n"
      ],
      "metadata": {
        "id": "wBHzVZyWPKaw"
      },
      "execution_count": null,
      "outputs": []
    },
    {
      "cell_type": "code",
      "source": [],
      "metadata": {
        "id": "S8mF00oLPKfn"
      },
      "execution_count": null,
      "outputs": []
    },
    {
      "cell_type": "code",
      "source": [],
      "metadata": {
        "id": "4diyQXmyPKkV"
      },
      "execution_count": null,
      "outputs": []
    },
    {
      "cell_type": "code",
      "source": [],
      "metadata": {
        "id": "MG_2oq7EPKos"
      },
      "execution_count": null,
      "outputs": []
    },
    {
      "cell_type": "code",
      "source": [],
      "metadata": {
        "id": "esavcuVwPKxU"
      },
      "execution_count": null,
      "outputs": []
    },
    {
      "cell_type": "code",
      "source": [],
      "metadata": {
        "id": "OZkDU-LoPK2Y"
      },
      "execution_count": null,
      "outputs": []
    }
  ]
}