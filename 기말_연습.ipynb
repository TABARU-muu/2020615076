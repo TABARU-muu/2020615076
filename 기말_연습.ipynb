{
  "nbformat": 4,
  "nbformat_minor": 0,
  "metadata": {
    "colab": {
      "provenance": []
    },
    "kernelspec": {
      "name": "python3",
      "display_name": "Python 3"
    },
    "language_info": {
      "name": "python"
    }
  },
  "cells": [
    {
      "cell_type": "code",
      "source": [
        "numList = [10,20,30]\n",
        "numList[1] = 200\n",
        "print(numList)"
      ],
      "metadata": {
        "colab": {
          "base_uri": "https://localhost:8080/"
        },
        "id": "O0vJ102pLTCP",
        "outputId": "fc419b76-8084-4224-f258-94102ba3e0a7"
      },
      "execution_count": null,
      "outputs": [
        {
          "output_type": "stream",
          "name": "stdout",
          "text": [
            "[10, 200, 30]\n"
          ]
        }
      ]
    },
    {
      "cell_type": "code",
      "source": [
        "numList = [10,20,30]\n",
        "numList[1:2] = [200, 201]\n",
        "print(numList)\n"
      ],
      "metadata": {
        "colab": {
          "base_uri": "https://localhost:8080/"
        },
        "id": "JYueii3QLTIi",
        "outputId": "b839d230-e166-49fa-f3c6-68d4a86c76a0"
      },
      "execution_count": null,
      "outputs": [
        {
          "output_type": "stream",
          "name": "stdout",
          "text": [
            "[10, 200, 201, 30]\n"
          ]
        }
      ]
    },
    {
      "cell_type": "code",
      "source": [
        "numList = [10,20,30]\n",
        "numList.insert(1,123)\n",
        "print(numList)"
      ],
      "metadata": {
        "colab": {
          "base_uri": "https://localhost:8080/"
        },
        "id": "f7VCifGZLTPZ",
        "outputId": "01d94a92-1676-447e-baae-cefe246fb134"
      },
      "execution_count": null,
      "outputs": [
        {
          "output_type": "stream",
          "name": "stdout",
          "text": [
            "[10, 123, 20, 30]\n"
          ]
        }
      ]
    },
    {
      "cell_type": "code",
      "source": [
        "numList = [10,20,30]\n",
        "del(numList[1])\n",
        "print(numList)"
      ],
      "metadata": {
        "colab": {
          "base_uri": "https://localhost:8080/"
        },
        "id": "fO7GwuL0L-1l",
        "outputId": "77b137b6-1d76-4f26-ed8f-7113cdfb2ccc"
      },
      "execution_count": null,
      "outputs": [
        {
          "output_type": "stream",
          "name": "stdout",
          "text": [
            "[10, 30]\n"
          ]
        }
      ]
    },
    {
      "cell_type": "code",
      "source": [
        "numList = [10,20,30,10,10]\n",
        "numList.remove(10)\n",
        "print(numList)"
      ],
      "metadata": {
        "colab": {
          "base_uri": "https://localhost:8080/"
        },
        "id": "2bkFd2h_MTYd",
        "outputId": "b6c33e79-cc92-4cbf-8022-8b8e53729b6f"
      },
      "execution_count": null,
      "outputs": [
        {
          "output_type": "stream",
          "name": "stdout",
          "text": [
            "[20, 30, 10, 10]\n"
          ]
        }
      ]
    },
    {
      "cell_type": "code",
      "source": [
        "numList = [10,20,30]\n",
        "numList.pop()"
      ],
      "metadata": {
        "colab": {
          "base_uri": "https://localhost:8080/"
        },
        "id": "a4BazgNqMfTR",
        "outputId": "7965eb1b-eefc-4a71-88ab-66aac758182c"
      },
      "execution_count": null,
      "outputs": [
        {
          "output_type": "execute_result",
          "data": {
            "text/plain": [
              "30"
            ]
          },
          "metadata": {},
          "execution_count": 13
        }
      ]
    },
    {
      "cell_type": "code",
      "source": [
        "print(numList)"
      ],
      "metadata": {
        "colab": {
          "base_uri": "https://localhost:8080/"
        },
        "id": "HIeSoPozMrIo",
        "outputId": "fd270516-de84-45bb-e53c-ebd872d843fe"
      },
      "execution_count": null,
      "outputs": [
        {
          "output_type": "stream",
          "name": "stdout",
          "text": [
            "[10, 20]\n"
          ]
        }
      ]
    },
    {
      "cell_type": "code",
      "source": [
        "a = []\n",
        "num1, num2, num3 = map(int,input(\"세 수를 입력하세요. \").split())\n",
        "a.append(num1)\n",
        "a.append(num2)\n",
        "a.append(num3)\n",
        "\n",
        "largest = a[0]\n",
        "for i in a:\n",
        "  if i > largest:\n",
        "    largest = i\n",
        "print(\"입력받은 수 중 가장 큰 수는 %s 입니다.\"%(largest))"
      ],
      "metadata": {
        "id": "teEgJ1WEMtuS",
        "colab": {
          "base_uri": "https://localhost:8080/"
        },
        "outputId": "2f1673c2-d4f2-4e9c-88f3-ecad1059de67"
      },
      "execution_count": 18,
      "outputs": [
        {
          "output_type": "stream",
          "name": "stdout",
          "text": [
            "세 수를 입력하세요. 3 5 7\n",
            "입력받은 수 중 가장 큰 수는 7 입니다.\n"
          ]
        }
      ]
    },
    {
      "cell_type": "code",
      "source": [
        "gender, age = input().split()\n",
        "\n",
        "age = int(age)\n",
        "if age >= 18 :\n",
        "    if gender == \"M\":\n",
        "        print(\"MAN\")\n",
        "    elif gender == \"F\":\n",
        "        print(\"WOMAN\")\n",
        "else:\n",
        "    if gender == \"M\":\n",
        "        print(\"BOY\")\n",
        "    elif gender == \"F\":\n",
        "        print(\"GIRL\")\n"
      ],
      "metadata": {
        "colab": {
          "base_uri": "https://localhost:8080/"
        },
        "id": "6qNV7ExxSToh",
        "outputId": "fdcf4ae2-4e33-4503-e6b0-f1ff90217c97"
      },
      "execution_count": 21,
      "outputs": [
        {
          "output_type": "stream",
          "name": "stdout",
          "text": [
            "F 18\n",
            "WOMAN\n"
          ]
        }
      ]
    },
    {
      "cell_type": "code",
      "source": [],
      "metadata": {
        "id": "6A7bxQjvVyke"
      },
      "execution_count": null,
      "outputs": []
    }
  ]
}