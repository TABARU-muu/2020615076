{
  "nbformat": 4,
  "nbformat_minor": 0,
  "metadata": {
    "colab": {
      "provenance": []
    },
    "kernelspec": {
      "name": "python3",
      "display_name": "Python 3"
    },
    "language_info": {
      "name": "python"
    }
  },
  "cells": [
    {
      "cell_type": "code",
      "source": [
        "numList = [10,20,30]\n",
        "numList[1] = 200\n",
        "print(numList)"
      ],
      "metadata": {
        "colab": {
          "base_uri": "https://localhost:8080/"
        },
        "id": "O0vJ102pLTCP",
        "outputId": "fc419b76-8084-4224-f258-94102ba3e0a7"
      },
      "execution_count": null,
      "outputs": [
        {
          "output_type": "stream",
          "name": "stdout",
          "text": [
            "[10, 200, 30]\n"
          ]
        }
      ]
    },
    {
      "cell_type": "code",
      "source": [
        "numList = [10,20,30]\n",
        "numList[1:2] = [200, 201]\n",
        "print(numList)\n"
      ],
      "metadata": {
        "colab": {
          "base_uri": "https://localhost:8080/"
        },
        "id": "JYueii3QLTIi",
        "outputId": "b839d230-e166-49fa-f3c6-68d4a86c76a0"
      },
      "execution_count": null,
      "outputs": [
        {
          "output_type": "stream",
          "name": "stdout",
          "text": [
            "[10, 200, 201, 30]\n"
          ]
        }
      ]
    },
    {
      "cell_type": "code",
      "source": [
        "numList = [10,20,30]\n",
        "numList.insert(1,123)\n",
        "print(numList)"
      ],
      "metadata": {
        "colab": {
          "base_uri": "https://localhost:8080/"
        },
        "id": "f7VCifGZLTPZ",
        "outputId": "01d94a92-1676-447e-baae-cefe246fb134"
      },
      "execution_count": null,
      "outputs": [
        {
          "output_type": "stream",
          "name": "stdout",
          "text": [
            "[10, 123, 20, 30]\n"
          ]
        }
      ]
    },
    {
      "cell_type": "code",
      "source": [
        "numList = [10,20,30]\n",
        "del(numList[1])\n",
        "print(numList)"
      ],
      "metadata": {
        "colab": {
          "base_uri": "https://localhost:8080/"
        },
        "id": "fO7GwuL0L-1l",
        "outputId": "77b137b6-1d76-4f26-ed8f-7113cdfb2ccc"
      },
      "execution_count": null,
      "outputs": [
        {
          "output_type": "stream",
          "name": "stdout",
          "text": [
            "[10, 30]\n"
          ]
        }
      ]
    },
    {
      "cell_type": "code",
      "source": [
        "numList = [10,20,30,10,10]\n",
        "numList.remove(10)\n",
        "print(numList)"
      ],
      "metadata": {
        "colab": {
          "base_uri": "https://localhost:8080/"
        },
        "id": "2bkFd2h_MTYd",
        "outputId": "b6c33e79-cc92-4cbf-8022-8b8e53729b6f"
      },
      "execution_count": null,
      "outputs": [
        {
          "output_type": "stream",
          "name": "stdout",
          "text": [
            "[20, 30, 10, 10]\n"
          ]
        }
      ]
    },
    {
      "cell_type": "code",
      "source": [
        "numList = [10,20,30]\n",
        "numList.pop()"
      ],
      "metadata": {
        "colab": {
          "base_uri": "https://localhost:8080/"
        },
        "id": "a4BazgNqMfTR",
        "outputId": "7965eb1b-eefc-4a71-88ab-66aac758182c"
      },
      "execution_count": null,
      "outputs": [
        {
          "output_type": "execute_result",
          "data": {
            "text/plain": [
              "30"
            ]
          },
          "metadata": {},
          "execution_count": 13
        }
      ]
    },
    {
      "cell_type": "code",
      "source": [
        "print(numList)"
      ],
      "metadata": {
        "colab": {
          "base_uri": "https://localhost:8080/"
        },
        "id": "HIeSoPozMrIo",
        "outputId": "fd270516-de84-45bb-e53c-ebd872d843fe"
      },
      "execution_count": null,
      "outputs": [
        {
          "output_type": "stream",
          "name": "stdout",
          "text": [
            "[10, 20]\n"
          ]
        }
      ]
    },
    {
      "cell_type": "code",
      "source": [
        "a = []\n",
        "num1, num2, num3 = map(int,input(\"세 수를 입력하세요. \").split())\n",
        "a.append(num1)\n",
        "a.append(num2)\n",
        "a.append(num3)\n",
        "\n",
        "largest = a[0]\n",
        "for i in a:\n",
        "  if i > largest:\n",
        "    largest = i\n",
        "print(\"입력받은 수 중 가장 큰 수는 %s 입니다.\"%(largest))"
      ],
      "metadata": {
        "id": "teEgJ1WEMtuS",
        "colab": {
          "base_uri": "https://localhost:8080/"
        },
        "outputId": "2f1673c2-d4f2-4e9c-88f3-ecad1059de67"
      },
      "execution_count": null,
      "outputs": [
        {
          "output_type": "stream",
          "name": "stdout",
          "text": [
            "세 수를 입력하세요. 3 5 7\n",
            "입력받은 수 중 가장 큰 수는 7 입니다.\n"
          ]
        }
      ]
    },
    {
      "cell_type": "code",
      "source": [
        "gender, age = input().split()\n",
        "\n",
        "age = int(age)\n",
        "if age >= 18 :\n",
        "    if gender == \"M\":\n",
        "        print(\"MAN\")\n",
        "    elif gender == \"F\":\n",
        "        print(\"WOMAN\")\n",
        "else:\n",
        "    if gender == \"M\":\n",
        "        print(\"BOY\")\n",
        "    elif gender == \"F\":\n",
        "        print(\"GIRL\")\n"
      ],
      "metadata": {
        "colab": {
          "base_uri": "https://localhost:8080/"
        },
        "id": "6qNV7ExxSToh",
        "outputId": "fdcf4ae2-4e33-4503-e6b0-f1ff90217c97"
      },
      "execution_count": null,
      "outputs": [
        {
          "output_type": "stream",
          "name": "stdout",
          "text": [
            "F 18\n",
            "WOMAN\n"
          ]
        }
      ]
    },
    {
      "cell_type": "code",
      "source": [
        "noList = [[1,2,3,4],\n",
        "          [5,6,7,8],\n",
        "          [9,10,11,12]]\n",
        "\n",
        "for i in range(0,3):\n",
        "  for j in range(0, 4):\n",
        "    print(\"%3d\"% noList[i][j], end='')\n",
        "  print(\"\")"
      ],
      "metadata": {
        "colab": {
          "base_uri": "https://localhost:8080/"
        },
        "id": "6A7bxQjvVyke",
        "outputId": "ea4ddd51-8403-439d-8098-40ac5c3eda88"
      },
      "execution_count": null,
      "outputs": [
        {
          "output_type": "stream",
          "name": "stdout",
          "text": [
            "  1  2  3  4\n",
            "  5  6  7  8\n",
            "  9 10 11 12\n"
          ]
        }
      ]
    },
    {
      "cell_type": "code",
      "source": [
        "def plus(v1, v2):\n",
        "  result = 0\n",
        "  result = v1 + v2\n",
        "  return result\n",
        "\n",
        "hap = 0\n",
        "\n",
        "hap = plus(100,200)\n",
        "print(\"100과 200의 plus() 함수 결과는 \",hap)"
      ],
      "metadata": {
        "colab": {
          "base_uri": "https://localhost:8080/"
        },
        "id": "st-MfT4ppLL1",
        "outputId": "80ac3d01-55ab-454b-c516-8196b026ab6b"
      },
      "execution_count": null,
      "outputs": [
        {
          "output_type": "stream",
          "name": "stdout",
          "text": [
            "100과 200의 plus() 함수 결과는  300\n"
          ]
        }
      ]
    },
    {
      "cell_type": "code",
      "source": [
        "## 함수 정의 부분\n",
        "def para2_func(v1, v2):\n",
        "  result = 0\n",
        "  result = v1 + v2\n",
        "  return result\n",
        "\n",
        "def para3_func(v1, v2, v3):\n",
        "  result = 0\n",
        "  result = v1 + v2 + v3\n",
        "  return result\n",
        "\n",
        "hap = 0\n",
        "\n",
        "hap = para2_func(10,20)\n",
        "print(\"매개변수 2개 함수 호출 결과 ==> \", hap)\n",
        "hap = para3_func(10,20,30)\n",
        "print(\"매개변수 3개 함수 호출 결과 ==> \", hap)"
      ],
      "metadata": {
        "colab": {
          "base_uri": "https://localhost:8080/"
        },
        "id": "Dinco91bpLc2",
        "outputId": "8113b15e-d227-4a27-8895-02d82fd04d00"
      },
      "execution_count": null,
      "outputs": [
        {
          "output_type": "stream",
          "name": "stdout",
          "text": [
            "매개변수 2개 함수 호출 결과 ==>  30\n",
            "매개변수 3개 함수 호출 결과 ==>  60\n"
          ]
        }
      ]
    },
    {
      "cell_type": "code",
      "source": [
        "def func2():\n",
        "  result = 100\n",
        "  return result\n",
        "\n",
        "hap = 0\n",
        "\n",
        "hap = func2()\n",
        "print(\"func2()에서 돌려준 값 ==> \",hap)"
      ],
      "metadata": {
        "colab": {
          "base_uri": "https://localhost:8080/"
        },
        "id": "yYEfwDw4tvc4",
        "outputId": "3096e918-4550-46bd-8f0e-5926c4b223fe"
      },
      "execution_count": null,
      "outputs": [
        {
          "output_type": "stream",
          "name": "stdout",
          "text": [
            "func2()에서 돌려준 값 ==>  100\n"
          ]
        }
      ]
    },
    {
      "cell_type": "code",
      "source": [
        "def func3():\n",
        "  result1 = 100\n",
        "  result2 = 200\n",
        "  return result1, result2\n",
        "\n",
        "hap1, hap2 = 0, 0\n",
        "\n",
        "hap1, hap2 = func3()\n",
        "print(\"func3()에서 돌려준 값 ==> \", hap1, hap2)"
      ],
      "metadata": {
        "colab": {
          "base_uri": "https://localhost:8080/"
        },
        "id": "JW6XcTApuCHr",
        "outputId": "c44bdc66-ad6f-478c-b220-2c9f015a0f92"
      },
      "execution_count": null,
      "outputs": [
        {
          "output_type": "stream",
          "name": "stdout",
          "text": [
            "func3()에서 돌려준 값 ==>  100 200\n"
          ]
        }
      ]
    },
    {
      "cell_type": "code",
      "source": [
        "import random\n",
        "def lottoFunc():\n",
        "  lottoNum = random.randint(1,45)\n",
        "  return lottoNum\n",
        "\n",
        "lottoList = []\n",
        "num = 0\n",
        "\n",
        "print(\"** 로또 추첨을 시작합니다. ** \\n\")\n",
        "\n",
        "while True :\n",
        "  num = lottoFunc()\n",
        "\n",
        "  if num in lottoList :\n",
        "    continue\n",
        "  else:\n",
        "    lottoList.append(num)\n",
        "  if len(lottoList) == 6:\n",
        "    break\n",
        "print(\"오늘의 로또 번호 ==> \", end='')\n",
        "lottoList.sort()\n",
        "for i in range(0,6):\n",
        "  print(lottoList[i],\" \",end = \"\")"
      ],
      "metadata": {
        "colab": {
          "base_uri": "https://localhost:8080/"
        },
        "id": "PfbFjsQWpLk7",
        "outputId": "1fd1a572-d7d9-4d41-bb64-0846790f0c3c"
      },
      "execution_count": null,
      "outputs": [
        {
          "output_type": "stream",
          "name": "stdout",
          "text": [
            "** 로또 추첨을 시작합니다. ** \n",
            "\n",
            "오늘의 로또 번호 ==> 10  14  19  26  41  43  "
          ]
        }
      ]
    },
    {
      "cell_type": "code",
      "source": [
        "import random\n",
        "\n",
        "computer, user = 0, 0\n",
        "\n",
        "for i in range(1,11,1):\n",
        "  computer = random. randint(1,5)\n",
        "  print(\"게임\", i, \"회: \", end='')\n",
        "  user = int(input(\"컴퓨터가 생각한 숫자는 ?\"))\n",
        "\n",
        "  if computer == user :\n",
        "    print(\"맞혔네요. 축하합니다 !!\")\n",
        "    break\n",
        "  else:\n",
        "    print(\"아까워요. \",computer, \"였는데요. 다시 해보세요. ㅠ\")\n",
        "    continue\n",
        "print(\"게임을 마칩니다. \")"
      ],
      "metadata": {
        "id": "E8o6lzBUpLtZ",
        "colab": {
          "base_uri": "https://localhost:8080/"
        },
        "outputId": "65ae89e2-9602-4663-c107-5264a5bc7e8c"
      },
      "execution_count": null,
      "outputs": [
        {
          "output_type": "stream",
          "name": "stdout",
          "text": [
            "게임 1 회: 컴퓨터가 생각한 숫자는 ?5\n",
            "아까워요.  1 였는데요. 다시 해보세요. ㅠ\n",
            "게임 2 회: 컴퓨터가 생각한 숫자는 ?3\n",
            "아까워요.  5 였는데요. 다시 해보세요. ㅠ\n",
            "게임 3 회: 컴퓨터가 생각한 숫자는 ?1\n",
            "아까워요.  4 였는데요. 다시 해보세요. ㅠ\n",
            "게임 4 회: 컴퓨터가 생각한 숫자는 ?2\n",
            "아까워요.  1 였는데요. 다시 해보세요. ㅠ\n",
            "게임 5 회: 컴퓨터가 생각한 숫자는 ?3\n",
            "아까워요.  5 였는데요. 다시 해보세요. ㅠ\n",
            "게임 6 회: 컴퓨터가 생각한 숫자는 ?4\n",
            "아까워요.  1 였는데요. 다시 해보세요. ㅠ\n",
            "게임 7 회: 컴퓨터가 생각한 숫자는 ?5\n",
            "아까워요.  4 였는데요. 다시 해보세요. ㅠ\n",
            "게임 8 회: 컴퓨터가 생각한 숫자는 ?6\n",
            "아까워요.  2 였는데요. 다시 해보세요. ㅠ\n",
            "게임 9 회: 컴퓨터가 생각한 숫자는 ?7\n",
            "아까워요.  3 였는데요. 다시 해보세요. ㅠ\n",
            "게임 10 회: 컴퓨터가 생각한 숫자는 ?8\n",
            "아까워요.  2 였는데요. 다시 해보세요. ㅠ\n",
            "게임을 마칩니다. \n"
          ]
        }
      ]
    },
    {
      "cell_type": "code",
      "source": [
        "for i in range(5):\n",
        "  print(\"한빛 아카데미\")"
      ],
      "metadata": {
        "colab": {
          "base_uri": "https://localhost:8080/"
        },
        "id": "-bFcJA9GyQ--",
        "outputId": "2ff7b5c1-b84c-4c1e-8016-bd52d06ff43d"
      },
      "execution_count": null,
      "outputs": [
        {
          "output_type": "stream",
          "name": "stdout",
          "text": [
            "한빛 아카데미\n",
            "한빛 아카데미\n",
            "한빛 아카데미\n",
            "한빛 아카데미\n",
            "한빛 아카데미\n"
          ]
        }
      ]
    },
    {
      "cell_type": "code",
      "source": [
        "for i in range(1,5,1):\n",
        "  print(\"한빛 아카데미\")"
      ],
      "metadata": {
        "colab": {
          "base_uri": "https://localhost:8080/"
        },
        "id": "btadQPxozCQX",
        "outputId": "a71e20b9-595d-417d-af0e-e0b360b18c68"
      },
      "execution_count": null,
      "outputs": [
        {
          "output_type": "stream",
          "name": "stdout",
          "text": [
            "한빛 아카데미\n",
            "한빛 아카데미\n",
            "한빛 아카데미\n",
            "한빛 아카데미\n"
          ]
        }
      ]
    },
    {
      "cell_type": "code",
      "source": [
        "for i in [1,2,3,4]:\n",
        "  print(\"한빛 아카데미\")"
      ],
      "metadata": {
        "colab": {
          "base_uri": "https://localhost:8080/"
        },
        "id": "QoMAlepZzKK_",
        "outputId": "bf14685b-eab5-4f3b-9784-8ae7728ffec3"
      },
      "execution_count": null,
      "outputs": [
        {
          "output_type": "stream",
          "name": "stdout",
          "text": [
            "한빛 아카데미\n",
            "한빛 아카데미\n",
            "한빛 아카데미\n",
            "한빛 아카데미\n"
          ]
        }
      ]
    },
    {
      "cell_type": "code",
      "source": [
        "for n in range(3,7):\n",
        "  print(n,end=' ')"
      ],
      "metadata": {
        "colab": {
          "base_uri": "https://localhost:8080/"
        },
        "id": "x8SKZP1YzbtA",
        "outputId": "434a00e8-c4b4-464c-85a6-c0a9a9f7ed09"
      },
      "execution_count": null,
      "outputs": [
        {
          "output_type": "stream",
          "name": "stdout",
          "text": [
            "3 4 5 6 "
          ]
        }
      ]
    },
    {
      "cell_type": "code",
      "source": [
        "hap = 0\n",
        "for i in range(1,101,1):\n",
        "  hap =  hap + i\n",
        "print(hap)"
      ],
      "metadata": {
        "colab": {
          "base_uri": "https://localhost:8080/"
        },
        "id": "BYEY95Vbzrs1",
        "outputId": "5517718c-6a49-4feb-d4eb-ef2840bd83e0"
      },
      "execution_count": null,
      "outputs": [
        {
          "output_type": "stream",
          "name": "stdout",
          "text": [
            "5050\n"
          ]
        }
      ]
    },
    {
      "cell_type": "code",
      "source": [
        "hap = 0\n",
        "for i in range(1001,2001,2):\n",
        "  hap = hap + i\n",
        "print(hap)"
      ],
      "metadata": {
        "colab": {
          "base_uri": "https://localhost:8080/"
        },
        "id": "-oOficfrz9Ih",
        "outputId": "6fddc67b-21dd-4b64-b4fa-694ab093ff81"
      },
      "execution_count": null,
      "outputs": [
        {
          "output_type": "stream",
          "name": "stdout",
          "text": [
            "750000\n"
          ]
        }
      ]
    },
    {
      "cell_type": "code",
      "source": [
        "i = 0\n",
        "for i in range(5):\n",
        "  print(\"난생처음\")"
      ],
      "metadata": {
        "colab": {
          "base_uri": "https://localhost:8080/"
        },
        "id": "Mgp_vG5H0M62",
        "outputId": "3f42e637-1d4d-4fdf-c4c2-b83d25ba3d76"
      },
      "execution_count": null,
      "outputs": [
        {
          "output_type": "stream",
          "name": "stdout",
          "text": [
            "난생처음\n",
            "난생처음\n",
            "난생처음\n",
            "난생처음\n",
            "난생처음\n"
          ]
        }
      ]
    },
    {
      "cell_type": "code",
      "source": [
        "i = 0\n",
        "while i < 5:\n",
        "  print(\"난생처음\")\n",
        "  i += 1"
      ],
      "metadata": {
        "colab": {
          "base_uri": "https://localhost:8080/"
        },
        "id": "UcOmEozt0R5r",
        "outputId": "a1b6917d-c2fa-4198-b050-25d476e86b58"
      },
      "execution_count": null,
      "outputs": [
        {
          "output_type": "stream",
          "name": "stdout",
          "text": [
            "난생처음\n",
            "난생처음\n",
            "난생처음\n",
            "난생처음\n",
            "난생처음\n"
          ]
        }
      ]
    },
    {
      "cell_type": "code",
      "source": [
        "num1, num2, num3, num4 = 0, 0, 0, 0\n",
        "hap = 0\n",
        "\n",
        "num1 = int(input(\"숫자 :\"))\n",
        "num2 = int(input(\"숫자 :\"))\n",
        "num3 = int(input(\"숫자 :\"))\n",
        "num4 = int(input(\"숫자 :\"))\n",
        "\n",
        "hap = num1 + num2 + num3 + num4\n",
        "\n",
        "print(\"합계 ==> \",hap)"
      ],
      "metadata": {
        "colab": {
          "base_uri": "https://localhost:8080/"
        },
        "id": "KKLHmGAM0b3c",
        "outputId": "857745c8-9d62-4928-c77b-be495fa7c60c"
      },
      "execution_count": null,
      "outputs": [
        {
          "output_type": "stream",
          "name": "stdout",
          "text": [
            "숫자 :10\n",
            "숫자 :20\n",
            "숫자 :30\n",
            "숫자 :40\n",
            "합계 ==>  100\n"
          ]
        }
      ]
    },
    {
      "cell_type": "code",
      "source": [
        "numList = [0,0,0,0]\n",
        "hap = 0\n",
        "\n",
        "numList[0] = int(input(\"숫자 :\"))\n",
        "numList[1] = int(input(\"숫자 :\"))\n",
        "numList[2] = int(input(\"숫자 :\"))\n",
        "numList[3] = int(input(\"숫자 :\"))\n",
        "\n",
        "hap = numList[0] + numList[1] + numList[2] + numList[3]\n",
        "\n",
        "print(\"합계 ==> \",hap)"
      ],
      "metadata": {
        "colab": {
          "base_uri": "https://localhost:8080/"
        },
        "id": "wOruFrmw061Q",
        "outputId": "64214d62-2c69-4cd1-a418-8a52b0951f9d"
      },
      "execution_count": null,
      "outputs": [
        {
          "output_type": "stream",
          "name": "stdout",
          "text": [
            "숫자 :10\n",
            "숫자 :20\n",
            "숫자 :30\n",
            "숫자 :40\n",
            "합계 ==>  100\n"
          ]
        }
      ]
    },
    {
      "cell_type": "code",
      "source": [
        "numList =[]\n",
        "for i in range(0,4):\n",
        "  numList.append(0)\n",
        "\n",
        "hap = 0\n",
        "\n",
        "for i in range(0, 4):\n",
        "  numList[i] = int(input('숫자 :'))\n",
        "\n",
        "hap = numList[0] + numList[1] + numList[2] + numList[3]\n",
        "print(\"합계 ==>\",hap)"
      ],
      "metadata": {
        "colab": {
          "base_uri": "https://localhost:8080/"
        },
        "id": "1UdeOLCh1Y2F",
        "outputId": "510bdee9-d4f7-4e3d-90e4-7777da4c5852"
      },
      "execution_count": null,
      "outputs": [
        {
          "output_type": "stream",
          "name": "stdout",
          "text": [
            "숫자 :10\n",
            "숫자 :10\n",
            "숫자 :20\n",
            "숫자 :30\n",
            "합계 ==> 70\n"
          ]
        }
      ]
    },
    {
      "cell_type": "code",
      "source": [
        "numList = [10,20,30]\n",
        "numList[1] =  200\n",
        "print(numList)"
      ],
      "metadata": {
        "colab": {
          "base_uri": "https://localhost:8080/"
        },
        "id": "jxzazWKa2Eee",
        "outputId": "5a3ad805-18f4-4abd-e5cf-3495e2e6a6e0"
      },
      "execution_count": null,
      "outputs": [
        {
          "output_type": "stream",
          "name": "stdout",
          "text": [
            "[10, 200, 30]\n"
          ]
        }
      ]
    },
    {
      "cell_type": "code",
      "source": [
        "numList = [10,20,30]\n",
        "numList.insert(1,123)\n",
        "print(numList)"
      ],
      "metadata": {
        "colab": {
          "base_uri": "https://localhost:8080/"
        },
        "id": "e256-9kf2YTj",
        "outputId": "a88528f8-9c31-443d-e2fb-36e4b3c3f83a"
      },
      "execution_count": null,
      "outputs": [
        {
          "output_type": "stream",
          "name": "stdout",
          "text": [
            "[10, 123, 20, 30]\n"
          ]
        }
      ]
    },
    {
      "cell_type": "code",
      "source": [
        "numList = [10,20,30]\n",
        "del(numList[1])\n",
        "print(numList)"
      ],
      "metadata": {
        "colab": {
          "base_uri": "https://localhost:8080/"
        },
        "id": "8oBIKngM4Mki",
        "outputId": "5f956aba-8fc9-4251-aded-dd39aef67c97"
      },
      "execution_count": null,
      "outputs": [
        {
          "output_type": "stream",
          "name": "stdout",
          "text": [
            "[10, 30]\n"
          ]
        }
      ]
    },
    {
      "cell_type": "code",
      "source": [
        "numList = [10,20,30]\n",
        "numList.remove(10)\n",
        "print(numList)"
      ],
      "metadata": {
        "colab": {
          "base_uri": "https://localhost:8080/"
        },
        "id": "uUo6M7Ht4aBq",
        "outputId": "fe7c76fe-5c5b-4b8e-81a0-8354cc46db9e"
      },
      "execution_count": null,
      "outputs": [
        {
          "output_type": "stream",
          "name": "stdout",
          "text": [
            "[20, 30]\n"
          ]
        }
      ]
    },
    {
      "cell_type": "code",
      "source": [
        "numList = [10,20,30,10,10]\n",
        "numList.remove(10)\n",
        "print(numList)"
      ],
      "metadata": {
        "colab": {
          "base_uri": "https://localhost:8080/"
        },
        "id": "g74VvFNU4d2X",
        "outputId": "524f5316-ce2b-4bf4-df70-2debf3ee79d3"
      },
      "execution_count": null,
      "outputs": [
        {
          "output_type": "stream",
          "name": "stdout",
          "text": [
            "[20, 30, 10, 10]\n"
          ]
        }
      ]
    },
    {
      "cell_type": "code",
      "source": [
        "numList = [10,20,30]\n",
        "numList.pop()"
      ],
      "metadata": {
        "colab": {
          "base_uri": "https://localhost:8080/"
        },
        "id": "IAhqt06U4vgr",
        "outputId": "00f2057d-6eae-41f2-d7c1-a2b92c063c29"
      },
      "execution_count": null,
      "outputs": [
        {
          "output_type": "execute_result",
          "data": {
            "text/plain": [
              "30"
            ]
          },
          "metadata": {},
          "execution_count": 26
        }
      ]
    },
    {
      "cell_type": "code",
      "source": [
        "print(numList)"
      ],
      "metadata": {
        "colab": {
          "base_uri": "https://localhost:8080/"
        },
        "id": "ITYsROn542rc",
        "outputId": "707a168b-de65-4c1c-cf9e-c44baa0579c4"
      },
      "execution_count": null,
      "outputs": [
        {
          "output_type": "stream",
          "name": "stdout",
          "text": [
            "[10, 20]\n"
          ]
        }
      ]
    },
    {
      "cell_type": "code",
      "source": [
        "numList = [10,20,30,10,10]\n",
        "numList.count(10)\n"
      ],
      "metadata": {
        "colab": {
          "base_uri": "https://localhost:8080/"
        },
        "id": "J6ImVBCK44Qs",
        "outputId": "ebcfec66-c7e1-4610-a034-cf7429a1cadd"
      },
      "execution_count": null,
      "outputs": [
        {
          "output_type": "execute_result",
          "data": {
            "text/plain": [
              "3"
            ]
          },
          "metadata": {},
          "execution_count": 30
        }
      ]
    },
    {
      "cell_type": "code",
      "source": [
        "numList = [20,10,40,50,30]\n",
        "numList.sort()\n",
        "print(numList)"
      ],
      "metadata": {
        "colab": {
          "base_uri": "https://localhost:8080/"
        },
        "id": "RrNluF365Bm2",
        "outputId": "4d94f379-d17a-4260-c792-692f37aee6d8"
      },
      "execution_count": null,
      "outputs": [
        {
          "output_type": "stream",
          "name": "stdout",
          "text": [
            "[10, 20, 30, 40, 50]\n"
          ]
        }
      ]
    },
    {
      "cell_type": "code",
      "source": [
        "numList = [20,10,40,50,30]\n",
        "numList.sort(reverse= True)\n",
        "print(numList)"
      ],
      "metadata": {
        "colab": {
          "base_uri": "https://localhost:8080/"
        },
        "id": "KsIXfrhC5Ntj",
        "outputId": "85b2224e-f768-42bd-b6f1-c78f06a18780"
      },
      "execution_count": null,
      "outputs": [
        {
          "output_type": "stream",
          "name": "stdout",
          "text": [
            "[50, 40, 30, 20, 10]\n"
          ]
        }
      ]
    },
    {
      "cell_type": "code",
      "source": [
        "numList = [20,10,40,50,30]\n",
        "numList.reverse()\n",
        "print(numList)"
      ],
      "metadata": {
        "colab": {
          "base_uri": "https://localhost:8080/"
        },
        "id": "tDuAozHY5WJF",
        "outputId": "af5f6515-b2fd-43e6-da37-e943a01ebb6a"
      },
      "execution_count": null,
      "outputs": [
        {
          "output_type": "stream",
          "name": "stdout",
          "text": [
            "[30, 50, 40, 10, 20]\n"
          ]
        }
      ]
    },
    {
      "cell_type": "code",
      "source": [
        "numList = [10,20,30]\n",
        "numList2 = numList.copy()\n",
        "print(numList2)"
      ],
      "metadata": {
        "colab": {
          "base_uri": "https://localhost:8080/"
        },
        "id": "KKO3BrGW5imI",
        "outputId": "930acf9f-d162-494c-e388-1b24d9f9e8e1"
      },
      "execution_count": null,
      "outputs": [
        {
          "output_type": "stream",
          "name": "stdout",
          "text": [
            "[10, 20, 30]\n"
          ]
        }
      ]
    },
    {
      "cell_type": "code",
      "source": [
        "numList2 = [[1,2,3,4],\n",
        "            [5,6,7,8],\n",
        "            [9,10,11,12]]\n",
        "\n",
        "for i in range(0,3):\n",
        "  for k in range(0,4):\n",
        "    print(\" \", numList2[i][k], end='')\n",
        "print(\" \")"
      ],
      "metadata": {
        "colab": {
          "base_uri": "https://localhost:8080/"
        },
        "id": "P6AvNdNq5q_9",
        "outputId": "e8e20aa9-d59d-497d-ccf3-dadde37f8739"
      },
      "execution_count": null,
      "outputs": [
        {
          "output_type": "stream",
          "name": "stdout",
          "text": [
            "  1  2  3  4  5  6  7  8  9  10  11  12 \n"
          ]
        }
      ]
    },
    {
      "cell_type": "code",
      "source": [
        "print(\"홍길동 선수 경기 끝났습니다~~ 짝짝짝\")\n",
        "score = []\n",
        "for i in range(5):\n",
        "  jumsu = int(input(\"평가 점수 ==> \"))\n",
        "  score.append(jumsu)\n",
        "\n",
        "hap = 0\n",
        "for i in range(5):\n",
        "  hap += score[i]\n",
        "\n",
        "avg = hap / 5\n",
        "print(\"심사위원 평균 점수 :\", avg)"
      ],
      "metadata": {
        "colab": {
          "base_uri": "https://localhost:8080/"
        },
        "id": "JF9OP5wG6OUI",
        "outputId": "2cc52b9f-4378-472d-a02c-10c1bd599704"
      },
      "execution_count": null,
      "outputs": [
        {
          "output_type": "stream",
          "name": "stdout",
          "text": [
            "홍길동 선수 경기 끝났습니다~~ 짝짝짝\n",
            "평가 점수 ==> 1\n",
            "평가 점수 ==> 2\n",
            "평가 점수 ==> 3\n",
            "평가 점수 ==> 4\n",
            "평가 점수 ==> 5\n",
            "심사위원 평균 점수 : 3.0\n"
          ]
        }
      ]
    },
    {
      "cell_type": "code",
      "source": [
        "import random\n",
        "\n",
        "toss = []\n",
        "for i in range(100000):\n",
        "  comA = random.choice([\"가위\",\"바위\",\"보\"])\n",
        "  comB = random.choice([\"가위\",\"바위\",\"보\"])\n",
        "\n",
        "  if comA == \"가위\":\n",
        "    if comB == \"가위\":\n",
        "      toss.append(\"없음\")\n",
        "    elif comB == \"바위\":\n",
        "      toss.append(\"B\")\n",
        "    elif comB == \"보\":\n",
        "      toss.append(\"A\")\n",
        "  elif comA == \"바위\":\n",
        "    if comB == \"가위\":\n",
        "      toss.append(\"A\")\n",
        "    elif comB == \"바위\":\n",
        "      toss.append(\"없음\")\n",
        "    elif comB == \"보\":\n",
        "      toss.append(\"B\")\n",
        "  elif comA == \"보\":\n",
        "    if comB == \"가위\":\n",
        "      toss.append(\"B\")\n",
        "    elif comB == \"바위\":\n",
        "      toss.append(\"A\")\n",
        "    elif comB == \"보\":\n",
        "      toss.append(\"없음\")\n",
        "\n",
        "awin = toss.count(\"A\")\n",
        "bwin = toss.count(\"B\")\n",
        "noWin = toss.count(\"없음\")\n",
        "\n",
        "print(\"10000번 중 컴퓨터 A의 승리 : \",awin)\n",
        "print(\"10000번 중 컴퓨터 B의 승리 : \",bwin)\n",
        "print(\"10000번 중 비긴 경기: \",noWin)"
      ],
      "metadata": {
        "colab": {
          "base_uri": "https://localhost:8080/"
        },
        "id": "1VqQ1k2X6seW",
        "outputId": "337075f3-7dd2-4ba8-a48d-7d8ca57a6e76"
      },
      "execution_count": null,
      "outputs": [
        {
          "output_type": "stream",
          "name": "stdout",
          "text": [
            "10000번 중 컴퓨터 A의 승리 :  33496\n",
            "10000번 중 컴퓨터 B의 승리 :  33159\n",
            "10000번 중 비긴 경기:  33345\n"
          ]
        }
      ]
    },
    {
      "cell_type": "code",
      "source": [
        "singer = {}\n",
        "singer['이름'] = \"트와이스\"\n",
        "singer[\"구성원수\"] = 9\n",
        "singer[\"데뷰\"] = '서바이별 식스틴'\n",
        "singer['대표곡']= \"CRY FOR ME\"\n",
        "\n",
        "for k in singer.keys():\n",
        "  print(k, \"==>\", singer[k])"
      ],
      "metadata": {
        "colab": {
          "base_uri": "https://localhost:8080/"
        },
        "id": "4QXcoQM48Pxt",
        "outputId": "e5d083e7-fdc0-4943-d7bd-4bc8f1bfeba5"
      },
      "execution_count": null,
      "outputs": [
        {
          "output_type": "stream",
          "name": "stdout",
          "text": [
            "이름 ==> 트와이스\n",
            "구성원수 ==> 9\n",
            "데뷰 ==> 서바이별 식스틴\n",
            "대표곡 ==> CRY FOR ME\n"
          ]
        }
      ]
    },
    {
      "cell_type": "code",
      "source": [
        "store = {}\n",
        "print(\"*** 물품과 재고량 입력 ***\")\n",
        "while True :\n",
        "  item = input(\"입력 물품 ==> \")\n",
        "  if item == 'z':\n",
        "    break\n",
        "  count =  int(input(\"재고량 ==>\"))\n",
        "  store[item] = count\n",
        "\n",
        "print(\"*** 물품의 재고량 확인 ***\")\n",
        "while True :\n",
        "  item = input(\"찾을 물품 ==>\")\n",
        "  if item == \"\":\n",
        "    break\n",
        "  if item in store :\n",
        "    print(store[item],\"개 남았어요\")\n",
        "  else :\n",
        "    print(\"그 물품은 없어요\")"
      ],
      "metadata": {
        "colab": {
          "base_uri": "https://localhost:8080/"
        },
        "id": "_vnKvYlQ_YBx",
        "outputId": "52118bb1-fe48-4734-e30f-57eca76c2916"
      },
      "execution_count": null,
      "outputs": [
        {
          "name": "stdout",
          "output_type": "stream",
          "text": [
            "*** 물품과 재고량 입력 ***\n",
            "입력 물품 ==> 도시락\n",
            "재고량 ==>14\n",
            "입력 물품 ==> 우유\n",
            "재고량 ==>3\n",
            "입력 물품 ==> 김밥\n",
            "재고량 ==>19\n",
            "입력 물품 ==> z\n",
            "*** 물품의 재고량 확인 ***\n",
            "찾을 물품 ==>우유\n",
            "3 개 남았어요\n",
            "찾을 물품 ==>도시락\n",
            "14 개 남았어요\n",
            "찾을 물품 ==>김밥\n",
            "19 개 남았어요\n",
            "찾을 물품 ==>계란\n",
            "그 물품은 없어요\n",
            "찾을 물품 ==>z\n",
            "그 물품은 없어요\n",
            "찾을 물품 ==>\n"
          ]
        }
      ]
    },
    {
      "cell_type": "code",
      "source": [
        "print(\"A님. 두 숫자를 입력하세요.\")\n",
        "num1 = int(input(\"정수1 ==> \"))\n",
        "num2 = int(input(\"정수2 ==> \"))\n",
        "hap = num1 + num2\n",
        "print(\"결과 :\", hap)\n",
        "\n",
        "print(\"B님. 두 숫자를 입력하세요\")\n",
        "num1 = int(input(\"정수1 ==> \"))\n",
        "num2 = int(input(\"정수2 ==> \"))\n",
        "hap = num1 + num2\n",
        "print(\"결과 :\", hap)\n",
        "\n",
        "print(\"C님. 두 숫자를 입력하세요\")\n",
        "num1 = int(input(\"정수1 ==> \"))\n",
        "num2 = int(input(\"정수2 ==> \"))\n",
        "hap = num1 + num2\n",
        "print(\"결과 :\", hap)\n"
      ],
      "metadata": {
        "colab": {
          "base_uri": "https://localhost:8080/"
        },
        "id": "kGUKHSPL_519",
        "outputId": "4700374d-13da-44d1-abda-1a7078d81299"
      },
      "execution_count": null,
      "outputs": [
        {
          "output_type": "stream",
          "name": "stdout",
          "text": [
            "A님. 두 숫자를 입력하세요.\n",
            "정수1 ==> 2\n",
            "정수2 ==> 3\n",
            "결과 : 5\n",
            "B님. 두 숫자를 입력하세요\n",
            "정수1 ==> 4\n",
            "정수2 ==> 5\n",
            "결과 : 9\n",
            "C님. 두 숫자를 입력하세요\n",
            "정수1 ==> 6\n",
            "정수2 ==> 7\n",
            "결과 : 13\n"
          ]
        }
      ]
    },
    {
      "cell_type": "code",
      "source": [
        "def hapFunc():\n",
        "  num1 = int(input(\"정수1 ==> \"))\n",
        "  num2 = int(input(\"정수2 ==> \"))\n",
        "  return num1 + num2\n",
        "\n",
        "print(\"A님. 두 숫자를 입력하세요.\")\n",
        "hap = hapFunc()\n",
        "print(\"결과 :\", hap)\n",
        "\n",
        "print(\"B님. 두 숫자를 입력하세요.\")\n",
        "hap = hapFunc()\n",
        "print(\"결과 :\", hap)\n",
        "\n",
        "print(\"C님. 두 숫자를 입력하세요.\")\n",
        "hap = hapFunc()\n",
        "print(\"결과 :\", hap)"
      ],
      "metadata": {
        "colab": {
          "base_uri": "https://localhost:8080/"
        },
        "id": "XWyIW7LvB7ev",
        "outputId": "d7722e28-5d0b-44ac-c0de-f6d0341dd991"
      },
      "execution_count": null,
      "outputs": [
        {
          "output_type": "stream",
          "name": "stdout",
          "text": [
            "A님. 두 숫자를 입력하세요.\n",
            "정수1 ==> 1\n",
            "정수2 ==> 2\n",
            "결과 : 3\n",
            "B님. 두 숫자를 입력하세요.\n",
            "정수1 ==> 3\n",
            "정수2 ==> 4\n",
            "결과 : 7\n",
            "C님. 두 숫자를 입력하세요.\n",
            "정수1 ==> 5\n",
            "정수2 ==> 6\n",
            "결과 : 11\n"
          ]
        }
      ]
    },
    {
      "cell_type": "code",
      "source": [
        "def plus (v1, v2):\n",
        "  result = 0\n",
        "  result = v1 + v2\n",
        "  return result\n",
        "\n",
        "hap = 0\n",
        "\n",
        "hap = plus(100,200)\n",
        "print(\"100과 200의 plus() 함수 결과는 \", hap)\n"
      ],
      "metadata": {
        "colab": {
          "base_uri": "https://localhost:8080/"
        },
        "id": "53KEta_FCjwP",
        "outputId": "12293b32-0681-4426-fc72-5ad384fd0a0c"
      },
      "execution_count": null,
      "outputs": [
        {
          "output_type": "stream",
          "name": "stdout",
          "text": [
            "100과 200의 plus() 함수 결과는  300\n"
          ]
        }
      ]
    },
    {
      "cell_type": "code",
      "source": [
        "def calc(v1, v2, op):\n",
        "  result = 0\n",
        "  if op =='+':\n",
        "    resutl = v1 + v2\n",
        "  elif op == '-':\n",
        "    result = v1 - v2\n",
        "  elif op == '/':\n",
        "    result = v1 / v2\n",
        "\n",
        "  return result\n",
        "\n",
        "res = 0\n",
        "var1, var2, oper = 0, 0, \"\"\n",
        "\n",
        "oper = input(\"계산 입력 (+, -, *, /): \")\n",
        "var1 = int(input(\"첫 번째 입력: \"))\n",
        "var2 = int(input(\"두 번째 입력: \"))\n",
        "res = calc(var1, var2,  oper)\n",
        "\n",
        "print(\"## 계산기 : \", var1, oper, var2, \"=\", res)"
      ],
      "metadata": {
        "colab": {
          "base_uri": "https://localhost:8080/"
        },
        "id": "URVH5Y1aDNl0",
        "outputId": "08603fd8-1f0c-4357-df9c-ec7c1826f65a"
      },
      "execution_count": null,
      "outputs": [
        {
          "output_type": "stream",
          "name": "stdout",
          "text": [
            "계산 입력 (+, -, *, /): +\n",
            "첫 번째 입력: 2\n",
            "두 번째 입력: 3\n",
            "## 계산기 :  2 + 3 = 0\n"
          ]
        }
      ]
    },
    {
      "cell_type": "code",
      "source": [
        "def para2_func(v1, v2):\n",
        "  result = 0\n",
        "  result = v1 + v2\n",
        "  return result\n",
        "\n",
        "def para3_func(v1, v2, v3):\n",
        "  result = 0\n",
        "  result = v1 + v2 + v3\n",
        "  return result\n",
        "\n",
        "hap = 0\n",
        "\n",
        "hap = para2_func(10,20)\n",
        "print(\"매개변수 2개 함수 호출 결과 ==> \", hap)\n",
        "hap = para3_func(10,20,30)\n",
        "print(\"매개변수 3개 함수 호출 결과 ==> \", hap)"
      ],
      "metadata": {
        "colab": {
          "base_uri": "https://localhost:8080/"
        },
        "id": "aux4CvBfFXGb",
        "outputId": "c89b39bd-73db-42aa-9a86-e772a48208f6"
      },
      "execution_count": null,
      "outputs": [
        {
          "output_type": "stream",
          "name": "stdout",
          "text": [
            "매개변수 2개 함수 호출 결과 ==>  30\n",
            "매개변수 3개 함수 호출 결과 ==>  60\n"
          ]
        }
      ]
    },
    {
      "cell_type": "code",
      "source": [
        "def para_func(v1, v2, v3=0):\n",
        "  result = 0\n",
        "  result = v1 + v2 + v3\n",
        "  return result\n",
        "\n",
        "hap = 0\n",
        "\n",
        "hap = para_func(10,20)\n",
        "print(\"매개변수 2개 함수 호출 결과 ==> \", hap)\n",
        "\n",
        "hap = para_func(10,20,30)\n",
        "print(\"매개변수 3개 함수 호출 결과 ==> \", hap)"
      ],
      "metadata": {
        "colab": {
          "base_uri": "https://localhost:8080/"
        },
        "id": "PVl7xjP3F0kz",
        "outputId": "ade99182-93f0-4f12-8df5-074b7a49b7ef"
      },
      "execution_count": null,
      "outputs": [
        {
          "output_type": "stream",
          "name": "stdout",
          "text": [
            "매개변수 2개 함수 호출 결과 ==>  30\n",
            "매개변수 3개 함수 호출 결과 ==>  60\n"
          ]
        }
      ]
    },
    {
      "cell_type": "code",
      "source": [
        "def func1():\n",
        "  print(\"반환값이 없는 함수 실행\")\n",
        "\n",
        "func1()"
      ],
      "metadata": {
        "colab": {
          "base_uri": "https://localhost:8080/"
        },
        "id": "oydQMKCWIYef",
        "outputId": "329b431b-cb4f-4f53-8edc-84c9b353c21c"
      },
      "execution_count": null,
      "outputs": [
        {
          "output_type": "stream",
          "name": "stdout",
          "text": [
            "반환값이 없는 함수 실행\n"
          ]
        }
      ]
    },
    {
      "cell_type": "code",
      "source": [
        "def func2():\n",
        "  result = 100\n",
        "  return result\n",
        "\n",
        "hap = 0\n",
        "\n",
        "hap = func2()\n",
        "print(\"func2()에서 돌려준 값 ==> \",hap)"
      ],
      "metadata": {
        "colab": {
          "base_uri": "https://localhost:8080/"
        },
        "id": "DHbEp-o6JYU9",
        "outputId": "d4a0e8ca-d98a-45e7-d268-675711906764"
      },
      "execution_count": null,
      "outputs": [
        {
          "output_type": "stream",
          "name": "stdout",
          "text": [
            "func2()에서 돌려준 값 ==>  100\n"
          ]
        }
      ]
    },
    {
      "cell_type": "code",
      "source": [
        "def func3():\n",
        "  result1 = 100\n",
        "  result2 = 200\n",
        "  return result1, result2\n",
        "\n",
        "hap1, hap2 = 0, 0\n",
        "\n",
        "hap1, hap2 = func3()\n",
        "print(\"func3()에서 돌려준 값 ==> \", hap1, hap2)"
      ],
      "metadata": {
        "colab": {
          "base_uri": "https://localhost:8080/"
        },
        "id": "Q9SeCpPdJpgP",
        "outputId": "501f1257-8b39-4b2a-ce7a-d0c3f4010794"
      },
      "execution_count": null,
      "outputs": [
        {
          "output_type": "stream",
          "name": "stdout",
          "text": [
            "func3()에서 돌려준 값 ==>  100 200\n"
          ]
        }
      ]
    },
    {
      "cell_type": "code",
      "source": [
        "def myfunc():\n",
        "  pass"
      ],
      "metadata": {
        "id": "EE5aHXSeJ3jG"
      },
      "execution_count": null,
      "outputs": []
    },
    {
      "cell_type": "code",
      "source": [
        "if True :\n",
        "  pass\n",
        "else:\n",
        "  print(\"거짓입니다. \")"
      ],
      "metadata": {
        "id": "tW1ET4KUKJeR"
      },
      "execution_count": null,
      "outputs": []
    },
    {
      "cell_type": "code",
      "source": [
        "def func1():\n",
        "  global a\n",
        "  a = 10\n",
        "  print(\"func1()에서 a의 값\", a)\n",
        "\n",
        "def func2():\n",
        "  print(\"func2()에서 a의 값\", a)\n",
        "\n",
        "a = 20\n",
        "\n",
        "func1()\n",
        "func2()"
      ],
      "metadata": {
        "colab": {
          "base_uri": "https://localhost:8080/"
        },
        "id": "qHX1BD-SKPyg",
        "outputId": "e4075907-aa48-4d8d-f1b5-c2367009c1c9"
      },
      "execution_count": null,
      "outputs": [
        {
          "output_type": "stream",
          "name": "stdout",
          "text": [
            "func1()에서 a의 값 10\n",
            "func2()에서 a의 값 10\n"
          ]
        }
      ]
    },
    {
      "cell_type": "code",
      "source": [
        "from datetime import datetime, timedelta\n",
        "def getCurrent():\n",
        "  curDate = datetime.now()\n",
        "  return curDate\n",
        "\n",
        "def getAfterDate(now, day):\n",
        "  retDate = now + timedelta(days = day)\n",
        "  return retDate\n",
        "\n",
        "nowDate, afterDate = None, None\n",
        "\n",
        "nowDate = getCurrent()\n",
        "print(\"현재 날짜와 시간 ==> \", nowDate)\n",
        "afterDate = getAfterDate(nowDate, 100)\n",
        "print(\"100일 후 날짜와 시간 ==> \",afterDate)"
      ],
      "metadata": {
        "colab": {
          "base_uri": "https://localhost:8080/"
        },
        "id": "d4cB1CBDKvWs",
        "outputId": "21a0711b-7df8-41db-ab0e-fab05633ee9a"
      },
      "execution_count": null,
      "outputs": [
        {
          "output_type": "stream",
          "name": "stdout",
          "text": [
            "현재 날짜와 시간 ==>  2023-06-11 06:39:25.508943\n",
            "100일 후 날짜와 시간 ==>  2023-09-19 06:39:25.508943\n"
          ]
        }
      ]
    },
    {
      "cell_type": "code",
      "source": [
        "def checkPassword(pwd):\n",
        "  if len(pwd) < 8:\n",
        "    return False\n",
        "\n",
        "  if pwd.isalnum():\n",
        "    return True\n",
        "  else:\n",
        "    return False\n",
        "\n",
        "password = \"\"\n",
        "\n",
        "password = input(\"새로운 비밀번호를 입력하세요 :\")\n",
        "\n",
        "if checkPassword(password):\n",
        "  print(\"Good~ 비밀번호가 올바르게 생성되었어요\")\n",
        "else :\n",
        "  print(\"오류! 비밀번호가 규칙에 맞지 않습니다. \")"
      ],
      "metadata": {
        "colab": {
          "base_uri": "https://localhost:8080/"
        },
        "id": "ulcSLI-5LNPb",
        "outputId": "eef2ad34-285c-4a65-aa52-33ab9fcd148b"
      },
      "execution_count": null,
      "outputs": [
        {
          "output_type": "stream",
          "name": "stdout",
          "text": [
            "새로운 비밀번호를 입력하세요 :12345678\n",
            "Good~ 비밀번호가 올바르게 생성되었어요\n"
          ]
        }
      ]
    },
    {
      "cell_type": "code",
      "source": [
        "inFile = None\n",
        "inStr = ''\n",
        "\n",
        "inFile = open(\"\", \"r\", encoding=\"UTF-8\")\n",
        "\n",
        "inStr = inFile.readline()\n",
        "print(inStr, end='')\n",
        "\n",
        "inStr = inFile.readline()\n",
        "print(inStr, end='')\n",
        "\n",
        "inStr = inFile.readline()\n",
        "print(inStr, end='')\n",
        "\n",
        "inFile. close()"
      ],
      "metadata": {
        "id": "9709VBsiMY3a"
      },
      "execution_count": null,
      "outputs": []
    },
    {
      "cell_type": "code",
      "source": [
        "inFile = None\n",
        "inStr = ''\n",
        "\n",
        "inFile = open(\"\", \"r\", encoding=\"UTF-8\")\n",
        "\n",
        "while True:\n",
        "  inStr = inFile.readline()\n",
        "  if inStr == \"\":\n",
        "    break\n",
        "  print(inStr, end='')\n",
        "\n",
        "\n",
        "inFile. close()"
      ],
      "metadata": {
        "id": "mYTW-nCROVNE"
      },
      "execution_count": null,
      "outputs": []
    },
    {
      "cell_type": "code",
      "source": [
        "import turtle\n",
        "turtle.shape('circle')\n",
        "turtle.shape()\n",
        "turtle.goto(100,100)\n",
        "turtle.xcor()\n",
        "turtle.ycor()\n",
        "\n",
        "myStr = \"FirstMyLife\"\n",
        "myStr.upper()\n",
        "myStr.count('i')"
      ],
      "metadata": {
        "id": "wBHzVZyWPKaw"
      },
      "execution_count": null,
      "outputs": []
    },
    {
      "cell_type": "code",
      "source": [
        "class Rabbit:\n",
        "  shape = \"\"\n",
        "  xPos = 0\n",
        "  yPos = 0\n",
        "\n",
        "  def goto(self, x,y):\n",
        "    self.xPos = x\n",
        "    self.yPos = y\n",
        "\n",
        "rabbit = None\n",
        "userX, userY = 0,0\n",
        "\n",
        "rabbit = Rabbit()\n",
        "\n",
        "rabbit.shape = \"토끼\"\n",
        "\n",
        "while True:\n",
        "  userX = int(input(\"토끼가 이동할 X좌표 ==> \"))\n",
        "  userY = int(input(\"토끼가 이동할 Y좌표 ==> \"))\n",
        "\n",
        "  rabbit.goto(userX, userY)\n",
        "\n",
        "  print(\"**토끼의 현재 위치는 (\",str(userX),\",\", str(userY),\" )\")"
      ],
      "metadata": {
        "id": "S8mF00oLPKfn",
        "colab": {
          "base_uri": "https://localhost:8080/",
          "height": 367
        },
        "outputId": "74bfbb13-c398-4f37-b774-e555549ad838"
      },
      "execution_count": null,
      "outputs": [
        {
          "name": "stdout",
          "output_type": "stream",
          "text": [
            "토끼가 이동할 X좌표 ==> 50\n",
            "토끼가 이동할 Y좌표 ==> 100\n",
            "**토끼의 현재 위치는 ( 50 , 100  )\n",
            "토끼가 이동할 X좌표 ==> 100\n",
            "토끼가 이동할 Y좌표 ==> -100\n",
            "**토끼의 현재 위치는 ( 100 , -100  )\n",
            "토끼가 이동할 X좌표 ==> \n"
          ]
        },
        {
          "output_type": "error",
          "ename": "ValueError",
          "evalue": "ignored",
          "traceback": [
            "\u001b[0;31m---------------------------------------------------------------------------\u001b[0m",
            "\u001b[0;31mValueError\u001b[0m                                Traceback (most recent call last)",
            "\u001b[0;32m<ipython-input-84-06262c1af06e>\u001b[0m in \u001b[0;36m<cell line: 17>\u001b[0;34m()\u001b[0m\n\u001b[1;32m     16\u001b[0m \u001b[0;34m\u001b[0m\u001b[0m\n\u001b[1;32m     17\u001b[0m \u001b[0;32mwhile\u001b[0m \u001b[0;32mTrue\u001b[0m\u001b[0;34m:\u001b[0m\u001b[0;34m\u001b[0m\u001b[0;34m\u001b[0m\u001b[0m\n\u001b[0;32m---> 18\u001b[0;31m   \u001b[0muserX\u001b[0m \u001b[0;34m=\u001b[0m \u001b[0mint\u001b[0m\u001b[0;34m(\u001b[0m\u001b[0minput\u001b[0m\u001b[0;34m(\u001b[0m\u001b[0;34m\"토끼가 이동할 X좌표 ==> \"\u001b[0m\u001b[0;34m)\u001b[0m\u001b[0;34m)\u001b[0m\u001b[0;34m\u001b[0m\u001b[0;34m\u001b[0m\u001b[0m\n\u001b[0m\u001b[1;32m     19\u001b[0m   \u001b[0muserY\u001b[0m \u001b[0;34m=\u001b[0m \u001b[0mint\u001b[0m\u001b[0;34m(\u001b[0m\u001b[0minput\u001b[0m\u001b[0;34m(\u001b[0m\u001b[0;34m\"토끼가 이동할 Y좌표 ==> \"\u001b[0m\u001b[0;34m)\u001b[0m\u001b[0;34m)\u001b[0m\u001b[0;34m\u001b[0m\u001b[0;34m\u001b[0m\u001b[0m\n\u001b[1;32m     20\u001b[0m \u001b[0;34m\u001b[0m\u001b[0m\n",
            "\u001b[0;31mValueError\u001b[0m: invalid literal for int() with base 10: ''"
          ]
        }
      ]
    },
    {
      "cell_type": "code",
      "source": [
        "# 생성자의 형태\n",
        "class Rabbit:\n",
        "  shape = \"\"\n",
        "  xPos = 0\n",
        "  yPos = 0\n",
        "\n",
        "  def __init__(self, value):\n",
        "    self.shape = value\n",
        "\n",
        "  def goto(self, x, y):\n",
        "    self.xPos = x\n",
        "    self.yPos = y\n",
        "\n",
        "rabbit1 = Rabbit('원')\n",
        "print('rabbit1의 모양:', rabbit1.shape)\n",
        "\n",
        "rabbit2 = Rabbit('삼각형')\n",
        "print('rabbit2의 모양:', rabbit2.shape)\n",
        "\n",
        "rabbit3 = Rabbit('토끼')\n",
        "print('rabbit3의 모양:', rabbit3.shape)"
      ],
      "metadata": {
        "id": "4diyQXmyPKkV",
        "colab": {
          "base_uri": "https://localhost:8080/"
        },
        "outputId": "511f6129-7e2d-4e07-eda6-c9033646641d"
      },
      "execution_count": null,
      "outputs": [
        {
          "output_type": "stream",
          "name": "stdout",
          "text": [
            "rabbit1의 모양: 원\n",
            "rabbit2의 모양: 삼각형\n",
            "rabbit3의 모양: 토끼\n"
          ]
        }
      ]
    },
    {
      "cell_type": "code",
      "source": [
        "# 소멸자\n",
        "class Rabbit:\n",
        "  shape = \"\"\n",
        "  def __del__(self):\n",
        "    print(\"이제\",  self.shape,\"는 자유에요~~\")\n",
        "\n",
        "rabbit = Rabbit()\n",
        "rabbit.shape = \"도비\"\n",
        "del(rabbit)"
      ],
      "metadata": {
        "id": "MG_2oq7EPKos",
        "colab": {
          "base_uri": "https://localhost:8080/"
        },
        "outputId": "1963f9db-033f-4dcd-d36f-29c58cde5a00"
      },
      "execution_count": null,
      "outputs": [
        {
          "output_type": "stream",
          "name": "stdout",
          "text": [
            "이제 도비 는 자유에요~~\n"
          ]
        }
      ]
    },
    {
      "cell_type": "code",
      "source": [
        "# 객체끼리 덧셈\n",
        "class Rabbit:\n",
        "  shape = \"\"\n",
        "  def __add__(self, other):\n",
        "    print(\"객체\",self.shape,\"와\", other.shape,\"가 친구가 되었습니다.\")\n",
        "\n",
        "rabbit1 = Rabbit()\n",
        "rabbit1.shape = \"엽기토끼\"\n",
        "rabbit2 = Rabbit()\n",
        "rabbit2.shape = \"도비\"\n",
        "\n",
        "rabbit1 + rabbit2"
      ],
      "metadata": {
        "colab": {
          "base_uri": "https://localhost:8080/"
        },
        "id": "KY8yrLhFqmSm",
        "outputId": "474598bb-e2b1-409a-de2f-731c559ad487"
      },
      "execution_count": null,
      "outputs": [
        {
          "output_type": "stream",
          "name": "stdout",
          "text": [
            "객체 엽기토끼 와 도비 가 친구가 되었습니다.\n"
          ]
        }
      ]
    },
    {
      "cell_type": "code",
      "source": [
        "class Line :\n",
        "  length = 0\n",
        "  def __init__(self, length):\n",
        "    self.length = length\n",
        "    print(self.length, '길이의 선이 생성되었습니다.')\n",
        "\n",
        "  def __del__(self):\n",
        "    print(self.length, '길이의 선이 제거되었습니다.')\n",
        "\n",
        "  def __add__(self, other):\n",
        "    return self.length + other.length\n",
        "\n",
        "  def __lt__(self, other):\n",
        "    return self.length < other.length\n",
        "\n",
        "  def __eq__(self, other):\n",
        "    return self.length == other.length\n",
        "\n",
        "line1 = Line(10)\n",
        "line2 = Line(5)\n",
        "\n",
        "print('두 선의 합 :', line1 + line2)\n",
        "\n",
        "if line1 < line2 :\n",
        "  print('선2가 더 깁니다.')\n",
        "  del(line1)\n",
        "elif line1 ==line2 :\n",
        "  print('두 선의 길이가 같습니다. ')\n",
        "else :\n",
        "  print('선1이 더 깁니다.')\n",
        "  del(line2)"
      ],
      "metadata": {
        "id": "esavcuVwPKxU",
        "colab": {
          "base_uri": "https://localhost:8080/"
        },
        "outputId": "15fefd16-283f-4bb4-f34e-15cb24d9d0af"
      },
      "execution_count": null,
      "outputs": [
        {
          "output_type": "stream",
          "name": "stdout",
          "text": [
            "10 길이의 선이 생성되었습니다.\n",
            "5 길이의 선이 생성되었습니다.\n",
            "두 선의 합 : 15\n",
            "선1이 더 깁니다.\n",
            "5 길이의 선이 제거되었습니다.\n"
          ]
        }
      ]
    },
    {
      "cell_type": "code",
      "source": [
        "class Rabbit :\n",
        "  shape = \"\"\n",
        "  xPos = 0\n",
        "  yPos = 0\n",
        "  def goto(self, x, y):\n",
        "    self.xPos = x\n",
        "    self.yPos = y\n",
        "\n",
        "class HouseRabbit(Rabbit):\n",
        "  owner = \"\"\n",
        "  def eatFood():\n",
        "    print(\"집토끼가 모이를 먹습니다.\")\n",
        "\n",
        "class MOuntainRabbit(Rabbit):\n",
        "  mountain = \"\"\n",
        "  def eatwildglass():\n",
        "    print(\"산토끼가 들풀을 먹습니다.\")"
      ],
      "metadata": {
        "id": "OZkDU-LoPK2Y"
      },
      "execution_count": null,
      "outputs": []
    },
    {
      "cell_type": "code",
      "source": [
        "myList = [100,200, 300,400,500]\n",
        "\n",
        "hap = 0\n",
        "for i in range(0, 5):\n",
        "  hap += myList[i]\n",
        "\n",
        "print(hap)"
      ],
      "metadata": {
        "colab": {
          "base_uri": "https://localhost:8080/"
        },
        "id": "wBrJdAd8u8eg",
        "outputId": "28990f64-a721-4d53-834a-369d9e375d92"
      },
      "execution_count": null,
      "outputs": [
        {
          "output_type": "stream",
          "name": "stdout",
          "text": [
            "1500\n"
          ]
        }
      ]
    },
    {
      "cell_type": "code",
      "source": [
        "myList = [100,200,300,400,500]\n",
        "\n",
        "print(myList[4])\n",
        "print(myList[-1])"
      ],
      "metadata": {
        "colab": {
          "base_uri": "https://localhost:8080/"
        },
        "id": "05DsonuUxP_F",
        "outputId": "03330c39-5abc-4839-d930-6632874c4ec8"
      },
      "execution_count": null,
      "outputs": [
        {
          "output_type": "stream",
          "name": "stdout",
          "text": [
            "500\n",
            "500\n"
          ]
        }
      ]
    },
    {
      "cell_type": "code",
      "source": [
        "myTup = (200,100,500,300,400)\n",
        "\n",
        "myTup\n"
      ],
      "metadata": {
        "id": "9qQvey3wyFVR"
      },
      "execution_count": null,
      "outputs": []
    },
    {
      "cell_type": "code",
      "source": [
        "var1 = float(input(\"첫 번째 입력: \"))\n",
        "var2 = float(input(\"두 번째 입력: \"))\n",
        "\n",
        "print('%.1f + %.1f = %.1f'%(var1, var2, var1+var2))\n",
        "print('%.1f - %.1f = %.1f'%(var1, var2, var1-var2))\n",
        "print('%.1f * %.1f = %.1f'%(var1, var2, var1*var2))\n",
        "print('%.1f / %.1f = %f'%(var1, var2, var1/var2))\n"
      ],
      "metadata": {
        "colab": {
          "base_uri": "https://localhost:8080/"
        },
        "id": "gWIHISuBMTGp",
        "outputId": "19d2cdac-9999-4368-d5a3-195b3e384f61"
      },
      "execution_count": null,
      "outputs": [
        {
          "output_type": "stream",
          "name": "stdout",
          "text": [
            "첫 번째 입력: 3\n",
            "두 번째 입력: 7\n",
            "3.0 + 7.0 = 10.0\n",
            "3.0 - 7.0 = -4.0\n",
            "3.0 * 7.0 = 21.0\n",
            "3.0 / 7.0 = 0.428571\n"
          ]
        }
      ]
    },
    {
      "cell_type": "code",
      "source": [
        "menu1 = [input().split()]\n",
        "menu2 = [input().split()]\n",
        "menu3 = [input().split()]\n",
        "\n",
        "b = int(input(\"메뉴를 선택하세요. \"))\n",
        "\n",
        "if b ==1:\n",
        "  print(menu1(1),\"을 선택하셨습니다.\")\n",
        "elif b ==2:\n",
        "  print(menu2(1),\"을 선택하셨습니다.\")\n",
        "elif b ==3:\n",
        "  print(menu3(1),\"을 선택하셨습니다.\")"
      ],
      "metadata": {
        "id": "3EuihUgZMUxI",
        "colab": {
          "base_uri": "https://localhost:8080/",
          "height": 314
        },
        "outputId": "10709642-8223-49b5-cc3f-6d3011375bde"
      },
      "execution_count": null,
      "outputs": [
        {
          "name": "stdout",
          "output_type": "stream",
          "text": [
            "1. 삽입\n",
            "2. 수정\n",
            "3. 삭제\n",
            "메뉴를 선택하세요. 2\n"
          ]
        },
        {
          "output_type": "error",
          "ename": "TypeError",
          "evalue": "ignored",
          "traceback": [
            "\u001b[0;31m---------------------------------------------------------------------------\u001b[0m",
            "\u001b[0;31mTypeError\u001b[0m                                 Traceback (most recent call last)",
            "\u001b[0;32m<ipython-input-9-d6da6de6b120>\u001b[0m in \u001b[0;36m<cell line: 7>\u001b[0;34m()\u001b[0m\n\u001b[1;32m      8\u001b[0m   \u001b[0mprint\u001b[0m\u001b[0;34m(\u001b[0m\u001b[0mmenu1\u001b[0m\u001b[0;34m(\u001b[0m\u001b[0;36m1\u001b[0m\u001b[0;34m)\u001b[0m\u001b[0;34m,\u001b[0m\u001b[0;34m\"을 선택하셨습니다.\"\u001b[0m\u001b[0;34m)\u001b[0m\u001b[0;34m\u001b[0m\u001b[0;34m\u001b[0m\u001b[0m\n\u001b[1;32m      9\u001b[0m \u001b[0;32melif\u001b[0m \u001b[0mb\u001b[0m \u001b[0;34m==\u001b[0m\u001b[0;36m2\u001b[0m\u001b[0;34m:\u001b[0m\u001b[0;34m\u001b[0m\u001b[0;34m\u001b[0m\u001b[0m\n\u001b[0;32m---> 10\u001b[0;31m   \u001b[0mprint\u001b[0m\u001b[0;34m(\u001b[0m\u001b[0mmenu2\u001b[0m\u001b[0;34m(\u001b[0m\u001b[0;36m1\u001b[0m\u001b[0;34m)\u001b[0m\u001b[0;34m,\u001b[0m\u001b[0;34m\"을 선택하셨습니다.\"\u001b[0m\u001b[0;34m)\u001b[0m\u001b[0;34m\u001b[0m\u001b[0;34m\u001b[0m\u001b[0m\n\u001b[0m\u001b[1;32m     11\u001b[0m \u001b[0;32melif\u001b[0m \u001b[0mb\u001b[0m \u001b[0;34m==\u001b[0m\u001b[0;36m3\u001b[0m\u001b[0;34m:\u001b[0m\u001b[0;34m\u001b[0m\u001b[0;34m\u001b[0m\u001b[0m\n\u001b[1;32m     12\u001b[0m   \u001b[0mprint\u001b[0m\u001b[0;34m(\u001b[0m\u001b[0mmenu3\u001b[0m\u001b[0;34m(\u001b[0m\u001b[0;36m1\u001b[0m\u001b[0;34m)\u001b[0m\u001b[0;34m,\u001b[0m\u001b[0;34m\"을 선택하셨습니다.\"\u001b[0m\u001b[0;34m)\u001b[0m\u001b[0;34m\u001b[0m\u001b[0;34m\u001b[0m\u001b[0m\n",
            "\u001b[0;31mTypeError\u001b[0m: 'list' object is not callable"
          ]
        }
      ]
    },
    {
      "cell_type": "code",
      "source": [
        "year = int(input(\"연도를 입력 ==> \"))\n",
        "\n",
        "if year%4 == 0 :\n",
        "  if year%100 != 0 and year%400 == 0 :\n",
        "      print(\"윤년 입니다.\")\n",
        "  elif year%100 == 0 and year%400 != 0 :\n",
        "      print(\"평년 입니다.\")\n",
        "  else :\n",
        "    print(\"윤년 입니다.\")\n",
        "else :\n",
        "  print(\"평년 입니다.\")\n"
      ],
      "metadata": {
        "id": "PN9FEjzTMU1t",
        "colab": {
          "base_uri": "https://localhost:8080/"
        },
        "outputId": "6a573714-7d90-4623-926d-d13eb6a6c039"
      },
      "execution_count": null,
      "outputs": [
        {
          "output_type": "stream",
          "name": "stdout",
          "text": [
            "연도를 입력 ==> 2021\n",
            "평년 입니다.\n"
          ]
        }
      ]
    },
    {
      "cell_type": "code",
      "source": [
        "s = int(input(\"시작값 ==> \"))\n",
        "e = int(input(\"끝값 ==> \"))\n",
        "inc = int(input(\"증가값 ==> \"))\n",
        "i, hap = 0,0\n",
        "total=0\n",
        "\n",
        "for i in range(s,e+1,inc):\n",
        "  hap = 0\n",
        "  hap += i\n",
        "  total += hap\n",
        "\n",
        "print(\"%d에서 %d까지 %d씩 증가한 값의 합: %d\"%(s, e,inc,a))"
      ],
      "metadata": {
        "id": "gUzgj0hFu4w0",
        "colab": {
          "base_uri": "https://localhost:8080/"
        },
        "outputId": "6fc2a2cb-e7d5-4ce3-9a9c-8e6cfc8c47d7"
      },
      "execution_count": null,
      "outputs": [
        {
          "output_type": "stream",
          "name": "stdout",
          "text": [
            "시작값 ==> 10\n",
            "끝값 ==> 40\n",
            "증가값 ==> 7\n",
            "10에서 40까지 7씩 증가한 값의 합: 120\n"
          ]
        }
      ]
    },
    {
      "cell_type": "code",
      "source": [
        "myList = []\n",
        "for i in range(0,100):\n",
        "  myList.append(0)\n",
        "\n",
        "print(myList)"
      ],
      "metadata": {
        "id": "T7mIYlkTMVGM",
        "colab": {
          "base_uri": "https://localhost:8080/"
        },
        "outputId": "8166c8d3-cc11-4c27-87f2-a73d33dd65e9"
      },
      "execution_count": null,
      "outputs": [
        {
          "output_type": "stream",
          "name": "stdout",
          "text": [
            "[0, 0, 0, 0, 0, 0, 0, 0, 0, 0, 0, 0, 0, 0, 0, 0, 0, 0, 0, 0, 0, 0, 0, 0, 0, 0, 0, 0, 0, 0, 0, 0, 0, 0, 0, 0, 0, 0, 0, 0, 0, 0, 0, 0, 0, 0, 0, 0, 0, 0, 0, 0, 0, 0, 0, 0, 0, 0, 0, 0, 0, 0, 0, 0, 0, 0, 0, 0, 0, 0, 0, 0, 0, 0, 0, 0, 0, 0, 0, 0, 0, 0, 0, 0, 0, 0, 0, 0, 0, 0, 0, 0, 0, 0, 0, 0, 0, 0, 0, 0]\n"
          ]
        }
      ]
    },
    {
      "cell_type": "code",
      "source": [
        "myList = [100,200,300,400,500]\n",
        "\n",
        "hap = 0\n",
        "for i in range(0, 5):\n",
        "  hap += myList[i]\n",
        "\n",
        "print(hap)"
      ],
      "metadata": {
        "colab": {
          "base_uri": "https://localhost:8080/"
        },
        "id": "_ceuTrKVZJ6s",
        "outputId": "a1b4874c-36da-4936-8a31-137d2e89334f"
      },
      "execution_count": null,
      "outputs": [
        {
          "output_type": "stream",
          "name": "stdout",
          "text": [
            "1500\n"
          ]
        }
      ]
    },
    {
      "cell_type": "code",
      "source": [
        "myList = [100,200,300,400,500]\n",
        "\n",
        "print(myList[4])\n",
        "print(myList[-1])"
      ],
      "metadata": {
        "colab": {
          "base_uri": "https://localhost:8080/"
        },
        "id": "0L6EMw2FaPYt",
        "outputId": "514b957c-1e91-42a3-b730-0082b33a1c62"
      },
      "execution_count": null,
      "outputs": [
        {
          "output_type": "stream",
          "name": "stdout",
          "text": [
            "500\n",
            "500\n"
          ]
        }
      ]
    },
    {
      "cell_type": "code",
      "source": [
        "myList = [100,200,300,400,500]\n",
        "\n",
        "print(myList[2:])"
      ],
      "metadata": {
        "colab": {
          "base_uri": "https://localhost:8080/"
        },
        "id": "VEaGh2f_bNFO",
        "outputId": "348836cd-449d-407d-9c25-94478590b725"
      },
      "execution_count": null,
      "outputs": [
        {
          "output_type": "stream",
          "name": "stdout",
          "text": [
            "[300, 400, 500]\n"
          ]
        }
      ]
    },
    {
      "cell_type": "code",
      "source": [
        "myList = [200,100,500,300,400]\n",
        "myList.sort(reverse = True)\n",
        "print(myList)"
      ],
      "metadata": {
        "colab": {
          "base_uri": "https://localhost:8080/"
        },
        "id": "7AVlmKA8bT5h",
        "outputId": "098124c6-9b55-4f50-cb09-9cc9fc94ac2b"
      },
      "execution_count": null,
      "outputs": [
        {
          "output_type": "stream",
          "name": "stdout",
          "text": [
            "[500, 400, 300, 200, 100]\n"
          ]
        }
      ]
    },
    {
      "cell_type": "code",
      "source": [
        "myTup = (200,100,500,300,400)\n",
        "len(myTup)"
      ],
      "metadata": {
        "colab": {
          "base_uri": "https://localhost:8080/"
        },
        "id": "MEojOex_bit7",
        "outputId": "05bac496-2ded-4bd4-a0ba-fd0406b76158"
      },
      "execution_count": null,
      "outputs": [
        {
          "output_type": "execute_result",
          "data": {
            "text/plain": [
              "5"
            ]
          },
          "metadata": {},
          "execution_count": 39
        }
      ]
    },
    {
      "cell_type": "code",
      "source": [
        "myDict = {1:'a', 2:'b', 3:'c'}\n",
        "print(myDict[1])"
      ],
      "metadata": {
        "colab": {
          "base_uri": "https://localhost:8080/"
        },
        "id": "x5KzYTp4b3MI",
        "outputId": "e8bb7efc-2e23-4136-f133-10b796fcf31c"
      },
      "execution_count": null,
      "outputs": [
        {
          "output_type": "stream",
          "name": "stdout",
          "text": [
            "a\n"
          ]
        }
      ]
    },
    {
      "cell_type": "code",
      "source": [
        "result = [0]*6\n",
        "import random\n",
        "print('주사위를 100회 던집니다.')\n",
        "total = 0\n",
        "avg = 0\n",
        "\n",
        "result=[0]*6\n",
        "for i in range(100):\n",
        "    dice=random.randint(1,6)\n",
        "    total += dice\n",
        "    avg = total/100\n",
        "\n",
        "print(\"100번 던진 주사위 값의 평균은\",avg,\"입니다.\")"
      ],
      "metadata": {
        "colab": {
          "base_uri": "https://localhost:8080/"
        },
        "id": "oitT5m1TcaE0",
        "outputId": "57aa2965-3065-4dcd-cdd7-62eed4de90a9"
      },
      "execution_count": null,
      "outputs": [
        {
          "output_type": "stream",
          "name": "stdout",
          "text": [
            "주사위를 100회 던집니다.\n",
            "100번 던진 주사위 값의 평균은 3.83 입니다.\n"
          ]
        }
      ]
    },
    {
      "cell_type": "code",
      "source": [
        "class Car :\n",
        "  # 자동차의 속성\n",
        "  color = \"\"\n",
        "  speed = 0\n",
        "\n",
        "  # 자동차의 행동\n",
        "  def upSpeed(증가할_속도량):\n",
        "    # 현재 속도에서 증가할_속도량만큼 속도를 올리는 코드\n",
        "  def downSpeed(감소할_속도량):\n",
        "    # 현재 속도에서 증가할_속도량만큼 속도를 내리는 코드\n",
        "\n",
        "# 차량1의 색상은 빨강이고, 현재 속도는 30입니다.\n",
        "# 차량2의 색상은 파랑이고, 현재 속도는 60입니다.\n",
        "\n",
        "class Car1 :\n",
        "  color = 'red'\n",
        "  speed = '30'\n",
        "\n",
        "class Car2 :\n",
        "  color = 'blue'\n",
        "  speed = '60'"
      ],
      "metadata": {
        "colab": {
          "base_uri": "https://localhost:8080/",
          "height": 135
        },
        "id": "_7KCwcoft1hm",
        "outputId": "30c02df9-a024-401f-c8fa-718ec4d3f27f"
      },
      "execution_count": null,
      "outputs": [
        {
          "output_type": "error",
          "ename": "IndentationError",
          "evalue": "ignored",
          "traceback": [
            "\u001b[0;36m  File \u001b[0;32m\"<ipython-input-49-093c498ce750>\"\u001b[0;36m, line \u001b[0;32m9\u001b[0m\n\u001b[0;31m    def downSpeed(감소할_속도량):\u001b[0m\n\u001b[0m    ^\u001b[0m\n\u001b[0;31mIndentationError\u001b[0m\u001b[0;31m:\u001b[0m expected an indented block after function definition on line 7\n"
          ]
        }
      ]
    },
    {
      "cell_type": "code",
      "source": [
        "pocket = ['스마트폰','교통카드','현금']\n",
        "item = input('결제 수단 입력:')\n",
        "price = 2000\n",
        "if item in pocket and item == '현금':\n",
        "  print('택시를 타세요.')\n",
        "elif item in pocket and item == '교통카드':\n",
        "  print('버스를 타세요.')\n",
        "else:\n",
        "  print('걸어가세요.')"
      ],
      "metadata": {
        "id": "lOMkxlxNt1o2",
        "colab": {
          "base_uri": "https://localhost:8080/"
        },
        "outputId": "37e479bc-b994-4cf0-b43a-352dc291631a"
      },
      "execution_count": null,
      "outputs": [
        {
          "output_type": "stream",
          "name": "stdout",
          "text": [
            "결제 수단 입력:현금\n",
            "택시를 타세요.\n"
          ]
        }
      ]
    },
    {
      "cell_type": "code",
      "source": [
        "import random\n",
        "rps = ['가위', '바위','보']\n",
        "com = random.choice(rps)\n",
        "player = input('가위, 바위, 보 중에서 하나 입력: ')\n",
        "if player == '가위':\n",
        "  if com == '가위':\n",
        "    result = '비김'\n",
        "  elif com == '바위':\n",
        "    result = '졌음'\n",
        "  elif com == '보':\n",
        "    result = '이김'\n",
        "elif player == '바위':\n",
        "  if com == '가위':\n",
        "    result = '이김'\n",
        "  elif com == '바위':\n",
        "    result = '비김'\n",
        "  elif com == '보':\n",
        "    result = '졌음'\n",
        "elif player == '보':\n",
        "  if com == '가위':\n",
        "    result = '졌음'\n",
        "  elif com == '바위':\n",
        "    result = '이김'\n",
        "  elif com == '보':\n",
        "    result = '비김'\n",
        "elif player =="
      ],
      "metadata": {
        "id": "vEjluNJbt1sB"
      },
      "execution_count": null,
      "outputs": []
    },
    {
      "cell_type": "code",
      "source": [
        "# 자동차 클래스 만들기\n",
        "class Car :\n",
        "  # 멤버 변수\n",
        "  manufabturer = ''\n",
        "  color = ''\n",
        "  price = 0\n",
        "  displacement = 0\n",
        "  fuel = ''\n",
        "  x = ''\n",
        "  y = ''\n",
        "\n",
        "  # 클래스 생성자\n",
        "  def __init__(self, manufacturer = 'none', color = 'none'):\n",
        "    self.manufacturer = manufacturer\n",
        "    self.cokir = color\n",
        "\n",
        "  # 멤버 메서드(함수)\n",
        "  def forward(self):\n",
        "    self.x += 10\n",
        "  def bacward(self):\n",
        "    self.x -= 10\n",
        "  def stop(self):\n",
        "    prnt(\"멈춘다.\")\n",
        "  def onMusic(self):\n",
        "    prnt(\"음악을 켠다.\")\n",
        "  def onHeater(self):\n",
        "    prnt(\"히터를 켠다.\")\n",
        "  def onMusic(self,x,y):\n",
        "    self.x += x\n",
        "    self.y += y\n",
        "    prnt(\"현재 위치에서 (',x,',',y,') 만큼 이동한다.\")\n",
        "  def showInfo(self):\n",
        "    print('제조사: ',self.manufanturer, '색상:',self.color,'위치: (', self.x,',', self.y,')')\n",
        "    print('============')\n",
        "\n",
        "car1 = Car()\n",
        "print(car1.manufacturer)\n",
        "print(car.color)\n",
        "car1.color = '노랑'\n",
        "car1.showInfo()\n",
        "\n",
        "car2 = Car('가아','노랑')\n",
        "car2.showInfo()\n",
        "\n",
        "for i in range(5):\n",
        "  car2.forward()\n",
        "car2.showInfo()\n",
        "\n",
        "car2.color = '초록'\n",
        "car2.showInfo()\n",
        "\n",
        "car2.move(100,200)\n",
        "car2.showInfo()\n",
        "\n",
        "car3 = Car()\n",
        "car3.showInfo()\n",
        "\n",
        "# 클래스 소멸자\n",
        "def __dek__(self):\n",
        "  print(self.manufacturer, '차는 이제 소멸됩니다.')\n",
        "\n",
        "car3 = Car('쌍용','파랑')\n",
        "car3.showInfo()\n",
        "del(car3)\n",
        "car3.showInfo()\n",
        "\n",
        "# 덧셈 연산자 정의\n",
        "def __add__(self, other):\n",
        "  print(self.manufacuture,'와',other.manufacturer,\"가 합병되었습니다.\")\n",
        "car1 = Car('현대','빨강')\n",
        "car2 = Car('기아','노랑')\n",
        "car1.showInfo()\n",
        "car2.showInfo()\n",
        "car1 + car2\n"
      ],
      "metadata": {
        "id": "sow2S67Tt1v-",
        "colab": {
          "base_uri": "https://localhost:8080/",
          "height": 260
        },
        "outputId": "68708686-65c0-47dc-c268-4e1cb9fe47b4"
      },
      "execution_count": 2,
      "outputs": [
        {
          "output_type": "stream",
          "name": "stdout",
          "text": [
            "none\n"
          ]
        },
        {
          "output_type": "error",
          "ename": "NameError",
          "evalue": "ignored",
          "traceback": [
            "\u001b[0;31m---------------------------------------------------------------------------\u001b[0m",
            "\u001b[0;31mNameError\u001b[0m                                 Traceback (most recent call last)",
            "\u001b[0;32m<ipython-input-2-3ec61cee70d7>\u001b[0m in \u001b[0;36m<cell line: 38>\u001b[0;34m()\u001b[0m\n\u001b[1;32m     36\u001b[0m \u001b[0mcar1\u001b[0m \u001b[0;34m=\u001b[0m \u001b[0mCar\u001b[0m\u001b[0;34m(\u001b[0m\u001b[0;34m)\u001b[0m\u001b[0;34m\u001b[0m\u001b[0;34m\u001b[0m\u001b[0m\n\u001b[1;32m     37\u001b[0m \u001b[0mprint\u001b[0m\u001b[0;34m(\u001b[0m\u001b[0mcar1\u001b[0m\u001b[0;34m.\u001b[0m\u001b[0mmanufacturer\u001b[0m\u001b[0;34m)\u001b[0m\u001b[0;34m\u001b[0m\u001b[0;34m\u001b[0m\u001b[0m\n\u001b[0;32m---> 38\u001b[0;31m \u001b[0mprint\u001b[0m\u001b[0;34m(\u001b[0m\u001b[0mcar\u001b[0m\u001b[0;34m.\u001b[0m\u001b[0mcolor\u001b[0m\u001b[0;34m)\u001b[0m\u001b[0;34m\u001b[0m\u001b[0;34m\u001b[0m\u001b[0m\n\u001b[0m\u001b[1;32m     39\u001b[0m \u001b[0mcar1\u001b[0m\u001b[0;34m.\u001b[0m\u001b[0mcolor\u001b[0m \u001b[0;34m=\u001b[0m \u001b[0;34m'노랑'\u001b[0m\u001b[0;34m\u001b[0m\u001b[0;34m\u001b[0m\u001b[0m\n\u001b[1;32m     40\u001b[0m \u001b[0mcar1\u001b[0m\u001b[0;34m.\u001b[0m\u001b[0mshowInfo\u001b[0m\u001b[0;34m(\u001b[0m\u001b[0;34m)\u001b[0m\u001b[0;34m\u001b[0m\u001b[0;34m\u001b[0m\u001b[0m\n",
            "\u001b[0;31mNameError\u001b[0m: name 'car' is not defined"
          ]
        }
      ]
    },
    {
      "cell_type": "code",
      "source": [
        "def is_hexadecimal(character):\n",
        "  return all(c.isdigit() or c.lower() in 'abcdef' for c in character)\n",
        "\n",
        "for i in range(4):\n",
        "  character = input(\"16진수 한 글자를 입력 -> \")\n",
        "  if is_hexadecimal(character) and int(character, 16):\n",
        "    decimal_number = int(character, 16)\n",
        "    print(\"10진수 => \",decimal_number)\n",
        "  else:\n",
        "    print(\"16진수가 아닙니다.\")"
      ],
      "metadata": {
        "id": "HRYPifR3t2BN",
        "colab": {
          "base_uri": "https://localhost:8080/"
        },
        "outputId": "f26d59b6-4fbd-446b-d61b-193d7dfd5097"
      },
      "execution_count": 3,
      "outputs": [
        {
          "output_type": "stream",
          "name": "stdout",
          "text": [
            "16진수 한 글자를 입력 -> 8\n",
            "10진수 =>  8\n",
            "16진수 한 글자를 입력 -> A\n",
            "10진수 =>  10\n",
            "16진수 한 글자를 입력 -> D\n",
            "10진수 =>  13\n",
            "16진수 한 글자를 입력 -> z\n",
            "16진수가 아닙니다.\n"
          ]
        }
      ]
    },
    {
      "cell_type": "code",
      "source": [
        "num =  input(\"2자리 정수를 입력(10~99) -> \")\n",
        "\n",
        "if len(num) == 2 and num[0] ==num[1]:\n",
        "  print(\"yes! 10의자리와 1의 자리가 같습니다.\")\n",
        "else :\n",
        "  print(\"no! 10의 자리와 1의 자리가 다릅니다.\")"
      ],
      "metadata": {
        "colab": {
          "base_uri": "https://localhost:8080/"
        },
        "id": "q9hTOCzpdLy6",
        "outputId": "0a5ba47e-7651-45cc-dccf-454acac163b9"
      },
      "execution_count": 5,
      "outputs": [
        {
          "output_type": "stream",
          "name": "stdout",
          "text": [
            "2자리 정수를 입력(10~99) -> 63\n",
            "no! 10의 자리와 1의 자리가 다릅니다.\n"
          ]
        }
      ]
    },
    {
      "cell_type": "code",
      "source": [
        "for i in range(3):\n",
        "  year = int(input(\"연도를 입력하세요. (1~2021의 수) -> \"))\n",
        "\n",
        "  if year % 4 == 0:\n",
        "    if year % 100 == 0:\n",
        "      if year % 400 == 0:\n",
        "        print(year, '년은 윤년입니다.')\n",
        "      else:\n",
        "        print(year, '년은 윤년이 아닙니다.')\n",
        "    else:\n",
        "      print(year, '년은 윤년입니다.')\n",
        "  else:\n",
        "    print(year,\"년은 윤년이 아닙니다.\")"
      ],
      "metadata": {
        "colab": {
          "base_uri": "https://localhost:8080/"
        },
        "id": "s8ubR-QJd6Lk",
        "outputId": "b5329a78-722f-4680-c2a4-64dbe5faedb7"
      },
      "execution_count": 6,
      "outputs": [
        {
          "output_type": "stream",
          "name": "stdout",
          "text": [
            "연도를 입력하세요. (1~2021의 수) -> 2023\n",
            "2023 년은 윤년이 아닙니다.\n",
            "연도를 입력하세요. (1~2021의 수) -> 2024\n",
            "2024 년은 윤년입니다.\n",
            "연도를 입력하세요. (1~2021의 수) -> 2100\n",
            "2100 년은 윤년이 아닙니다.\n"
          ]
        }
      ]
    },
    {
      "cell_type": "code",
      "source": [
        "number = int(input('1~99 사이의 정수를 입력하세요. ->'))\n",
        "\n",
        "num = str(number)\n",
        "\n",
        "if '3' in num or '6' in num:\n",
        "  if num.count('3') + num.count('6') + num.count('9') == 2:\n",
        "    print('박수짝짝')\n",
        "  else :\n",
        "    print('박수짝')\n",
        "else :\n",
        "  print(num)"
      ],
      "metadata": {
        "colab": {
          "base_uri": "https://localhost:8080/"
        },
        "id": "OFRm-tTPeli9",
        "outputId": "8cdeb8a9-bca2-4f08-8fae-fd0df23c35f3"
      },
      "execution_count": 12,
      "outputs": [
        {
          "output_type": "stream",
          "name": "stdout",
          "text": [
            "1~99 사이의 정수를 입력하세요. ->1\n",
            "1\n"
          ]
        }
      ]
    },
    {
      "cell_type": "code",
      "source": [
        "game_table = [[str(row * 10 + col) for col in range(10)] for row in range(10)]\n",
        "\n",
        "for row in range(10):\n",
        "  for col in range(10):\n",
        "    number = int(game_table[row][col])\n",
        "\n",
        "    num = str(number)\n",
        "\n",
        "    if '3' in num or '6' in num or '9' in num:\n",
        "      if num.count('3') + num.count('6') + num.count('9') == 2 :\n",
        "        game_table[row][col] = '박수짝짝'\n",
        "      else :\n",
        "        game_table[row][col] = '박수짝'\n",
        "    else:\n",
        "      game_table[row][col] = str(number)\n",
        "\n",
        "for row in game_table :\n",
        "  print(\" \".join(row))"
      ],
      "metadata": {
        "colab": {
          "base_uri": "https://localhost:8080/"
        },
        "id": "ObtZoGW5fMhH",
        "outputId": "072a593d-8a00-433e-da74-5d3920fe656b"
      },
      "execution_count": 16,
      "outputs": [
        {
          "output_type": "stream",
          "name": "stdout",
          "text": [
            "0 1 2 박수짝 4 5 박수짝 7 8 박수짝\n",
            "10 11 12 박수짝 14 15 박수짝 17 18 박수짝\n",
            "20 21 22 박수짝 24 25 박수짝 27 28 박수짝\n",
            "박수짝 박수짝 박수짝 박수짝짝 박수짝 박수짝 박수짝짝 박수짝 박수짝 박수짝짝\n",
            "40 41 42 박수짝 44 45 박수짝 47 48 박수짝\n",
            "50 51 52 박수짝 54 55 박수짝 57 58 박수짝\n",
            "박수짝 박수짝 박수짝 박수짝짝 박수짝 박수짝 박수짝짝 박수짝 박수짝 박수짝짝\n",
            "70 71 72 박수짝 74 75 박수짝 77 78 박수짝\n",
            "80 81 82 박수짝 84 85 박수짝 87 88 박수짝\n",
            "박수짝 박수짝 박수짝 박수짝짝 박수짝 박수짝 박수짝짝 박수짝 박수짝 박수짝짝\n"
          ]
        }
      ]
    },
    {
      "cell_type": "code",
      "source": [
        "alphabet = input('소문자 알파뱃 하나를 입력하시오 >> ')\n",
        "\n",
        "for i in range(ord(alphabet),ord('a')-1,-1):\n",
        "  for j in range(ord('a'), i + 1):\n",
        "    print(chr(j), end= \"\")\n",
        "  print()"
      ],
      "metadata": {
        "colab": {
          "base_uri": "https://localhost:8080/"
        },
        "id": "WU3uX0Kvgg02",
        "outputId": "7b6c87d2-c44e-4592-acc4-abb90e271feb"
      },
      "execution_count": 19,
      "outputs": [
        {
          "output_type": "stream",
          "name": "stdout",
          "text": [
            "소문자 알파뱃 하나를 입력하시오 >> z\n",
            "abcdefghijklmnopqrstuvwxyz\n",
            "abcdefghijklmnopqrstuvwxy\n",
            "abcdefghijklmnopqrstuvwx\n",
            "abcdefghijklmnopqrstuvw\n",
            "abcdefghijklmnopqrstuv\n",
            "abcdefghijklmnopqrstu\n",
            "abcdefghijklmnopqrst\n",
            "abcdefghijklmnopqrs\n",
            "abcdefghijklmnopqr\n",
            "abcdefghijklmnopq\n",
            "abcdefghijklmnop\n",
            "abcdefghijklmno\n",
            "abcdefghijklmn\n",
            "abcdefghijklm\n",
            "abcdefghijkl\n",
            "abcdefghijk\n",
            "abcdefghij\n",
            "abcdefghi\n",
            "abcdefgh\n",
            "abcdefg\n",
            "abcdef\n",
            "abcde\n",
            "abcd\n",
            "abc\n",
            "ab\n",
            "a\n"
          ]
        }
      ]
    },
    {
      "cell_type": "code",
      "source": [
        "\n",
        "shapes = [\n",
        "    ['*','**','***',\"****\",'*****','******','*******','********','*********','**********','***********','************','*************','**************','***************'],\n",
        "    ['****************','***************','*************','************','***********','**********','*********','********','*******','******','*****',\"****\",'***','**','*'],\n",
        "    ['***************',' **************','  *************','   ************','    ***********',\n",
        "     '     **********','      *********','       ********','        *******','         ******',\"          *****\",'           ****','            ***','             **','              *'],\n",
        "    ['              *','             **','            ***','           ****',\"          *****\",'         ******','        *******','       ********','      *********','     **********','    ***********','   ************','  *************',' **************','***************'],\n",
        "    ['              *','             ***','            *****','           *******','          *********','         ***********','        *************',\n",
        "     '       ***************','      *****************','     *******************','    *********************','   ***********************','  *************************',' ***************************','*****************************'],\n",
        "    ['*****************************',' ***************************','  *************************','   ***********************','    *********************','     *******************','      *****************','       ***************',\n",
        "     '        *************','         ***********','          *********','           *******','            *****','             ***','              *'],\n",
        "    ['       *','      ***','     *****','    *******','   *********','  ***********',' *************',\n",
        "     '***************',' *************','  ***********','   *********','    *******','     *****','      ***','       *'],\n",
        "    ['***************',' *************','  ***********','   *********','    *******','    *****','      ***','       *','      ***',\n",
        "     '     *****',\"    *******\",'   *********','  ***********',' *************','***************']\n",
        "]\n",
        "while True :\n",
        "  shape_number = int(input(\"출력 도형의 모양 번호를 입력하세요. (종료시 0 입력):\"))\n",
        "\n",
        "  if shape_number == 0:\n",
        "    print(\"삼각형 그리기 프로그램을 종료합니다.\")\n",
        "    break\n",
        "\n",
        "  if shape_number < 1 or shape_number > 9:\n",
        "    print(\"올바른 모양 번호를 입력하세요.\")\n",
        "    continue\n",
        "\n",
        "  line_number = int(input(\"출력 도형의 라인 수를 홀수(3~15)로 입력하세요:\"))\n",
        "  if line_number < 3 or line_number > 15 or line_number % 2 == 0:\n",
        "    print(\"올바른 라인 수를 입력하세요.\")\n",
        "    continue\n",
        "\n",
        "\n",
        "  shape = shapes[shape_number - 1]\n",
        "\n",
        "  for i in range(line_number):\n",
        "    print(shape[i])\n"
      ],
      "metadata": {
        "colab": {
          "base_uri": "https://localhost:8080/"
        },
        "id": "wrvjvoImhPuU",
        "outputId": "37a56269-fca0-4094-bef7-4f1552d86131"
      },
      "execution_count": 20,
      "outputs": [
        {
          "output_type": "stream",
          "name": "stdout",
          "text": [
            "출력 도형의 모양 번호를 입력하세요. (종료시 0 입력):4\n",
            "출력 도형의 라인 수를 홀수(3~15)로 입력하세요:5\n",
            "              *\n",
            "             **\n",
            "            ***\n",
            "           ****\n",
            "          *****\n",
            "출력 도형의 모양 번호를 입력하세요. (종료시 0 입력):6\n",
            "출력 도형의 라인 수를 홀수(3~15)로 입력하세요:15\n",
            "*****************************\n",
            " ***************************\n",
            "  *************************\n",
            "   ***********************\n",
            "    *********************\n",
            "     *******************\n",
            "      *****************\n",
            "       ***************\n",
            "        *************\n",
            "         ***********\n",
            "          *********\n",
            "           *******\n",
            "            *****\n",
            "             ***\n",
            "              *\n",
            "출력 도형의 모양 번호를 입력하세요. (종료시 0 입력):0\n",
            "삼각형 그리기 프로그램을 종료합니다.\n"
          ]
        }
      ]
    },
    {
      "cell_type": "code",
      "source": [
        "def check_collision(x1, y1):\n",
        "    base_rect = [(100, 100), (200, 200)]\n",
        "\n",
        "    input_rect = [(x1, y1), (x1 + 100, y1 + 100)]\n",
        "    if base_rect[0][0] > input_rect[1][0] or base_rect[1][0] < input_rect[0][0]:\n",
        "        return False\n",
        "\n",
        "    if base_rect[0][1] > input_rect[1][1] or base_rect[1][1] < input_rect[0][1]:\n",
        "        return False\n",
        "    return True\n",
        "x = int(input(\"왼쪽 위 꼭지점 x 좌표를 입력하세요: \"))\n",
        "y = int(input(\"왼쪽 위 꼭지점 y 좌표를 입력하세요: \"))\n",
        "if check_collision(x, y):\n",
        "    print(\"두 사각형이 충돌하였습니다.\")\n",
        "else:\n",
        "    print(\"두 사각형은 무사합니다.\")\n",
        "\n",
        "\n",
        "\n"
      ],
      "metadata": {
        "colab": {
          "base_uri": "https://localhost:8080/"
        },
        "id": "a5N3Hailhb6_",
        "outputId": "db6078b3-42cd-4669-d10c-057f7435b1d2"
      },
      "execution_count": 21,
      "outputs": [
        {
          "output_type": "stream",
          "name": "stdout",
          "text": [
            "왼쪽 위 꼭지점 x 좌표를 입력하세요: 30\n",
            "왼쪽 위 꼭지점 y 좌표를 입력하세요: 20\n",
            "두 사각형이 충돌하였습니다.\n"
          ]
        }
      ]
    },
    {
      "cell_type": "code",
      "source": [
        "import turtle\n",
        "def check_collision(x1, y1, x2, y2):\n",
        "    base_rect = [(100, 100), (200, 200)]\n",
        "    input_rect = [(x1, y1), (x2, y2)]\n",
        "\n",
        "    if base_rect[0][0] > input_rect[1][0] or base_rect[1][0] < input_rect[0][0]:\n",
        "        return False\n",
        "\n",
        "    if base_rect[0][1] > input_rect[1][1] or base_rect[1][1] < input_rect[0][1]:\n",
        "        return False\n",
        "    return True\n",
        "# 입력받은 사각형 좌표\n",
        "x1 = int(turtle.textinput(\"입력\", \"왼쪽 위 꼭지점 x 좌표를 입력하세요: \"))\n",
        "y1 = int(turtle.textinput(\"입력\", \"왼쪽 위 꼭지점 y 좌표를 입력하세요: \"))\n",
        "x2 = int(turtle.textinput(\"입력\", \"오른쪽 아래 꼭지점 x 좌표를 입력하세요: \"))\n",
        "y2 = int(turtle.textinput(\"입력\", \"오른쪽 아래 꼭지점 y 좌표를 입력하세요: \"))\n",
        "\n",
        "# 충돌 판별\n",
        "if check_collision(x1, y1, x2, y2):\n",
        "    turtle.write(\"두 사각형이 충돌하였습니다.\", False, \"center\", (\"맑은 고딕\", 20))\n",
        "else:\n",
        "    turtle.write(\"두 사각형은 무사합니다.\", False, \"center\", (\"맑은 고딕\", 20))\n",
        "turtle.done()\n",
        "\n"
      ],
      "metadata": {
        "colab": {
          "base_uri": "https://localhost:8080/",
          "height": 391
        },
        "id": "qy9z5XtuhnIY",
        "outputId": "2731073a-d9f1-4dab-d3f3-7f9effb2fcf8"
      },
      "execution_count": 22,
      "outputs": [
        {
          "output_type": "error",
          "ename": "TclError",
          "evalue": "ignored",
          "traceback": [
            "\u001b[0;31m---------------------------------------------------------------------------\u001b[0m",
            "\u001b[0;31mTclError\u001b[0m                                  Traceback (most recent call last)",
            "\u001b[0;32m<ipython-input-22-bc364aa11819>\u001b[0m in \u001b[0;36m<cell line: 13>\u001b[0;34m()\u001b[0m\n\u001b[1;32m     11\u001b[0m     \u001b[0;32mreturn\u001b[0m \u001b[0;32mTrue\u001b[0m\u001b[0;34m\u001b[0m\u001b[0;34m\u001b[0m\u001b[0m\n\u001b[1;32m     12\u001b[0m \u001b[0;31m# 입력받은 사각형 좌표\u001b[0m\u001b[0;34m\u001b[0m\u001b[0;34m\u001b[0m\u001b[0m\n\u001b[0;32m---> 13\u001b[0;31m \u001b[0mx1\u001b[0m \u001b[0;34m=\u001b[0m \u001b[0mint\u001b[0m\u001b[0;34m(\u001b[0m\u001b[0mturtle\u001b[0m\u001b[0;34m.\u001b[0m\u001b[0mtextinput\u001b[0m\u001b[0;34m(\u001b[0m\u001b[0;34m\"입력\"\u001b[0m\u001b[0;34m,\u001b[0m \u001b[0;34m\"왼쪽 위 꼭지점 x 좌표를 입력하세요: \"\u001b[0m\u001b[0;34m)\u001b[0m\u001b[0;34m)\u001b[0m\u001b[0;34m\u001b[0m\u001b[0;34m\u001b[0m\u001b[0m\n\u001b[0m\u001b[1;32m     14\u001b[0m \u001b[0my1\u001b[0m \u001b[0;34m=\u001b[0m \u001b[0mint\u001b[0m\u001b[0;34m(\u001b[0m\u001b[0mturtle\u001b[0m\u001b[0;34m.\u001b[0m\u001b[0mtextinput\u001b[0m\u001b[0;34m(\u001b[0m\u001b[0;34m\"입력\"\u001b[0m\u001b[0;34m,\u001b[0m \u001b[0;34m\"왼쪽 위 꼭지점 y 좌표를 입력하세요: \"\u001b[0m\u001b[0;34m)\u001b[0m\u001b[0;34m)\u001b[0m\u001b[0;34m\u001b[0m\u001b[0;34m\u001b[0m\u001b[0m\n\u001b[1;32m     15\u001b[0m \u001b[0mx2\u001b[0m \u001b[0;34m=\u001b[0m \u001b[0mint\u001b[0m\u001b[0;34m(\u001b[0m\u001b[0mturtle\u001b[0m\u001b[0;34m.\u001b[0m\u001b[0mtextinput\u001b[0m\u001b[0;34m(\u001b[0m\u001b[0;34m\"입력\"\u001b[0m\u001b[0;34m,\u001b[0m \u001b[0;34m\"오른쪽 아래 꼭지점 x 좌표를 입력하세요: \"\u001b[0m\u001b[0;34m)\u001b[0m\u001b[0;34m)\u001b[0m\u001b[0;34m\u001b[0m\u001b[0;34m\u001b[0m\u001b[0m\n",
            "\u001b[0;32m/usr/lib/python3.10/turtle.py\u001b[0m in \u001b[0;36mtextinput\u001b[0;34m(title, prompt)\u001b[0m\n",
            "\u001b[0;32m/usr/lib/python3.10/turtle.py\u001b[0m in \u001b[0;36mScreen\u001b[0;34m()\u001b[0m\n\u001b[1;32m   3662\u001b[0m     else return the existing one.\"\"\"\n\u001b[1;32m   3663\u001b[0m     \u001b[0;32mif\u001b[0m \u001b[0mTurtle\u001b[0m\u001b[0;34m.\u001b[0m\u001b[0m_screen\u001b[0m \u001b[0;32mis\u001b[0m \u001b[0;32mNone\u001b[0m\u001b[0;34m:\u001b[0m\u001b[0;34m\u001b[0m\u001b[0;34m\u001b[0m\u001b[0m\n\u001b[0;32m-> 3664\u001b[0;31m         \u001b[0mTurtle\u001b[0m\u001b[0;34m.\u001b[0m\u001b[0m_screen\u001b[0m \u001b[0;34m=\u001b[0m \u001b[0m_Screen\u001b[0m\u001b[0;34m(\u001b[0m\u001b[0;34m)\u001b[0m\u001b[0;34m\u001b[0m\u001b[0;34m\u001b[0m\u001b[0m\n\u001b[0m\u001b[1;32m   3665\u001b[0m     \u001b[0;32mreturn\u001b[0m \u001b[0mTurtle\u001b[0m\u001b[0;34m.\u001b[0m\u001b[0m_screen\u001b[0m\u001b[0;34m\u001b[0m\u001b[0;34m\u001b[0m\u001b[0m\n\u001b[1;32m   3666\u001b[0m \u001b[0;34m\u001b[0m\u001b[0m\n",
            "\u001b[0;32m/usr/lib/python3.10/turtle.py\u001b[0m in \u001b[0;36m__init__\u001b[0;34m(self)\u001b[0m\n\u001b[1;32m   3678\u001b[0m         \u001b[0;31m# preserved (perhaps by passing it as an optional parameter)\u001b[0m\u001b[0;34m\u001b[0m\u001b[0;34m\u001b[0m\u001b[0m\n\u001b[1;32m   3679\u001b[0m         \u001b[0;32mif\u001b[0m \u001b[0m_Screen\u001b[0m\u001b[0;34m.\u001b[0m\u001b[0m_root\u001b[0m \u001b[0;32mis\u001b[0m \u001b[0;32mNone\u001b[0m\u001b[0;34m:\u001b[0m\u001b[0;34m\u001b[0m\u001b[0;34m\u001b[0m\u001b[0m\n\u001b[0;32m-> 3680\u001b[0;31m             \u001b[0m_Screen\u001b[0m\u001b[0;34m.\u001b[0m\u001b[0m_root\u001b[0m \u001b[0;34m=\u001b[0m \u001b[0mself\u001b[0m\u001b[0;34m.\u001b[0m\u001b[0m_root\u001b[0m \u001b[0;34m=\u001b[0m \u001b[0m_Root\u001b[0m\u001b[0;34m(\u001b[0m\u001b[0;34m)\u001b[0m\u001b[0;34m\u001b[0m\u001b[0;34m\u001b[0m\u001b[0m\n\u001b[0m\u001b[1;32m   3681\u001b[0m             \u001b[0mself\u001b[0m\u001b[0;34m.\u001b[0m\u001b[0m_root\u001b[0m\u001b[0;34m.\u001b[0m\u001b[0mtitle\u001b[0m\u001b[0;34m(\u001b[0m\u001b[0m_Screen\u001b[0m\u001b[0;34m.\u001b[0m\u001b[0m_title\u001b[0m\u001b[0;34m)\u001b[0m\u001b[0;34m\u001b[0m\u001b[0;34m\u001b[0m\u001b[0m\n\u001b[1;32m   3682\u001b[0m             \u001b[0mself\u001b[0m\u001b[0;34m.\u001b[0m\u001b[0m_root\u001b[0m\u001b[0;34m.\u001b[0m\u001b[0mondestroy\u001b[0m\u001b[0;34m(\u001b[0m\u001b[0mself\u001b[0m\u001b[0;34m.\u001b[0m\u001b[0m_destroy\u001b[0m\u001b[0;34m)\u001b[0m\u001b[0;34m\u001b[0m\u001b[0;34m\u001b[0m\u001b[0m\n",
            "\u001b[0;32m/usr/lib/python3.10/turtle.py\u001b[0m in \u001b[0;36m__init__\u001b[0;34m(self)\u001b[0m\n\u001b[1;32m    433\u001b[0m     \u001b[0;34m\"\"\"Root class for Screen based on Tkinter.\"\"\"\u001b[0m\u001b[0;34m\u001b[0m\u001b[0;34m\u001b[0m\u001b[0m\n\u001b[1;32m    434\u001b[0m     \u001b[0;32mdef\u001b[0m \u001b[0m__init__\u001b[0m\u001b[0;34m(\u001b[0m\u001b[0mself\u001b[0m\u001b[0;34m)\u001b[0m\u001b[0;34m:\u001b[0m\u001b[0;34m\u001b[0m\u001b[0;34m\u001b[0m\u001b[0m\n\u001b[0;32m--> 435\u001b[0;31m         \u001b[0mTK\u001b[0m\u001b[0;34m.\u001b[0m\u001b[0mTk\u001b[0m\u001b[0;34m.\u001b[0m\u001b[0m__init__\u001b[0m\u001b[0;34m(\u001b[0m\u001b[0mself\u001b[0m\u001b[0;34m)\u001b[0m\u001b[0;34m\u001b[0m\u001b[0;34m\u001b[0m\u001b[0m\n\u001b[0m\u001b[1;32m    436\u001b[0m \u001b[0;34m\u001b[0m\u001b[0m\n\u001b[1;32m    437\u001b[0m     \u001b[0;32mdef\u001b[0m \u001b[0msetupcanvas\u001b[0m\u001b[0;34m(\u001b[0m\u001b[0mself\u001b[0m\u001b[0;34m,\u001b[0m \u001b[0mwidth\u001b[0m\u001b[0;34m,\u001b[0m \u001b[0mheight\u001b[0m\u001b[0;34m,\u001b[0m \u001b[0mcwidth\u001b[0m\u001b[0;34m,\u001b[0m \u001b[0mcheight\u001b[0m\u001b[0;34m)\u001b[0m\u001b[0;34m:\u001b[0m\u001b[0;34m\u001b[0m\u001b[0;34m\u001b[0m\u001b[0m\n",
            "\u001b[0;32m/usr/lib/python3.10/tkinter/__init__.py\u001b[0m in \u001b[0;36m__init__\u001b[0;34m(self, screenName, baseName, className, useTk, sync, use)\u001b[0m\n\u001b[1;32m   2300\u001b[0m                 \u001b[0mbaseName\u001b[0m \u001b[0;34m=\u001b[0m \u001b[0mbaseName\u001b[0m \u001b[0;34m+\u001b[0m \u001b[0mext\u001b[0m\u001b[0;34m\u001b[0m\u001b[0;34m\u001b[0m\u001b[0m\n\u001b[1;32m   2301\u001b[0m         \u001b[0minteractive\u001b[0m \u001b[0;34m=\u001b[0m \u001b[0;32mFalse\u001b[0m\u001b[0;34m\u001b[0m\u001b[0;34m\u001b[0m\u001b[0m\n\u001b[0;32m-> 2302\u001b[0;31m         \u001b[0mself\u001b[0m\u001b[0;34m.\u001b[0m\u001b[0mtk\u001b[0m \u001b[0;34m=\u001b[0m \u001b[0m_tkinter\u001b[0m\u001b[0;34m.\u001b[0m\u001b[0mcreate\u001b[0m\u001b[0;34m(\u001b[0m\u001b[0mscreenName\u001b[0m\u001b[0;34m,\u001b[0m \u001b[0mbaseName\u001b[0m\u001b[0;34m,\u001b[0m \u001b[0mclassName\u001b[0m\u001b[0;34m,\u001b[0m \u001b[0minteractive\u001b[0m\u001b[0;34m,\u001b[0m \u001b[0mwantobjects\u001b[0m\u001b[0;34m,\u001b[0m \u001b[0museTk\u001b[0m\u001b[0;34m,\u001b[0m \u001b[0msync\u001b[0m\u001b[0;34m,\u001b[0m \u001b[0muse\u001b[0m\u001b[0;34m)\u001b[0m\u001b[0;34m\u001b[0m\u001b[0;34m\u001b[0m\u001b[0m\n\u001b[0m\u001b[1;32m   2303\u001b[0m         \u001b[0;32mif\u001b[0m \u001b[0museTk\u001b[0m\u001b[0;34m:\u001b[0m\u001b[0;34m\u001b[0m\u001b[0;34m\u001b[0m\u001b[0m\n\u001b[1;32m   2304\u001b[0m             \u001b[0mself\u001b[0m\u001b[0;34m.\u001b[0m\u001b[0m_loadtk\u001b[0m\u001b[0;34m(\u001b[0m\u001b[0;34m)\u001b[0m\u001b[0;34m\u001b[0m\u001b[0;34m\u001b[0m\u001b[0m\n",
            "\u001b[0;31mTclError\u001b[0m: no display name and no $DISPLAY environment variable"
          ]
        }
      ]
    },
    {
      "cell_type": "code",
      "source": [],
      "metadata": {
        "id": "x77qFmi0hneo"
      },
      "execution_count": null,
      "outputs": []
    }
  ]
}