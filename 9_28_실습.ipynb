{
  "nbformat": 4,
  "nbformat_minor": 0,
  "metadata": {
    "colab": {
      "provenance": [],
      "collapsed_sections": [],
      "authorship_tag": "ABX9TyMDzRcFHl4H1+C/YasYZEnk",
      "include_colab_link": true
    },
    "kernelspec": {
      "name": "python3",
      "display_name": "Python 3"
    },
    "language_info": {
      "name": "python"
    }
  },
  "cells": [
    {
      "cell_type": "markdown",
      "metadata": {
        "id": "view-in-github",
        "colab_type": "text"
      },
      "source": [
        "<a href=\"https://colab.research.google.com/github/TABARU-muu/2020615076/blob/main/9_28_%EC%8B%A4%EC%8A%B5.ipynb\" target=\"_parent\"><img src=\"https://colab.research.google.com/assets/colab-badge.svg\" alt=\"Open In Colab\"/></a>"
      ]
    },
    {
      "cell_type": "code",
      "execution_count": 3,
      "metadata": {
        "id": "tPJs3BpQixbN",
        "colab": {
          "base_uri": "https://localhost:8080/"
        },
        "outputId": "d35e73d0-2ad2-4fb0-e743-e9998107f40e"
      },
      "outputs": [
        {
          "output_type": "stream",
          "name": "stdout",
          "text": [
            "1+2+...+100000000= 100000000\n",
            "소요 시간은  -113.22865676879883 초입니다.\n"
          ]
        }
      ],
      "source": [
        "import time\n",
        "\n",
        "start=time.time()\n",
        "sum=0\n",
        "for i in range(1,100000001):\n",
        "  sum=sum+1\n",
        "\n",
        "\n",
        "print('1+2+...+100000000=',sum)\n",
        "print('소요 시간은 ', end-start, '초입니다.')"
      ]
    },
    {
      "cell_type": "code",
      "source": [
        "import random\n",
        "import time\n",
        "\n",
        "start=time.time()\n",
        "sum=0\n",
        "for i in range(1,100000001):\n",
        "   sum=sum+random.random()\n",
        "  \n",
        "end=time.time()\n",
        "\n",
        "print('1억개의 실수 난수를 더한 결과는' ,sum)\n",
        "print('소요 시간은 ',end-start, '초입니다.')"
      ],
      "metadata": {
        "id": "r8DRKZ8ooyZt",
        "colab": {
          "base_uri": "https://localhost:8080/"
        },
        "outputId": "bcc078ee-196c-455e-f24d-d0dbbd3584f3"
      },
      "execution_count": 2,
      "outputs": [
        {
          "output_type": "stream",
          "name": "stdout",
          "text": [
            "1억개의 실수 난수를 더한 결과는 49998316.477239326\n",
            "소요 시간은  16.356739282608032 초입니다.\n"
          ]
        }
      ]
    },
    {
      "cell_type": "code",
      "source": [
        "!pip install matplotlib-venn\n",
        "!apt-get -qq install -y libfluidsynth1"
      ],
      "metadata": {
        "colab": {
          "base_uri": "https://localhost:8080/"
        },
        "id": "9BvjE-MmaysU",
        "outputId": "21c7f08e-d563-4e64-d2e0-efeac96f5922"
      },
      "execution_count": 4,
      "outputs": [
        {
          "output_type": "stream",
          "name": "stdout",
          "text": [
            "Looking in indexes: https://pypi.org/simple, https://us-python.pkg.dev/colab-wheels/public/simple/\n",
            "Requirement already satisfied: matplotlib-venn in /usr/local/lib/python3.7/dist-packages (0.11.7)\n",
            "Requirement already satisfied: matplotlib in /usr/local/lib/python3.7/dist-packages (from matplotlib-venn) (3.2.2)\n",
            "Requirement already satisfied: numpy in /usr/local/lib/python3.7/dist-packages (from matplotlib-venn) (1.21.6)\n",
            "Requirement already satisfied: scipy in /usr/local/lib/python3.7/dist-packages (from matplotlib-venn) (1.7.3)\n",
            "Requirement already satisfied: cycler>=0.10 in /usr/local/lib/python3.7/dist-packages (from matplotlib->matplotlib-venn) (0.11.0)\n",
            "Requirement already satisfied: pyparsing!=2.0.4,!=2.1.2,!=2.1.6,>=2.0.1 in /usr/local/lib/python3.7/dist-packages (from matplotlib->matplotlib-venn) (3.0.9)\n",
            "Requirement already satisfied: kiwisolver>=1.0.1 in /usr/local/lib/python3.7/dist-packages (from matplotlib->matplotlib-venn) (1.4.4)\n",
            "Requirement already satisfied: python-dateutil>=2.1 in /usr/local/lib/python3.7/dist-packages (from matplotlib->matplotlib-venn) (2.8.2)\n",
            "Requirement already satisfied: typing-extensions in /usr/local/lib/python3.7/dist-packages (from kiwisolver>=1.0.1->matplotlib->matplotlib-venn) (4.1.1)\n",
            "Requirement already satisfied: six>=1.5 in /usr/local/lib/python3.7/dist-packages (from python-dateutil>=2.1->matplotlib->matplotlib-venn) (1.15.0)\n",
            "Selecting previously unselected package libfluidsynth1:amd64.\n",
            "(Reading database ... 159447 files and directories currently installed.)\n",
            "Preparing to unpack .../libfluidsynth1_1.1.9-1_amd64.deb ...\n",
            "Unpacking libfluidsynth1:amd64 (1.1.9-1) ...\n",
            "Setting up libfluidsynth1:amd64 (1.1.9-1) ...\n",
            "Processing triggers for libc-bin (2.27-3ubuntu1.5) ...\n"
          ]
        }
      ]
    },
    {
      "cell_type": "code",
      "source": [
        "from datetime import datetime\n",
        "\n",
        "# 경기 결과 입력 받는 곳\n",
        "place=input(\"경기가 열린 곳은? \")\n",
        "time=input(\"경기가 열린 시간은? \")\n",
        "opponent=input(\"상대 팀은? \")\n",
        "goals=input(\"손흥민은 몇 골을 넣었나요? \")\n",
        "aids=input(\"도움은 몇 개인가요? \")\n",
        "score_me=input(\"손흥민 팀이 넣은 골 수는? \")\n",
        "score_you=input(\"상대 팀이 넣은 골 수는? \")\n",
        "\n",
        "# 기사 작성하는 곳\n",
        "nowd = datetime.now()\n",
        "news=\"[프리미어 리그 속보(\"+str(datetime.now())+\")]\\n\"\n",
        "news=news+\"손흥민 선수는 \"+place+\"에서 \"+time+\"에 열린 경기에 출전하였습니다. \"\n",
        "news=news+\"상대 팀은 \"+opponent+\"입니다. \"\n",
        "\n",
        "if score_me>score_you:\n",
        "  news=news+\"손흥민 선수의 팀이 \"+score_me+\"골을 넣어 \"+score_you+\"골을 넣은 상대 팀을 이겼습니다. \"\n",
        "elif score_me<score_you:\n",
        "  news=news+\"손흥민 선수의 팀이 \"+score_me+\"골을 넣어 \"+score_you+\"골을 넣은 상대 팀에게 졌습니다. \"\n",
        "else:\n",
        "  news=news+\"두 팀은 \"+score_me+\"대\"+score_you+\"로 비겼습니다. \"\n",
        "\n",
        "if int(goals)>0 and int(aids)>0:\n",
        "  news=news+\"손흥민 선수는 \"+goals+\"골에 도움 \"+aids+\"개로 활약하셨습니다. \"\n",
        "elif int(goals)>0 and int(aids)==0:\n",
        "  news=news+\"손흥민 선수는 \"+goals+\"골 하셨지만 아쉽게도 패배했습니다. \"\n",
        "elif int(goals)==0 and int(aids)>0:\n",
        "  news=news+\"손흥민 선수는 골은 없지만 도움 \"+aids+\"개로 패배했습니다.\"\n",
        "else:\n",
        "   news=news+\"아쉽게도 이번 경기에서 손홍민의 발끝은 침묵을 지켰습니다.\"\n",
        "\n",
        "  \n",
        "  \n",
        "print(news)"
      ],
      "metadata": {
        "id": "j_WsDMLijXav",
        "colab": {
          "base_uri": "https://localhost:8080/"
        },
        "outputId": "2c0fb9db-4204-4c8f-d610-857e58fcd760"
      },
      "execution_count": 13,
      "outputs": [
        {
          "output_type": "stream",
          "name": "stdout",
          "text": [
            "경기가 열린 곳은? 런돈 \n",
            "경기가 열린 시간은? 9월 28일 오후 10시 30분\n",
            "상대 팀은? 멘체스터 유나이티드\n",
            "손흥민은 몇 골을 넣었나요? 4\n",
            "도움은 몇 개인가요? 4\n",
            "손흥민 팀이 넣은 골 수는? 3\n",
            "상대 팀이 넣은 골 수는? 2\n",
            "[프리미어 리그 속보(2022-09-28 14:32:23.782329)]\n",
            "손흥민 선수는 런돈 에서 9월 28일 오후 10시 30분에 열린 경기에 출전하였습니다. 상대 팀은 멘체스터 유나이티드입니다. 손흥민 선수의 팀이 3골을 넣어 2골을 넣은 상대 팀을 이겼습니다. 손흥민 선수는 4골에 도움 4개로 활약하셨습니다. \n"
          ]
        }
      ]
    },
    {
      "cell_type": "code",
      "source": [
        "경기가 열린 곳은?\" 런돈 \n",
        "경기가 열린 시간은? 9월 28일 오후 10시 30분\n",
        "상대 팀은? 멘체스터 유나이티드\n",
        "손흥민은 몇 골을 넣었나요?\n",
        "도움은 몇 개인가요?\n",
        "손흥민 팀이 넣은 골 수는? 4\n",
        "상대 팀이 넣은 골 수는? 2"
      ],
      "metadata": {
        "id": "JJfOgVabnruS"
      },
      "execution_count": null,
      "outputs": []
    },
    {
      "cell_type": "code",
      "source": [
        "# 음성으로 들려주는 곳\n",
        "!pip install gtts playsound\n",
        "\n",
        "from gtts import gTTS\n",
        "import playsound\n",
        "tts=gTTS(text=news,lang='ko') # 문자열 news를 위한 한국어 음성 합성\n",
        "tts.save(\"/content/news_Son.mp3\")"
      ],
      "metadata": {
        "colab": {
          "base_uri": "https://localhost:8080/"
        },
        "id": "svdFf4E-gtfp",
        "outputId": "7716971d-b79d-4254-f5cb-921ad56e0284"
      },
      "execution_count": 19,
      "outputs": [
        {
          "output_type": "stream",
          "name": "stdout",
          "text": [
            "Looking in indexes: https://pypi.org/simple, https://us-python.pkg.dev/colab-wheels/public/simple/\n",
            "Collecting gtts\n",
            "  Downloading gTTS-2.2.4-py3-none-any.whl (26 kB)\n",
            "Collecting playsound\n",
            "  Downloading playsound-1.3.0.tar.gz (7.7 kB)\n",
            "Requirement already satisfied: six in /usr/local/lib/python3.7/dist-packages (from gtts) (1.15.0)\n",
            "Requirement already satisfied: requests in /usr/local/lib/python3.7/dist-packages (from gtts) (2.23.0)\n",
            "Requirement already satisfied: click in /usr/local/lib/python3.7/dist-packages (from gtts) (7.1.2)\n",
            "Requirement already satisfied: chardet<4,>=3.0.2 in /usr/local/lib/python3.7/dist-packages (from requests->gtts) (3.0.4)\n",
            "Requirement already satisfied: certifi>=2017.4.17 in /usr/local/lib/python3.7/dist-packages (from requests->gtts) (2022.6.15)\n",
            "Requirement already satisfied: idna<3,>=2.5 in /usr/local/lib/python3.7/dist-packages (from requests->gtts) (2.10)\n",
            "Requirement already satisfied: urllib3!=1.25.0,!=1.25.1,<1.26,>=1.21.1 in /usr/local/lib/python3.7/dist-packages (from requests->gtts) (1.24.3)\n",
            "Building wheels for collected packages: playsound\n",
            "  Building wheel for playsound (setup.py) ... \u001b[?25l\u001b[?25hdone\n",
            "  Created wheel for playsound: filename=playsound-1.3.0-py3-none-any.whl size=7035 sha256=9ad37dc834fe6be09c46106374c804b6051c42c3693993295c3f00aa8bab60a2\n",
            "  Stored in directory: /root/.cache/pip/wheels/ba/f8/bb/ea57c0146b664dca3a0ada4199b0ecb5f9dfcb7b7e22b65ba2\n",
            "Successfully built playsound\n",
            "Installing collected packages: playsound, gtts\n",
            "Successfully installed gtts-2.2.4 playsound-1.3.0\n"
          ]
        },
        {
          "output_type": "stream",
          "name": "stderr",
          "text": [
            "WARNING:playsound:playsound is relying on another python subprocess. Please use `pip install pygobject` if you want playsound to run more efficiently.\n"
          ]
        }
      ]
    },
    {
      "cell_type": "code",
      "source": [],
      "metadata": {
        "id": "E3lWBhXpg-El"
      },
      "execution_count": null,
      "outputs": []
    }
  ]
}